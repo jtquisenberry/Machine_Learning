{
 "cells": [
  {
   "cell_type": "markdown",
   "metadata": {},
   "source": [
    "# Word2Vec\n",
    "\n",
    "The principle of word2vec is that it is possible to establish the meaning of each word based on the contexts in which it is used. Meanings are encoded as dense vectors.\n",
    "\n",
    "Two words with similar vectors are expected to have similar meanings. "
   ]
  },
  {
   "cell_type": "markdown",
   "metadata": {},
   "source": [
    "## Terms"
   ]
  },
  {
   "cell_type": "markdown",
   "metadata": {},
   "source": [
    "### Vocabulary\n",
    "A vocabulary is a set of words in a corpus that vectors are calcuated for. \n",
    "\n",
    "Center\n",
    "\n"
   ]
  },
  {
   "cell_type": "markdown",
   "metadata": {},
   "source": [
    "# Skip-gram Algorithm\n",
    "\n",
    "## Principle\n",
    "Go through each word position `t` in text. For the word at position `t` is a `center word`. Each word surrounding the center word is a `context word`. The algorithm considers words within a fixed distance of the center word. The fixed distance is a `window`. \n",
    "\n",
    "Let `c` be a center word and `o` be a context word.\n",
    "\n",
    "Use the similarity of word vectors for `c` and `o` to calculate `P(o|c)` or `P(c|o)`. Adjust the word vectors to maximize the probability."
   ]
  },
  {
   "cell_type": "markdown",
   "metadata": {},
   "source": [
    "### Example: Window of Size 2\n",
    "\n",
    "Let `w` be a word at the subscripted position. \n",
    "\n",
    "$ P(w_{t-2}|w_{t}) \\; P(w_{t-1}|w_{t}) \\;\\;\\;\\;\\;\\;\\;\\;\\;\\;  P(w_{t+1}|w_{t}) \\; P(w_{t+2}|w_{t})    $<br>\n",
    "$problems \\;\\; turning \\;\\;\\;\\;\\; into \\;\\;\\;\\;\\; banking \\;\\;\\;\\; crisis$<br>\n",
    "$window \\;\\;\\;\\;  window \\;\\;\\;\\; center \\;\\; window \\;\\;\\;\\; window$<br>\n",
    "\n",
    "$ P(w_{t-2}|w_{t}) \\; P(w_{t-1}|w_{t}) \\;\\;\\;\\;\\;\\;\\;\\;\\;\\;\\;\\;\\;  P(w_{t+1}|w_{t}) \\; P(w_{t+2}|w_{t})    $<br>\n",
    "$turning \\;\\;\\;\\;\\; into \\;\\;\\;\\;\\;\\;\\;\\;\\; banking \\;\\; crisis \\;\\;\\;\\;\\;\\;\\; as$<br>\n",
    "$window \\;\\;\\;\\;  window \\;\\;\\;\\; center \\;\\;\\;\\; window \\;\\;\\;\\; window$<br>\n",
    "\n",
    "The goal is to maximize the product of these probabilities."
   ]
  },
  {
   "cell_type": "markdown",
   "metadata": {},
   "source": [
    "# Word2vec: Likelihood\n",
    "\n",
    "For each position `t = 1`, ..., `T`, predict context words within a window of fixed size `m`, given center word w[t]."
   ]
  },
  {
   "cell_type": "markdown",
   "metadata": {},
   "source": [
    "$T = number \\; of words \\; in \\; a \\; corpus $ <br>\n",
    "$t = position \\; of \\; current \\; word  $ <br>\n",
    "$m = size \\; of \\; window, \\; \\pm m \\; words $ <br>\n",
    "$w = word \\; at \\; a \\; given \\; position $ <br>\n",
    "$\\theta = contents \\; of \\; the \\; vector, \\; which \\; will \\; be \\; changed $ <br>\n",
    "$L = likelihood$\n"
   ]
  },
  {
   "cell_type": "markdown",
   "metadata": {},
   "source": [
    "For each word in the corpus, for each word in the window, get the probability that the context word is within the window of the given center word."
   ]
  },
  {
   "cell_type": "markdown",
   "metadata": {},
   "source": [
    "$$ L(\\theta ) = \\prod_{t = 1}^{T}\\prod_{-m \\leq j \\leq m, j \\ne 0}^{} P(w_{t+j}|w_{t};\\theta) $$\n"
   ]
  },
  {
   "cell_type": "markdown",
   "metadata": {},
   "source": [
    "# Word2vec: Objective Function\n",
    "The objective function is the average negative log likelihood. It is also called the cost function or loss function. We minimize the objective function in order to maximize predictive accuracy."
   ]
  },
  {
   "cell_type": "markdown",
   "metadata": {},
   "source": [
    "$$ J(\\theta ) = -\\frac{1}{T}log  \\; L(\\theta) =  -\\frac{1}{T} \\sum_{t = 1}^{T}\\sum_{-m \\leq j \\leq m, j \\ne 0}^{} log \\; P(w_{t+j}|w_{t};\\theta) $$"
   ]
  },
  {
   "cell_type": "markdown",
   "metadata": {},
   "source": [
    "For center word `c` and context word `o`"
   ]
  },
  {
   "cell_type": "markdown",
   "metadata": {},
   "source": [
    "$w = a \\; given \\; word $ <br>\n",
    "$v_{w} = vector \\; of \\; word \\; when \\; word \\; is \\; a \\; center \\; word $ <br>\n",
    "$u_{w} = vector \\; of \\; word \\; when \\; word \\; is \\; a \\; context \\; word $ <br>\n",
    "$c = center \\; word  $ <br>\n",
    "$o = context \\; word  $ <br>\n",
    "$u_o^Tv_c = dot \\; product = u_o \\cdot v_c$ <br>\n",
    "$u_w^Tv_c = dot \\; product = u_w \\cdot v_c$ <br>\n"
   ]
  },
  {
   "cell_type": "markdown",
   "metadata": {},
   "source": [
    "## Question \n",
    "How to calculate? \n",
    "$$  P(w_{t+j}|w_{t};\\theta) $$<br>\n",
    "\n",
    "## Answer\n",
    "We will use two vectors per word $w$:\n",
    "*  $v_w$ when w is a center word\n",
    "*  $u_w$ when w is a context word\n"
   ]
  },
  {
   "cell_type": "markdown",
   "metadata": {},
   "source": [
    "Then for a center word `c` and context word `o`:\n",
    "\n",
    "$$ P(o|c) = \\frac{exp(u_o^{\\intercal}v_c)}{\\sum_{w \\in v} exp(u_w^{\\intercal} v_c)} $$"
   ]
  },
  {
   "cell_type": "markdown",
   "metadata": {},
   "source": [
    "Characteristics of the equation.\n",
    "\n",
    "$exp$: Exponentiation makes anything positive.<br>\n",
    "$u_o^{\\intercal}v_c$: <br>\n",
    "&nbsp;&nbsp;&nbsp;&nbsp;&nbsp;&nbsp; Dot product compares similarity of `o` and `c`. It is the element-wise product.<br>\n",
    "&nbsp;&nbsp;&nbsp;&nbsp;&nbsp;&nbsp; $u^{\\intercal}v = u.v = \\sum_{i=1}^{n} u_iv_i$ <br>\n",
    "&nbsp;&nbsp;&nbsp;&nbsp;&nbsp;&nbsp; Large dot product = larger probability<br>\n",
    "$\\sum_{w \\in v} exp(u_w^{\\intercal} v_c)$: Normalize over the entire vocabulary to give probability distribution.<br>\n",
    "$w \\in V$: If the word is a member of the vocabulary."
   ]
  },
  {
   "cell_type": "markdown",
   "metadata": {},
   "source": [
    "This is an example of the softmax function. "
   ]
  },
  {
   "cell_type": "markdown",
   "metadata": {},
   "source": [
    "$softmax(x_i) =  \\frac{exp(x_{i})}{\\sum_{j=1}^{n} exp(x_{j})} =  p_{i}$"
   ]
  },
  {
   "cell_type": "markdown",
   "metadata": {},
   "source": [
    "Softmax in code."
   ]
  },
  {
   "cell_type": "code",
   "execution_count": 1,
   "metadata": {},
   "outputs": [
    {
     "data": {
      "text/plain": [
       "array([0.02364054, 0.06426166, 0.1746813 , 0.474833  , 0.02364054,\n",
       "       0.06426166, 0.1746813 ])"
      ]
     },
     "execution_count": 1,
     "metadata": {},
     "output_type": "execute_result"
    }
   ],
   "source": [
    "import numpy as np\n",
    "a = [1.0, 2.0, 3.0, 4.0, 1.0, 2.0, 3.0]\n",
    "np.exp(a) / np.sum(np.exp(a)) \n",
    "#array([0.02364054, 0.06426166, 0.1746813, 0.474833, 0.02364054,\n",
    "#       0.06426166, 0.1746813])"
   ]
  },
  {
   "cell_type": "markdown",
   "metadata": {},
   "source": [
    "We need to minimize $J(\\theta)$. Let's start with the derivative of $J(\\theta)$ w.r.t $v_{c}$"
   ]
  },
  {
   "cell_type": "markdown",
   "metadata": {},
   "source": [
    "$$\\frac{\\partial J(\\theta)}{\\partial v_{c}} = \\frac{\\partial}{\\partial v_{c}}(log(exp(u_{o}^{\\intercal}v_{c}))) - \\frac{\\partial}{\\partial v_{c}}(log \\sum_{w=1}^{v}exp(u_{w}^{\\intercal}v_{c}))$$"
   ]
  },
  {
   "cell_type": "markdown",
   "metadata": {},
   "source": [
    "Break the equation into two parts and solve them individually. For the first part, since log(exp(x)) = x: "
   ]
  },
  {
   "cell_type": "markdown",
   "metadata": {},
   "source": [
    "$$\\frac{\\partial}{\\partial v_{c}}(log(exp(u_{o}^{\\intercal}v_{c}))) = \\frac{\\partial}{\\partial v_{c}}(u_{o}^{\\intercal}v_{c}) = u_{o}$$"
   ]
  },
  {
   "cell_type": "markdown",
   "metadata": {},
   "source": [
    "$$\\frac{\\partial }{\\partial v_{c}}(log(exp(u_{o}^{\\intercal}v_{c}))) = \\frac{\\partial }{\\partial v_{c}}(u_{o}^{\\intercal}v_{c}) = u_{0}$$"
   ]
  },
  {
   "cell_type": "markdown",
   "metadata": {},
   "source": [
    "## Second Part of the Equation\n",
    "Take the derivative of log(x) and move the derivative inside the summation. First recall that."
   ]
  },
  {
   "cell_type": "markdown",
   "metadata": {},
   "source": [
    "$\\frac{d}{dx}ln(x) = \\frac{1}{x}$<br>\n",
    "$\\frac{d}{dx}ln[f(x)] = \\frac{1}{f'(x)}$<br>\n",
    "$\\frac{d}{dx}\\sum x = \\sum \\frac{d}{dx}x$<br>\n",
    "Chain rule: $\\frac{d}{dx}f(g(x)) = f'g(x) * g'(x)$"
   ]
  },
  {
   "cell_type": "markdown",
   "metadata": {},
   "source": [
    "$$\\frac{1}{\\sum_{w=1}^{v}exp(u_{w}^{\\intercal}v_{c})}\\sum_{x=1}^{v}\\frac{\\partial}{\\partial v_{c}}exp(u_{x}^{\\intercal}v_{c})$$"
   ]
  },
  {
   "cell_type": "markdown",
   "metadata": {},
   "source": [
    "$$\\sum_{x=1}^{v} \\frac{exp(u_{x}^{\\intercal}v_{c})}{\\sum_{w=1}^{v}exp(u_{w}^{\\intercal}v_{c})} * u_{x} $$"
   ]
  },
  {
   "cell_type": "markdown",
   "metadata": {},
   "source": [
    "$$\\sum_{x=1}^{v} P(x|c) * u_{x}$$"
   ]
  },
  {
   "cell_type": "markdown",
   "metadata": {},
   "source": [
    "$$\\frac{\\partial J(\\theta)}{\\partial v_{c}} = -u_{0} + \\sum_{x=1}^{v} P(x|c) * u_{x}$$"
   ]
  },
  {
   "cell_type": "markdown",
   "metadata": {},
   "source": [
    "`if w not equal 0`\n",
    "$$ \\frac{\\partial J(\\theta)}{\\partial u_{w}} = \\sum_{x=1}^{v} P(x|c) * v_{c}$$"
   ]
  },
  {
   "cell_type": "markdown",
   "metadata": {},
   "source": [
    "`if w equal 0`\n",
    "$$ \\frac{\\partial J(\\theta)}{\\partial u_{w}} = -v + \\sum_{x=1}^{v} P(x|c) * v_{c}$$"
   ]
  },
  {
   "cell_type": "markdown",
   "metadata": {},
   "source": [
    "$$ \\frac{\\partial J(\\theta)}{\\partial v_{c}} = - \\sigma(-u_{o}^{\\intercal}\n",
    "v_{c})u_{o} + \\sum_{k=1}^{K} \\sigma(u_{k}^{\\intercal} v_{c})u_{k}$$"
   ]
  },
  {
   "cell_type": "markdown",
   "metadata": {},
   "source": [
    "$$ \\frac{\\partial J(\\theta)}{\\partial u_{o}}  = - \\sigma(-u_{o}^{\\intercal}\n",
    "v_{c})v_{c} $$"
   ]
  },
  {
   "cell_type": "markdown",
   "metadata": {},
   "source": [
    "$$ \\frac{\\partial J(\\theta)}{\\partial u_{k}} = \\sum _{k=1}^{K} \\sigma(u_{k}^{\\intercal}v_{c})v_{c}$$"
   ]
  },
  {
   "cell_type": "markdown",
   "metadata": {},
   "source": []
  }
 ],
 "metadata": {
  "kernelspec": {
   "display_name": "Python 3",
   "language": "python",
   "name": "python3"
  },
  "language_info": {
   "codemirror_mode": {
    "name": "ipython",
    "version": 3
   },
   "file_extension": ".py",
   "mimetype": "text/x-python",
   "name": "python",
   "nbconvert_exporter": "python",
   "pygments_lexer": "ipython3",
   "version": "3.6.6"
  }
 },
 "nbformat": 4,
 "nbformat_minor": 2
}
