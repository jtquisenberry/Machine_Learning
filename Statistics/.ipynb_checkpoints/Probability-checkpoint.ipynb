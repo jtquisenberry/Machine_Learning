{
 "cells": [
  {
   "cell_type": "markdown",
   "id": "disabled-level",
   "metadata": {},
   "source": [
    "# Probability"
   ]
  },
  {
   "cell_type": "markdown",
   "id": "million-boost",
   "metadata": {},
   "source": [
    "# Tests for Independent vs. Dependent Events\n",
    "\n",
    "https://www.wyzant.com/resources/lessons/math/statistics_and_probability/probability/further_concepts_in_probability\n"
   ]
  },
  {
   "cell_type": "markdown",
   "id": "thrown-surveillance",
   "metadata": {},
   "source": [
    "B and A are independent if<br>\n",
    "$P(B|A) = P(B)$<br>\n",
    "<br>\n",
    "Independent Events<br>\n",
    "$P(A ∩ B) = P(A) * P(B)$<br>\n",
    "<br>\n",
    "Dependent Events<br>\n",
    "$P(A ∩ B) = P(A ∪ B) - (P(A \\ only) + P(B \\ only))$<br>"
   ]
  },
  {
   "cell_type": "markdown",
   "id": "electrical-mills",
   "metadata": {},
   "source": [
    "# Independent Events\n",
    "\n",
    "https://www.enotes.com/homework-help/bag-contains-4-red-balls-3-green-balls-5-yellow-180063"
   ]
  },
  {
   "cell_type": "markdown",
   "id": "agreed-chambers",
   "metadata": {},
   "source": [
    "## Addition Rule - OR  - Independent Events\n",
    "\n",
    "Given non-overlapping, alternative (OR) ways of selecting balls from a jar, sum over the possible ways. \n",
    "\n",
    "$∪$: Union (means OR) <br>\n",
    "\n",
    "$P(A ∪ B) = P(A) + P(B)$\n",
    "\n",
    "\n",
    "\n"
   ]
  },
  {
   "cell_type": "markdown",
   "id": "specified-magnet",
   "metadata": {},
   "source": [
    "## Example: Balls in One Jar\n",
    "\n",
    "Given a bag of\n",
    "* 4 red balls\n",
    "* 3 green balls\n",
    "* 5 yellow balls\n",
    "\n",
    "Find the probability of selecting one red ball or one green ball.\n",
    "\n",
    "$P(red ∪ green) =$<p>\n",
    "$P(red) + P(green) =$<p>\n",
    "$4/12 + 3/12 = 7/12$"
   ]
  },
  {
   "cell_type": "markdown",
   "id": "quick-physiology",
   "metadata": {},
   "source": [
    "## Multiplication Rule - AND - Independent Events\n",
    "\n",
    "The probability of two independent events is the product the probability of the events.<br>\n",
    "https://www.youtube.com/watch?v=qKk50SMVXq8<br>\n",
    "https://www.wyzant.com/resources/lessons/math/statistics_and_probability/probability/further_concepts_in_probability"
   ]
  },
  {
   "cell_type": "markdown",
   "id": "religious-check",
   "metadata": {},
   "source": [
    "$∩$: Intersection (means AND)<p>\n",
    "<p>\n",
    "$P(A ∩ B ) = P(A) * P(B)$"
   ]
  },
  {
   "cell_type": "markdown",
   "id": "popular-victim",
   "metadata": {},
   "source": [
    "## Example: Balls in Two Jars\n",
    "\n",
    "\n",
    "P(A ∩ B ) = P(A) * P(B)\n",
    "\n",
    "Task <br>\n",
    "* Bag 1 contains 4 red balls and 5 black balls.\n",
    "* Bag 2 contains 3 red balls and 7 black balls.\n",
    "One ball is drawn from Bag 1 , and two balls are drawn from Bag 2.<br>\n",
    "Find the probability that two balls are black and one ball is red.<br>\n",
    "\n",
    "$P({Way} \\ 1) (B, B, R): 5/9 * 7/10 * 3/9 = 35/270$<p>\n",
    "$P(Way \\ 2) (B, R, B): 5/9 * 3/10 * 7/9 = 35/270$<p>\n",
    "$P(Way \\ 3) (R, B, B): 4/9 * 7/10 * 6/9 = 56/270$<p>\n",
    "$P(Way \\ 1 ∪ Way \\ 2 ∪ Way \\ 3) =$<p>\n",
    "$P(Way \\ 1) + P(Way \\ 2) + P(Way \\ 3) = 126/270$<p>\n",
    "<p>\n",
    "$= 7/15$"
   ]
  },
  {
   "cell_type": "markdown",
   "id": "valuable-adult",
   "metadata": {},
   "source": [
    "# Conditional Probability - General\n",
    "\n",
    "https://onlinecourses.science.psu.edu/stat414/node/34/"
   ]
  },
  {
   "cell_type": "markdown",
   "id": "alien-confirmation",
   "metadata": {},
   "source": [
    "<font size=5>\n",
    "$P(A|B) = \\frac{P(A \\ ∩ \\ B)}{P(B)}$\n",
    "    </font>"
   ]
  },
  {
   "cell_type": "markdown",
   "id": "suffering-bottle",
   "metadata": {},
   "source": [
    "## Example from Table\n",
    "<br>\n",
    "\n",
    "         Note that P(A ∩ B) depends on whether A and B are independent.\n",
    "\n",
    "```\n",
    "Let\n",
    "* D  = having a disease\n",
    "* T+ = testing positive\n",
    "\n",
    "         Test Result\n",
    "Truth    POS   NEG   Total\n",
    "Disease  44    23    67\n",
    "Healthy  10    60    70\n",
    "Total    54    83    137\n",
    "```\n",
    "<br>\n",
    "\n",
    "<font size=5>\n",
    "$P(D|T+) = \\frac{P(D \\ ∩ \\ T+)}{P(T+)}$\n",
    "<p>\n",
    "$= 44/54$<p>\n",
    "$= 22/27$<p>\n",
    "$= 0.81$<p>\n",
    "$= 81%$"
   ]
  },
  {
   "cell_type": "markdown",
   "id": "demographic-registrar",
   "metadata": {},
   "source": [
    "# Conditional Probability - Bayes' Theorem\n",
    "\n",
    "https://stattrek.com/probability/bayes-theorem.aspx <br>\n",
    "https://www.ece.utah.edu/eceCTools/Probability/ConditionalProb/DiscreteRandVars/ProbCondDiscreteDefs.pdf"
   ]
  },
  {
   "cell_type": "markdown",
   "id": "wired-parameter",
   "metadata": {},
   "source": [
    "## Formula\n",
    "<br>\n",
    "<font size=5>\n",
    "    $P(A|B) = \\frac{P(B|A) * P(A)}{P(B)}$\n",
    "    </font>"
   ]
  },
  {
   "cell_type": "markdown",
   "id": "dominican-decade",
   "metadata": {},
   "source": [
    "## Example from Probabilities"
   ]
  },
  {
   "cell_type": "markdown",
   "id": "pregnant-integer",
   "metadata": {},
   "source": [
    "Example 1\n",
    "Marie is getting married tomorrow, at an outdoor ceremony in the desert.\n",
    "In recent years, it has rained only 5 days each year. Unfortunately, the weatherman has predicted rain for tomorrow.\n",
    "When it actually rains, the weatherman correctly forecasts rain 90% of the time. When it doesn't rain, he incorrectly\n",
    "forecasts rain 10% of the time. What is the probability that it will rain on the day of Marie's wedding?\n",
    "\n",
    "Solution: The sample space is defined by two mutually-exclusive events - it rains or it does not rain.\n",
    "Additionally, a third event occurs when the weatherman predicts rain. Notation for these events appears below.\n",
    "\n",
    "    Event A1. It rains on Marie's wedding.\n",
    "    Event A2. It does not rain on Marie's wedding.\n",
    "    Event B. The weatherman predicts rain.\n",
    "\n",
    "In terms of probabilities, we know the following:\n",
    "\n",
    "    P( A1 ) = 5/365 =0.0136985 [It rains 5 days out of the year.]\n",
    "    P( A2 ) = 360/365 = 0.9863014 [It does not rain 360 days out of the year.]\n",
    "    P( B | A1 ) = 0.9 [When it rains, the weatherman predicts rain 90% of the time.]\n",
    "    P( B | A2 ) = 0.1 [When it does not rain, the weatherman predicts rain 10% of the time.]\n",
    "\n",
    "We want to know P( A1 | B ), the probability it will rain on the day of Marie's wedding, given a forecast for\n",
    "rain by the weatherman. The answer can be determined from Bayes' theorem, as shown below.\n",
    "\n",
    "\n",
    "<br>\n",
    "<font size=5>\n",
    "$P( A1 | B ) =  \\frac{ P( B | A1 ) \\ * \\ P(A1)}{P( B | A1 ) \\ * \\ P(A1) \\ + \\ P( B | A2 ) \\ * \\ P(A2)}$<p>\n",
    "\n",
    "$P( A1 | B ) = \t\\frac{(0.9)(0.014)}{(0.9)(0.014) \\ + \\ (0.1)(0.986)}$<p>\n",
    "\n",
    "$P( A1 | B ) = \t0.111$\n",
    "    </font>\n",
    "\n",
    "Note the somewhat unintuitive result. Even when the weatherman predicts rain, it rains only about 11% of the time.\n",
    "Despite the weatherman's gloomy prediction, there is a good chance that Marie will not get rained on at her wedding.\n",
    "\n",
    "\n",
    "\n"
   ]
  },
  {
   "cell_type": "markdown",
   "id": "front-london",
   "metadata": {},
   "source": []
  },
  {
   "cell_type": "markdown",
   "id": "dated-doubt",
   "metadata": {},
   "source": []
  },
  {
   "cell_type": "markdown",
   "id": "grand-flesh",
   "metadata": {},
   "source": []
  }
 ],
 "metadata": {
  "kernelspec": {
   "display_name": "DocClass003",
   "language": "python",
   "name": "docclass003"
  },
  "language_info": {
   "codemirror_mode": {
    "name": "ipython",
    "version": 3
   },
   "file_extension": ".py",
   "mimetype": "text/x-python",
   "name": "python",
   "nbconvert_exporter": "python",
   "pygments_lexer": "ipython3",
   "version": "3.7.9"
  }
 },
 "nbformat": 4,
 "nbformat_minor": 5
}
