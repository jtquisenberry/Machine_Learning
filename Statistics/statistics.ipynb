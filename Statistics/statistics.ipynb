{
 "cells": [
  {
   "cell_type": "markdown",
   "id": "false-aruba",
   "metadata": {},
   "source": [
    "# Notation"
   ]
  },
  {
   "cell_type": "markdown",
   "id": "provincial-houston",
   "metadata": {},
   "source": [
    "<font size = 5>\n",
    "    $N$ = population size <p>\n",
    "    $\\mu$ = population mean<p>\n",
    "    $\\sigma$ = population standard deviation<p>\n",
    "    $n$ = sample size <p>\n",
    "    $\\bar{x}$ = sample mean<p>    \n",
    "    $s$ = sample standard deviation\n",
    "    </font>\n",
    "    "
   ]
  },
  {
   "cell_type": "markdown",
   "id": "incoming-affiliate",
   "metadata": {},
   "source": [
    "$\\newcommand\\T{\\Rule{0pt}{1em}{.3em}}\n",
    "\\begin{array}{|c|c|c|}\n",
    "\\hline Measurement & Statistic \\ (Roman \\ or \\ lowercase) & Parameter \\ (Greek \\ or \\ uppercase) \\T \\\\\\hline\n",
    "Population \\ Proportion   & p & P \\\\\\hline\n",
    "Data \\ Elements & x & X          \\\\\\hline                     \\\\\n",
    "Population \\ Mean & \\bar{x} & μ \\\\\\hline\n",
    "Standard \\ deviation & s & σ \\\\\\hline\n",
    "Variance & s^2 & σ^2 \\\\\\hline\n",
    "Number \\ of \\ elements & n & N \\\\\\hline\n",
    "Correlation \\ Coefficient & r & ρ \\\\\\hline                        \n",
    "\\end{array}$\n"
   ]
  },
  {
   "cell_type": "markdown",
   "id": "revolutionary-stamp",
   "metadata": {},
   "source": [
    "# Standard Deviation Formula"
   ]
  },
  {
   "cell_type": "markdown",
   "id": "marine-joining",
   "metadata": {},
   "source": [
    "<font size = 5>\n",
    "    $\\sigma={\\sqrt {\\frac {\\sum(x_{i}-{\\mu})^{2}}{N}}}$ <p>\n",
    "    $ s={\\sqrt {\\frac {\\sum \\limits _{i=1}^{n}{\\left(x_{i}-{\\bar {x}}\\right)}^{2}}{n-1}}} $\n",
    "    </font>"
   ]
  },
  {
   "cell_type": "markdown",
   "id": "imperial-marijuana",
   "metadata": {},
   "source": []
  },
  {
   "cell_type": "markdown",
   "id": "dried-rebate",
   "metadata": {},
   "source": []
  },
  {
   "cell_type": "markdown",
   "id": "dimensional-vinyl",
   "metadata": {},
   "source": []
  },
  {
   "cell_type": "markdown",
   "id": "going-senior",
   "metadata": {},
   "source": []
  },
  {
   "cell_type": "markdown",
   "id": "pointed-disposition",
   "metadata": {},
   "source": []
  },
  {
   "cell_type": "markdown",
   "id": "burning-insertion",
   "metadata": {},
   "source": []
  },
  {
   "cell_type": "markdown",
   "id": "owned-chemical",
   "metadata": {},
   "source": []
  },
  {
   "cell_type": "markdown",
   "id": "beautiful-tongue",
   "metadata": {},
   "source": []
  },
  {
   "cell_type": "markdown",
   "id": "pressed-justice",
   "metadata": {},
   "source": []
  },
  {
   "cell_type": "markdown",
   "id": "round-antarctica",
   "metadata": {},
   "source": []
  },
  {
   "cell_type": "markdown",
   "id": "extended-tracy",
   "metadata": {},
   "source": []
  },
  {
   "cell_type": "markdown",
   "id": "standing-philippines",
   "metadata": {},
   "source": []
  },
  {
   "cell_type": "markdown",
   "id": "natural-generic",
   "metadata": {},
   "source": []
  },
  {
   "cell_type": "markdown",
   "id": "noble-century",
   "metadata": {},
   "source": []
  }
 ],
 "metadata": {
  "kernelspec": {
   "display_name": "DocClass003",
   "language": "python",
   "name": "docclass003"
  },
  "language_info": {
   "codemirror_mode": {
    "name": "ipython",
    "version": 3
   },
   "file_extension": ".py",
   "mimetype": "text/x-python",
   "name": "python",
   "nbconvert_exporter": "python",
   "pygments_lexer": "ipython3",
   "version": "3.7.9"
  }
 },
 "nbformat": 4,
 "nbformat_minor": 5
}
