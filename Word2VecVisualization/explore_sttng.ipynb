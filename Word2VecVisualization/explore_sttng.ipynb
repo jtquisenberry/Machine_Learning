{
 "cells": [
  {
   "cell_type": "code",
   "execution_count": 1,
   "id": "4357662a-8f6f-47de-88b7-5cfe7a251199",
   "metadata": {},
   "outputs": [],
   "source": [
    "import gensim\n",
    "import os"
   ]
  },
  {
   "cell_type": "code",
   "execution_count": 2,
   "id": "0a7162e3-7f2c-4fbd-9299-99d65c8bdd6b",
   "metadata": {},
   "outputs": [],
   "source": [
    "MODEL = \"./models/spam_email.mdl\""
   ]
  },
  {
   "cell_type": "code",
   "execution_count": 3,
   "id": "c87188ee-905a-439d-bed1-9fa90082461f",
   "metadata": {},
   "outputs": [],
   "source": [
    "model = gensim.models.Word2Vec.load(MODEL)\n",
    "wv = model.wv"
   ]
  },
  {
   "cell_type": "code",
   "execution_count": 15,
   "id": "b123c9ef-7a3e-4364-a261-e29e05e85daa",
   "metadata": {},
   "outputs": [
    {
     "name": "stdout",
     "output_type": "stream",
     "text": [
      "Most similar\n",
      "[('limited', 0.7030522227287292), ('tonight', 0.6580096483230591), ('storewide', 0.5961487293243408), ('ending', 0.5753911137580872), ('median', 0.5716941952705383), ('thomas', 0.5688424110412598), ('styles', 0.5629177093505859), ('sexy', 0.5533124208450317), ('30', 0.5318013429641724), ('final', 0.5309366583824158)]\n",
      "\n"
     ]
    }
   ],
   "source": [
    "# Most similar examples\n",
    "print(\"Most similar\")\n",
    "print(wv.most_similar(positive=['sale']))\n",
    "print()"
   ]
  },
  {
   "cell_type": "code",
   "execution_count": 16,
   "id": "b645d366-707c-4912-99b0-506d447b7e39",
   "metadata": {},
   "outputs": [
    {
     "name": "stdout",
     "output_type": "stream",
     "text": [
      "Most similar\n",
      "limited         0.7030522227287292\n",
      "tonight         0.6580096483230591\n",
      "storewide       0.5961487293243408\n",
      "ending          0.5753911137580872\n",
      "median          0.5716941952705383\n",
      "thomas          0.5688424110412598\n",
      "styles          0.5629177093505859\n",
      "sexy            0.5533124208450317\n",
      "30              0.5318013429641724\n",
      "final           0.5309366583824158\n",
      "\n"
     ]
    }
   ],
   "source": [
    "# Most similar examples\n",
    "print(\"Most similar\")\n",
    "for token, similarity in wv.most_similar(positive=['sale']):\n",
    "    print(f\"{token:15} {similarity:15}\")\n",
    "print()"
   ]
  },
  {
   "cell_type": "code",
   "execution_count": 17,
   "id": "9cfdbf81-427e-4817-8a83-f990a8b9cfad",
   "metadata": {},
   "outputs": [
    {
     "name": "stdout",
     "output_type": "stream",
     "text": [
      "Word addition\n",
      "[('median', 0.5401841402053833), ('30', 0.5219402313232422), ('substitutions', 0.516151487827301), ('sexy', 0.51601243019104), ('ai', 0.5136536359786987), ('mugs', 0.5121310353279114), ('shoes', 0.5119660496711731), ('thomas', 0.5083938837051392), ('gap', 0.5061473250389099), ('founders', 0.5060898661613464)]\n",
      "[('shoes', 0.5401313304901123), ('founders', 0.534996509552002), ('excludes', 0.5304818153381348), ('30', 0.5303903222084045), ('substitutions', 0.5228400826454163), ('mugs', 0.5222533345222473), ('tips', 0.5206803679466248), ('10', 0.517984926700592), ('storewide', 0.5155247449874878), ('50', 0.5143389701843262)]\n",
      "\n"
     ]
    }
   ],
   "source": [
    "# Addition example\n",
    "print(\"Word addition\")\n",
    "print(model.wv.most_similar_cosmul(positive=['sale','man']))\n",
    "print(model.wv.most_similar_cosmul(positive=['sale','woman']))\n",
    "print()"
   ]
  },
  {
   "cell_type": "code",
   "execution_count": 18,
   "id": "6dc9fa61-d7bd-4f91-8f6e-43a28bdf413e",
   "metadata": {},
   "outputs": [
    {
     "name": "stdout",
     "output_type": "stream",
     "text": [
      "sale_man                             sale_woman                          \n",
      "median          0.5401841402053833   shoes           0.5401313304901123  \n",
      "30              0.5219402313232422   founders        0.534996509552002   \n",
      "substitutions   0.516151487827301    excludes        0.5304818153381348  \n",
      "sexy            0.51601243019104     30              0.5303903222084045  \n",
      "ai              0.5136536359786987   substitutions   0.5228400826454163  \n",
      "mugs            0.5121310353279114   mugs            0.5222533345222473  \n",
      "shoes           0.5119660496711731   tips            0.5206803679466248  \n",
      "thomas          0.5083938837051392   10              0.517984926700592   \n",
      "gap             0.5061473250389099   storewide       0.5155247449874878  \n",
      "founders        0.5060898661613464   50              0.5143389701843262  \n"
     ]
    }
   ],
   "source": [
    "sale_man = model.wv.most_similar_cosmul(positive=['sale','man'])\n",
    "sale_woman = model.wv.most_similar_cosmul(positive=['sale','woman'])\n",
    "print(f\"{'sale_man':36} {'sale_woman':36}\")\n",
    "for i in range(len(sale_man)):\n",
    "    sale_man_term = sale_man[i][0]\n",
    "    sale_man_similarity = sale_man[i][1]\n",
    "    sale_woman_term = sale_woman[i][0]\n",
    "    sale_woman_similarity = sale_woman[i][1]\n",
    "    print(f\"{sale_man_term:15} {sale_man_similarity:<20} {sale_woman_term:15} {sale_woman_similarity:<20}\")"
   ]
  },
  {
   "cell_type": "code",
   "execution_count": 19,
   "id": "4f18dac4-7271-4b85-bd3c-5918aeff0fae",
   "metadata": {},
   "outputs": [
    {
     "name": "stdout",
     "output_type": "stream",
     "text": [
      "Subtraction\n",
      "[('limited', 1.4355827569961548), ('initial', 1.4328514337539673), ('beauties', 1.3932634592056274), ('tzumi®', 1.3902885913848877), ('6289', 1.3870428800582886), ('finishing', 1.3839861154556274), ('tonight', 1.3764795064926147), ('lauren', 1.3477330207824707), ('sit', 1.32118558883667), ('orig', 1.3138680458068848)]\n",
      "[('orig', 1.492965817451477), ('scratch', 1.4623600244522095), ('limited', 1.434892177581787), ('415', 1.4148180484771729), ('skincare', 1.4103634357452393), ('rise', 1.3823038339614868), ('tzumi®', 1.3809607028961182), ('k', 1.3723622560501099), ('vw', 1.3720532655715942), ('curtains', 1.370936632156372)]\n",
      "\n"
     ]
    }
   ],
   "source": [
    "# Subtraction\n",
    "print(\"Subtraction\")\n",
    "print(model.wv.most_similar_cosmul(positive=['sale'], negative=['man']))\n",
    "print(model.wv.most_similar_cosmul(positive=['sale'], negative=['woman']))\n",
    "print()"
   ]
  },
  {
   "cell_type": "code",
   "execution_count": 20,
   "id": "5d29946a-abdf-4fbd-95f3-082485ccf157",
   "metadata": {},
   "outputs": [
    {
     "name": "stdout",
     "output_type": "stream",
     "text": [
      "sale_m_man                           sale_m_woman                        \n",
      "orig            1.492965817451477    limited         1.4355827569961548  \n",
      "scratch         1.4623600244522095   initial         1.4328514337539673  \n",
      "limited         1.434892177581787    beauties        1.3932634592056274  \n",
      "415             1.4148180484771729   tzumi®          1.3902885913848877  \n",
      "skincare        1.4103634357452393   6289            1.3870428800582886  \n",
      "rise            1.3823038339614868   finishing       1.3839861154556274  \n",
      "tzumi®          1.3809607028961182   tonight         1.3764795064926147  \n",
      "k               1.3723622560501099   lauren          1.3477330207824707  \n",
      "vw              1.3720532655715942   sit             1.32118558883667    \n",
      "curtains        1.370936632156372    orig            1.3138680458068848  \n"
     ]
    }
   ],
   "source": [
    "sale_m_man = model.wv.most_similar_cosmul(positive=['sale'], negative=['man'])\n",
    "sale_m_woman = model.wv.most_similar_cosmul(positive=['sale'], negative=['woman'])\n",
    "print(f\"{'sale_m_man':36} {'sale_m_woman':36}\")\n",
    "for i in range(len(sale_man)):\n",
    "    sale_man_term = sale_m_man[i][0]\n",
    "    sale_man_similarity = sale_m_man[i][1]\n",
    "    sale_woman_term = sale_m_woman[i][0]\n",
    "    sale_woman_similarity = sale_m_woman[i][1]\n",
    "    print(f\"{sale_man_term:15} {sale_man_similarity:<20} {sale_woman_term:15} {sale_woman_similarity:<20}\")"
   ]
  },
  {
   "cell_type": "code",
   "execution_count": 23,
   "id": "2d29f86a-47c6-4c92-8d3d-4ce5f5c17987",
   "metadata": {},
   "outputs": [
    {
     "name": "stdout",
     "output_type": "stream",
     "text": [
      "Word similarity\n",
      "0.17021087\n",
      "\n"
     ]
    }
   ],
   "source": [
    "# Word similarity\n",
    "print(\"Word similarity\")\n",
    "print(model.wv.similarity('sell', 'buy'))\n",
    "print()"
   ]
  },
  {
   "cell_type": "code",
   "execution_count": 25,
   "id": "e0f2afe7-0186-4dc7-98f1-63ab059cd2e1",
   "metadata": {},
   "outputs": [
    {
     "name": "stdout",
     "output_type": "stream",
     "text": [
      "Which token is unlike the others?\n",
      "gift\n",
      "\n"
     ]
    }
   ],
   "source": [
    "#Unlike\n",
    "print(\"Which token is unlike the others?\")\n",
    "print(model.wv.doesnt_match(\"gift valid offer mailing\".split()))\n",
    "print()"
   ]
  },
  {
   "cell_type": "code",
   "execution_count": 30,
   "id": "5651bd0c-6bfb-4cd6-8581-2c7cf4077b8d",
   "metadata": {},
   "outputs": [
    {
     "name": "stdout",
     "output_type": "stream",
     "text": [
      "Words closer than\n",
      "['view', 'shop', 'shipping', '\\u200c', 'gap', 'free', 'valid', '99', 'store', '1']\n"
     ]
    }
   ],
   "source": [
    "# Words closer to word1 than word2\n",
    "print(\"Words closer than\")\n",
    "print(model.wv.closer_than('sell', 'buy')[:10])"
   ]
  },
  {
   "cell_type": "code",
   "execution_count": 34,
   "id": "9eb5b2a4-e23e-4c54-9910-42ff8b8b7daf",
   "metadata": {},
   "outputs": [
    {
     "name": "stdout",
     "output_type": "stream",
     "text": [
      "Word vector\n",
      "[-0.30269614  0.03513657  2.9933474  -1.2063218   6.5139604  -1.4852481\n",
      " -2.0807905  -4.2727695   0.2738772   0.08887617  2.9888313   0.28729436\n",
      " -0.40605077  0.43195596 -1.9993063   1.7680645  -0.47500277 -4.562397\n",
      " -0.12668748  0.7817566   1.1494644   0.3775225  -4.3220425  -2.6509798\n",
      "  1.8423793  -4.4172964   3.201559    0.19005767  4.555725   -1.0875707\n",
      " -2.4943233   1.6526641  -0.9943782   1.5551167   1.7644808   2.7235148\n",
      "  0.38847643  0.08897395  2.081751   -1.7616026  -2.6978421   0.32419065\n",
      " -0.40189725  4.5367775   4.6092873   5.213688    1.1673383  -2.1043506\n",
      " -0.34735957  2.8500147   0.3955948   0.38577136  1.0216383  -3.0507514\n",
      " -2.2540247   2.8554847   3.3973794  -2.8759406  -3.6083689   2.3002293\n",
      "  2.5555384  -0.9595421   0.9989401   1.0818839  -3.162193   -0.8109093\n",
      " -0.3350818   2.2061894  -0.89971304 -4.0914106  -1.720319   -2.4097123\n",
      " -5.6860294  -0.3906869  -2.0934672  -0.7137882   0.5864952   2.8822362\n",
      " -3.394723   -0.5661221  -1.5872126  -0.17124097  3.409755   -0.19851618\n",
      " -1.8130989   0.3569397   1.1993374   0.78666115 -0.11602792  2.102842\n",
      " -3.6065106  -2.7959936   1.4513716   0.89473695 -0.58400816 -0.3433264\n",
      "  1.2274015  -2.783602    0.7959864  -0.76171046 -3.0904999  -4.2437806\n",
      " -0.9450713   3.1555476  -0.97973716  2.2371855   5.812694    2.32616\n",
      "  1.2911482  -4.928861    1.0595506  -0.61339897  2.1076934   1.2788423\n",
      " -2.3478339   0.6467866  -1.195866    1.2175395  -4.8552117  -0.33953416\n",
      "  0.8733267   0.0654778  -0.2226003  -0.29464278  1.8215599   0.62845993\n",
      " -0.9665161  -0.25893328]\n"
     ]
    }
   ],
   "source": [
    "# Word Vector\n",
    "print(\"Word vector\")\n",
    "print(model.wv.get_vector('buy'))"
   ]
  },
  {
   "cell_type": "code",
   "execution_count": null,
   "id": "9b5dc06e-af2c-414f-b44d-9ef556763214",
   "metadata": {},
   "outputs": [],
   "source": []
  }
 ],
 "metadata": {
  "kernelspec": {
   "display_name": "v3124",
   "language": "python",
   "name": "v3124"
  },
  "language_info": {
   "codemirror_mode": {
    "name": "ipython",
    "version": 3
   },
   "file_extension": ".py",
   "mimetype": "text/x-python",
   "name": "python",
   "nbconvert_exporter": "python",
   "pygments_lexer": "ipython3",
   "version": "3.12.4"
  }
 },
 "nbformat": 4,
 "nbformat_minor": 5
}
