{
 "cells": [
  {
   "cell_type": "code",
   "execution_count": 1,
   "id": "cb4c5449-e5cd-4e11-918a-10df419a5395",
   "metadata": {},
   "outputs": [
    {
     "name": "stdout",
     "output_type": "stream",
     "text": [
      "Requirement already satisfied: scipy<1.13 in d:\\development\\venvs\\v3124\\lib\\site-packages (1.12.0)\n",
      "Requirement already satisfied: numpy<1.29.0,>=1.22.4 in d:\\development\\venvs\\v3124\\lib\\site-packages (from scipy<1.13) (1.26.4)\n"
     ]
    },
    {
     "name": "stderr",
     "output_type": "stream",
     "text": [
      "\n",
      "[notice] A new release of pip is available: 24.0 -> 24.1.2\n",
      "[notice] To update, run: python.exe -m pip install --upgrade pip\n"
     ]
    },
    {
     "name": "stdout",
     "output_type": "stream",
     "text": [
      "Requirement already satisfied: numpy in d:\\development\\venvs\\v3124\\lib\\site-packages (1.26.4)\n"
     ]
    },
    {
     "name": "stderr",
     "output_type": "stream",
     "text": [
      "\n",
      "[notice] A new release of pip is available: 24.0 -> 24.1.2\n",
      "[notice] To update, run: python.exe -m pip install --upgrade pip\n"
     ]
    },
    {
     "name": "stdout",
     "output_type": "stream",
     "text": [
      "Requirement already satisfied: gensim in d:\\development\\venvs\\v3124\\lib\\site-packages (4.3.2)\n",
      "Requirement already satisfied: numpy>=1.18.5 in d:\\development\\venvs\\v3124\\lib\\site-packages (from gensim) (1.26.4)\n",
      "Requirement already satisfied: scipy>=1.7.0 in d:\\development\\venvs\\v3124\\lib\\site-packages (from gensim) (1.12.0)\n",
      "Requirement already satisfied: smart-open>=1.8.1 in d:\\development\\venvs\\v3124\\lib\\site-packages (from gensim) (7.0.4)\n",
      "Requirement already satisfied: wrapt in d:\\development\\venvs\\v3124\\lib\\site-packages (from smart-open>=1.8.1->gensim) (1.16.0)\n"
     ]
    },
    {
     "name": "stderr",
     "output_type": "stream",
     "text": [
      "\n",
      "[notice] A new release of pip is available: 24.0 -> 24.1.2\n",
      "[notice] To update, run: python.exe -m pip install --upgrade pip\n"
     ]
    }
   ],
   "source": [
    "# install dependencies\n",
    "!pip install \"scipy<1.13\"\n",
    "!pip install numpy\n",
    "!pip install gensim"
   ]
  },
  {
   "cell_type": "code",
   "execution_count": 4,
   "id": "fb40ee69-4616-4100-804a-e035fba82d39",
   "metadata": {},
   "outputs": [],
   "source": [
    "import numpy\n",
    "import scipy\n",
    "import gensim"
   ]
  },
  {
   "cell_type": "code",
   "execution_count": 5,
   "id": "fb84f4ca-acad-4faf-97a1-d2dcdb082946",
   "metadata": {},
   "outputs": [],
   "source": [
    "CORPUS_PATH = r\"D:\\W\\Development\\Machine_Learning\\corpora\\spam_email\\spam_email_sentences.txt\""
   ]
  },
  {
   "cell_type": "code",
   "execution_count": 10,
   "id": "7c3f27b9-70c0-4cbc-b8e7-4fa35d0ec8a1",
   "metadata": {},
   "outputs": [
    {
     "name": "stdout",
     "output_type": "stream",
     "text": [
      " groupon® beauty groupon® beauty\n",
      " welcome\n",
      " receive appointment notifications featured salons spas\n"
     ]
    }
   ],
   "source": [
    "with open(CORPUS_PATH, mode=\"r\", encoding=\"utf-8\") as f:\n",
    "    for i in range(3):\n",
    "        print(f.readline()[:-1])  # Truncate the trailing newline."
   ]
  },
  {
   "cell_type": "code",
   "execution_count": 17,
   "id": "3f126f6f-5d0d-45f5-89e4-cb70c9bc33d8",
   "metadata": {},
   "outputs": [],
   "source": [
    "class SentenceIterator:\n",
    "    def __init__(self, filename=\"\"):\n",
    "        self.filename = filename\n",
    "\n",
    "    def __iter__(self):\n",
    "        for line in open(self.filename, mode=\"r\", encoding=\"utf-8\"):\n",
    "            yield line.split()  # generator"
   ]
  },
  {
   "cell_type": "code",
   "execution_count": 18,
   "id": "d026d7da-d090-4642-b3f7-31acab7c0e32",
   "metadata": {},
   "outputs": [],
   "source": [
    "sentences = SentenceIterator(filename=CORPUS_PATH)"
   ]
  },
  {
   "cell_type": "code",
   "execution_count": 28,
   "id": "1be72135-8e5b-409f-a59c-d4fd600b2b00",
   "metadata": {},
   "outputs": [],
   "source": [
    "s2 = list(sentences)"
   ]
  },
  {
   "cell_type": "code",
   "execution_count": 29,
   "id": "a3ed9ef0-2df1-44f1-ba00-63566956d944",
   "metadata": {},
   "outputs": [
    {
     "data": {
      "text/plain": [
       "[['groupon®', 'beauty', 'groupon®', 'beauty'],\n",
       " ['welcome'],\n",
       " ['receive', 'appointment', 'notifications', 'featured', 'salons', 'spas'],\n",
       " ['visit', 'groupon', 'iphone', 'app', 'start', 'booking'],\n",
       " ['book', 'app', 'compare', 'salon', 'prices']]"
      ]
     },
     "execution_count": 29,
     "metadata": {},
     "output_type": "execute_result"
    }
   ],
   "source": [
    "s2[:5]"
   ]
  },
  {
   "cell_type": "code",
   "execution_count": 26,
   "id": "74998d91-820c-462d-b114-4f7690946553",
   "metadata": {},
   "outputs": [
    {
     "name": "stdout",
     "output_type": "stream",
     "text": [
      "0.0\n"
     ]
    }
   ],
   "source": [
    "model = gensim.models.Word2Vec(sentences, sorted_vocab=1, sg=1, min_count=5, epochs=15, vector_size=128,\n",
    "                               batch_words=128, window=5, compute_loss=False, alpha=0.2)\n",
    "print(model.get_latest_training_loss())"
   ]
  },
  {
   "cell_type": "code",
   "execution_count": 42,
   "id": "6b46c724-4a3f-4f52-8bb4-0463fa29045b",
   "metadata": {},
   "outputs": [
    {
     "name": "stdout",
     "output_type": "stream",
     "text": [
      "   0            view     3614\n",
      "   1            shop     3530\n",
      "   2             com     3161\n",
      "   3        shipping     3058\n",
      "   4               ‌     3048\n",
      "   5             gap     3030\n",
      "   6            free     3008\n",
      "   7           valid     2780\n",
      "   8              99     2777\n",
      "   9           email     2663\n",
      "  10           store     2633\n"
     ]
    }
   ],
   "source": [
    "for idx, token in enumerate(model.wv.index_to_key):\n",
    "    if token is None:\n",
    "        print(f\"{idx:>4} {'':>16} {model.wv.get_vecattr(token, \"count\"):>8}\")\n",
    "    else:\n",
    "        print(f\"{idx:>4} {token:>15} {model.wv.get_vecattr(token, \"count\"):>8}\")\n",
    "    if idx > 9:\n",
    "        break"
   ]
  },
  {
   "cell_type": "code",
   "execution_count": null,
   "id": "cbc99fa1-2405-41f9-9427-03c1812e6702",
   "metadata": {},
   "outputs": [],
   "source": []
  }
 ],
 "metadata": {
  "kernelspec": {
   "display_name": "v3124",
   "language": "python",
   "name": "v3124"
  },
  "language_info": {
   "codemirror_mode": {
    "name": "ipython",
    "version": 3
   },
   "file_extension": ".py",
   "mimetype": "text/x-python",
   "name": "python",
   "nbconvert_exporter": "python",
   "pygments_lexer": "ipython3",
   "version": "3.12.4"
  }
 },
 "nbformat": 4,
 "nbformat_minor": 5
}
