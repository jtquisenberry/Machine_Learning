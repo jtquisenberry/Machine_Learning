{
 "cells": [
  {
   "cell_type": "markdown",
   "metadata": {},
   "source": [
    "# Probability"
   ]
  },
  {
   "cell_type": "markdown",
   "metadata": {},
   "source": [
    "# Addition Rule of Compound Events with OR\n",
    "\n",
    "$P(A \\; or \\; B) = P(A) + P(B) - P(A \\; and \\; B)$\n",
    "$P(A \\cup B) = P(A) + P(B) - P(A \\cap B)$"
   ]
  },
  {
   "cell_type": "markdown",
   "metadata": {},
   "source": [
    "### Example\n",
    "\n",
    "A bag contains the following 29 objects\n",
    "*  Purple Cube x 8\n",
    "*  Purple Sphere x 9\n",
    "*  Yellow Cube x 5\n",
    "*  Yellow Sphere x 7\n",
    "\n",
    "What is the probability of pulling a cube or a yellow piece?\n",
    "\n",
    "__P(cube or yellow) = P(cube) + P(yellow) - P(cube and yellow)__\n",
    "\n",
    "__P(cube or yellow) = 13/29 + 12/29 - 5/29 = 20/29__\n"
   ]
  },
  {
   "cell_type": "markdown",
   "metadata": {},
   "source": [
    "# Tests of Independence\n",
    "\n",
    "Two events, A and B are independent if:\n",
    "\n",
    "$P(A) = P(A|B)$ or\n",
    "\n",
    "$P(A \\; and \\; B) = P(A) * P(B)$"
   ]
  },
  {
   "cell_type": "markdown",
   "metadata": {},
   "source": [
    "# Multiplication Rule for Independent Events"
   ]
  },
  {
   "cell_type": "markdown",
   "metadata": {},
   "source": [
    "$P(A \\; and \\; B) = P(A) * P(B)$"
   ]
  },
  {
   "cell_type": "markdown",
   "metadata": {},
   "source": [
    "When flipping a fair coin three times, find the probability of flipping heads, then tails, then heads (HTH).\n",
    "\n",
    "__P(HTH) = P(H) \\* P(T) \\* P(H) = 1/2 \\* 1/2 \\* 1/2 = 1/8 = 0.125__"
   ]
  },
  {
   "cell_type": "markdown",
   "metadata": {},
   "source": [
    "## At Least One Event\n",
    "\n",
    "$P(at \\; least \\; one \\; A) = 1 - P(all \\; Bs)$\n"
   ]
  },
  {
   "cell_type": "markdown",
   "metadata": {},
   "source": [
    "When flipping a fair coin three times, find the probability of flipping at least one head P(at least one H). Since heads and tails are mutually exclusive, look at the case of all tails P(TTT).\n",
    "\n",
    "__P(at least one H) = 1 - P(TTT) = 1 - 1/8 = 7/8__\n"
   ]
  },
  {
   "cell_type": "markdown",
   "metadata": {},
   "source": [
    "# Multiplication Rule for Dependent Events"
   ]
  },
  {
   "cell_type": "markdown",
   "metadata": {},
   "source": [
    "$P(A \\; and \\; B) = P(A) * P(B|A)$"
   ]
  },
  {
   "cell_type": "markdown",
   "metadata": {},
   "source": [
    "You have 8 coins in a bag. Three of them are unfair in that they have a 60% chance of coming up heads when flipped. The rest are fair coins. You randomly choose one coin from the bag and flip it two times. What is the probability of getting two heads?\n",
    "\n",
    "__P(unfair) \\* P(heads | unfair) = 3/8 \\* 0.60 \\* 0.60 = 0.135__\n",
    "\n",
    "__P(fair) \\* P(heads | fair) = 5/8 \\* 0.50 \\* 0.50 = 0.15625__\n",
    "\n",
    "__Sum = 0.29125 = 29.125%__"
   ]
  },
  {
   "cell_type": "markdown",
   "metadata": {},
   "source": [
    "## Without Replacement\n",
    "\n",
    "Selecting an object from a set and then selecting another object from the remaining set are dependent events.\n"
   ]
  },
  {
   "cell_type": "markdown",
   "metadata": {},
   "source": [
    "__Example: A box contains 2 red marbles, 3 green marbles, and 3 blue marbles.\n",
    "If we choose a marble, then another marble without putting the first one back in the box, what is the probability that the first marble will be green and the second will be blue?__\n",
    "\n",
    "P(Green, then Blue) = P(G) * P(B|G)\n",
    "\n",
    "P(Green) = 3/8\n",
    "\n",
    "P(Blue next) = 3/7\n",
    "\n",
    "P(GB) = 9/56\n",
    "\n"
   ]
  },
  {
   "cell_type": "markdown",
   "metadata": {},
   "source": [
    "## Pick 2\n",
    "\n",
    "Picking two things from a set is an example of selection __without replacement__. Picking two can be thought of as picking one, then picking another one without replacing the first.\n",
    "\n",
    "\n"
   ]
  },
  {
   "cell_type": "markdown",
   "metadata": {},
   "source": [
    "__Example: In a class of 7, there are 2 students who are martial arts masters. If the teacher chooses 2 students at random, what is the probability that both of them are martial arts masters?__\n",
    "\n",
    "P(student 1 ^ student 2) = P(student 1) * P(student 2|student 1)\n",
    "\n",
    "P(student 1) = 2/7, P(student 2) = 1/6\n",
    "\n",
    "P(student 1 ^ student 2) = 2/7 * 1/6 = 2/42 = 1/21 "
   ]
  },
  {
   "cell_type": "markdown",
   "metadata": {},
   "source": [
    "## Ship Firing Example\n",
    "\n",
    "__Captain Ben has a ship, the H.M.S Crimson Lynx. The ship is five furlongs from the dread pirate Luis and his merciless band of thieves.__\n",
    "\n",
    "__If his ship hasn't already been hit, Captain Ben has probability 2/3 of hitting the pirate ship. If his ship has been hit, Captain Ben will always miss.__\n",
    "\n",
    "__If his ship hasn't already been hit, dread pirate Luis has probability 1/3 of hitting the Captain's ship. If his ship has been hit, dread pirate Luis will always miss.__\n",
    "\n",
    "__If the Captain and the pirate each shoot once, and the pirate shoots first, what is the probability that the pirate hits the Captain's ship, but the Captain misses?__\n",
    "\n",
    "P(Pirate hits AND Captain misses) = P(Pirate hits) * P(Captain misses|Pirate hits)\n",
    "\n",
    "P(Pirate hits) is given as 1/3. If we assume that Pirate hits, then Captain misses is given by \"If his ship has been hit, Captain Ben will always miss.\", which means P(Captain misses) = 1.\n",
    "\n",
    "= 1/3 * 1 = 1/3"
   ]
  },
  {
   "cell_type": "markdown",
   "metadata": {},
   "source": [
    "# Conditional Probability and Independence"
   ]
  },
  {
   "cell_type": "markdown",
   "metadata": {},
   "source": [
    "## Bayes' Theorem\n",
    "\n",
    "$P(B|A) = \\frac{P(A|B) \\; * \\; P(B)}{P(A)}$\n",
    "\n",
    "AND\n",
    "\n",
    "$P(B|A) = \\frac{P(A \\; and \\; B)}{P(A)}$"
   ]
  },
  {
   "cell_type": "markdown",
   "metadata": {},
   "source": [
    "__Example: Kiran surveyed a random sample of students in her school district, and she found these statistics:__\n",
    "\n",
    "__P(rides bike to school)=0.14__\n",
    "\n",
    "__P(has crossing guard)=0.48__\n",
    "\n",
    "__P(rides bike and crossing guard)=0.12__\n",
    "\n",
    "__Find the probability that a student rides a bike to school, given that the student's school has a crossing guard.__\n",
    "\n",
    "__P(rides bike ∣ crossing guard)= __\n",
    "\n",
    "$$\\frac{P(crossing \\; guard|rides \\; bike) * P(rides \\; bike)}{P(crossing \\; guard)}$$\n",
    "\n",
    "Note that the numerator is the same as P(A and B):\n",
    "\n",
    "$$P(A \\; and \\; B) \\; = \\; P(A|B) \\; * \\; P(B)$$\n",
    "\n",
    "$$= \\; P(rides \\; bike \\; and \\; crossing \\; guard)$$\n",
    "\n",
    "$$P(rides \\; bike \\;∣\\; crossing \\; guard) \\; = \\; \\frac{P(rides \\; bike \\; and \\; crossing \\; guard)}{P(crossing \\; guard)}$$\n",
    "\n",
    "$$= \\; \\frac{0.12}{0.48} \\; = \\; 0.25$$\n",
    "\n"
   ]
  },
  {
   "cell_type": "markdown",
   "metadata": {},
   "source": [
    "## False Positives and False Negatives\n"
   ]
  },
  {
   "cell_type": "markdown",
   "metadata": {},
   "source": [
    "A company screens job applicants for illegal drug use at a certain stage in their hiring process. The specific test they use has a false positive rate of 2% and a false negative rate of 1%. Suppose that 5% of all their applicants are actually using illegal drugs, and we randomly select an applicant.\n",
    "\n",
    "Given the applicant tests positive, what is the probability that they are actually on drugs?\n",
    "\n",
    "__By Bayes' Theorem__\n",
    "\n",
    "$$P(drugs|positive) = \\frac{P(positive|drugs) * P(drugs)}{P(positive)}$$\n",
    "\n",
    "$P(positive|drugs) = 1 - False \\; Negative \\; Rate = 0.99$\n",
    "\n",
    "$P(drugs) = given = 0.05$\n",
    "\n",
    "$P(positive) = P(positive|drugs) * P(drugs) + P(positive|no \\; drugs) * P(no \\; drugs)$\n",
    "\n",
    "$ \\;\\;\\;\\; = 0.99 * 0.05 + False \\; Positive \\; Rate * 1 - drugs$\n",
    "$ \\;\\;\\;\\; = 0.99 * 0.05 + 0.02 * 0.95$\n",
    "$ \\;\\;\\;\\; = 0.0352$\n",
    "\n",
    "$ = \\frac{0.99 * 0.05}{0.99 * 0.05 + 0.95 * 0.02}$\n",
    "$ = 0.7226$\n",
    "\n"
   ]
  },
  {
   "cell_type": "markdown",
   "metadata": {},
   "source": [
    "# Problems"
   ]
  },
  {
   "cell_type": "markdown",
   "metadata": {},
   "source": [
    "## Conditional Probability - Bayes\n",
    "\n",
    "$P(B|A) = \\frac{P(A|B) \\; * \\; P(B)}{P(A)}$\n",
    "\n",
    "Marie is getting married tomorrow, at an outdoor ceremony in the desert. In recent years, it has rained only 5 days each year. Unfortunately, the weatherman has predicted rain for tomorrow.\n",
    "\n",
    "When it actually rains, the weatherman correctly forecasts rain 90% of the time. When it doesn't rain, he incorrectly forecasts rain 10% of the time. What is the probability that it will rain on the day of Marie's wedding?\n",
    "\n",
    "Solution: The sample space is defined by two mutually-exclusive events - it rains or it does not rain.\n",
    "Additionally, a third event occurs when the weatherman predicts rain. Notation for these events appears below.\n",
    "\n",
    "    Event A1. It rains on Marie's wedding.\n",
    "    Event A2. It does not rain on Marie's wedding.\n",
    "    Event B. The weatherman predicts rain.\n",
    "\n",
    "In terms of probabilities, we know the following:\n",
    "\n",
    "    P( A1 ) = 5/365 =0.0136985 [It rains 5 days out of the year.]\n",
    "    P( A2 ) = 360/365 = 0.9863014 [It does not rain 360 days out of the year.]\n",
    "    P( B | A1 ) = 0.9 [When it rains, the weatherman predicts rain 90% of the time.]\n",
    "    P( B | A2 ) = 0.1 [When it does not rain, the weatherman predicts rain 10% of the time.]\n",
    "\n",
    "We want to know P( A1 | B ), the probability it will rain on the day of Marie's wedding, given a forecast for\n",
    "rain by the weatherman. The answer can be determined from Bayes' theorem, as shown below.\n",
    "\n",
    "$P( A1 | B ) =   \t\\frac{P( B | A1 ) * P( A1 )}{ P( B | A1 ) * P( A1 ) +  P( B | A2 ) * P( A2 )}$\n",
    "\n",
    "$P( A1 | B ) = \t\\frac{(0.014)(0.9)}{(0.014)(0.9) + (0.986)(0.1)}$\n",
    "\n",
    "$ = \t0.111$\n",
    "\n",
    "Note the somewhat unintuitive result. Even when the weatherman predicts rain, it rains only about 11% of the time.\n",
    "Despite the weatherman's gloomy prediction, there is a good chance that Marie will not get rained on at her wedding."
   ]
  },
  {
   "cell_type": "markdown",
   "metadata": {},
   "source": [
    "## Conditional Probability - Sample Space\n",
    "\n",
    "$P(B|A) = \\frac{P(A \\; and \\; B)}{P(A)}$\n",
    "\n",
    "Let\n",
    "* D  = having a disease\n",
    "* T+ = testing positive\n",
    "\n",
    "```\n",
    "         Test Result\n",
    "Truth    POS   NEG   Total\n",
    "Disease  44    23    67\n",
    "Healthy  10    60    70\n",
    "Total    54    83    137\n",
    "```\n",
    "\n",
    "Find P(D|T+). \n",
    "\n",
    "In this sample space, the \"given T+\" means to limit analysis to the \"POS\" column, which totals 54. Of the 54 \"T+\", 44 have the disease. P(D|T+) = 44/54 = 22/27 = 0.81.\n",
    "\n",
    "This can also be solved using Bayes theorem.\n",
    "\n",
    "$P(D|T+) = \\frac{P(D ∩ T+)}{P(T+)}$\n",
    "\n",
    "$= \\frac{\\frac{44}{137}}{\\frac{54}{137}}$\n",
    "\n",
    "```\n",
    "= 44/54\n",
    "= 22/27\n",
    "= 0.81\n",
    "= 81%\n",
    "```"
   ]
  },
  {
   "cell_type": "markdown",
   "metadata": {},
   "source": [
    "## One Bag, Independent Events\n",
    "\n",
    "```\n",
    "Given a bag of\n",
    "* 4 red balls\n",
    "* 3 green balls\n",
    "* 5 yellow balls\n",
    "\n",
    "P(red ∪ green) =\n",
    "P(red) + P(green) =\n",
    "4/12 + 3/12 = 7/12\n",
    "```"
   ]
  },
  {
   "cell_type": "markdown",
   "metadata": {},
   "source": [
    "## Two Bags, Independent Events\n",
    "\n",
    "P(A ∩ B ) = P(A) * P(B)\n",
    "\n",
    "P(A ∪ B ) = P(A) + P(B)\n",
    "\n",
    "Task\n",
    "```\n",
    "Bag 1 contains 4 red balls and 5 black balls.\n",
    "Bag 2 contains 3 red balls and 7 black balls.\n",
    "One ball is drawn from Bag 1 , and two balls are drawn from Bag 2.\n",
    "Find the probability that two balls are black and one ball is red.\n",
    "\n",
    "P(Way 1) (B, B, R): 5/9 * 7/10 * 3/9 = 35/270\n",
    "P(Way 2) (B, R, B): 5/9 * 3/10 * 7/9 = 35/270\n",
    "P(Way 3) (R, B, B): 4/9 * 7/10 * 6/9 = 56/270\n",
    "P(Way 1 ∪ Way 2 ∪ Way 3) =\n",
    "P(Way 1) + P(Way 2) + P(Way 3) = 126/270\n",
    "\n",
    "= 7/15\n",
    "```"
   ]
  },
  {
   "cell_type": "code",
   "execution_count": null,
   "metadata": {},
   "outputs": [],
   "source": []
  },
  {
   "cell_type": "code",
   "execution_count": null,
   "metadata": {},
   "outputs": [],
   "source": []
  },
  {
   "cell_type": "code",
   "execution_count": null,
   "metadata": {},
   "outputs": [],
   "source": []
  },
  {
   "cell_type": "code",
   "execution_count": null,
   "metadata": {},
   "outputs": [],
   "source": []
  }
 ],
 "metadata": {
  "kernelspec": {
   "display_name": "Python 3",
   "language": "python",
   "name": "python3"
  },
  "language_info": {
   "codemirror_mode": {
    "name": "ipython",
    "version": 3
   },
   "file_extension": ".py",
   "mimetype": "text/x-python",
   "name": "python",
   "nbconvert_exporter": "python",
   "pygments_lexer": "ipython3",
   "version": "3.6.6"
  }
 },
 "nbformat": 4,
 "nbformat_minor": 2
}
