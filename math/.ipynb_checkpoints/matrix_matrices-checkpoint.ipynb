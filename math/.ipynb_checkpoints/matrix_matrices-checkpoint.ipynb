{
 "cells": [
  {
   "cell_type": "markdown",
   "id": "packed-monthly",
   "metadata": {},
   "source": [
    "# __Matrices__"
   ]
  },
  {
   "cell_type": "markdown",
   "id": "decent-helena",
   "metadata": {},
   "source": [
    "# Basics"
   ]
  },
  {
   "cell_type": "markdown",
   "id": "informative-barcelona",
   "metadata": {},
   "source": [
    "A matrix is described as having M rows and N columns. When given the shape of a matrix, the number of rows comes first, and the number of columns comes second. _Example:_ This is a 2x3 matrix. M = 2 and N = 3."
   ]
  },
  {
   "cell_type": "markdown",
   "id": "photographic-college",
   "metadata": {},
   "source": [
    "$ \\begin{bmatrix}\n",
    "-5 & 0 & 2 \\\\ \n",
    " 4 & 3 & 0\n",
    "\\end{bmatrix} $"
   ]
  },
  {
   "cell_type": "markdown",
   "id": "accepted-edwards",
   "metadata": {},
   "source": [
    "# Matrix Multiplication"
   ]
  },
  {
   "cell_type": "markdown",
   "id": "shared-child",
   "metadata": {},
   "source": [
    "## Dot Product"
   ]
  },
  {
   "cell_type": "markdown",
   "id": "electric-appendix",
   "metadata": {},
   "source": [
    "When multiplying two matrices, the dimensions of the first matrix are denoted by MxN, and the dimensions of the second matrix are denoted by NxP. To perform multiplication, the Ns must be equal. The result is an MxP matrix. https://www.mathsisfun.com/algebra/matrix-multiplying.html"
   ]
  },
  {
   "cell_type": "markdown",
   "id": "crazy-victor",
   "metadata": {},
   "source": [
    "To perform the dot product, multiply the numbers in each row of Matrix \\#1 by the corresponding numbers in each column of Matrix \\#2. Sum over the products.  "
   ]
  },
  {
   "cell_type": "markdown",
   "id": "previous-produce",
   "metadata": {},
   "source": [
    "$ \\begin{bmatrix}\n",
    "1 & 2 & 3 \\\\ \n",
    "4 & 5 & 6\n",
    "\\end{bmatrix} \\cdot \\begin{bmatrix}\n",
    "7 & 8 \\\\ \n",
    "9 & 10 \\\\\n",
    "11 & 12\n",
    "\\end{bmatrix}$"
   ]
  },
  {
   "cell_type": "markdown",
   "id": "diverse-modern",
   "metadata": {},
   "source": [
    "$Row \\ \\#1 * Column \\ \\#1: (1, 2, 3) • (7, 9, 11) = 1×7 + 2×9 + 3×11 = 58$</br>\n",
    "$Row \\ \\#1 * Column \\ \\#2: (1, 2, 3) • (8, 10, 12) = 1x8 + 2x10 + 3x12 = 64$</br>\n",
    "$Row \\ \\#2 * Column \\ \\#1: (4, 5, 6) • (7, 9, 11) = 4×7 + 5×9 + 6×11 = 139$</br>\n",
    "$Row \\ \\#2 * Column \\ \\#2: (4, 5, 6) • (8, 10, 12) = 4×8 + 5×10 + 6×12 = 154$</br>"
   ]
  },
  {
   "cell_type": "markdown",
   "id": "accessible-stereo",
   "metadata": {},
   "source": [
    "$ \\begin{bmatrix}\n",
    "58 & 64 \\\\ \n",
    "139 & 154\n",
    "\\end{bmatrix}$"
   ]
  },
  {
   "cell_type": "markdown",
   "id": "instructional-residence",
   "metadata": {},
   "source": [
    "## Matrix by Column Vector Multiplication"
   ]
  },
  {
   "cell_type": "markdown",
   "id": "signal-liberal",
   "metadata": {},
   "source": [
    "Multiplication of a matrix by a column vector is a special case of matrix-by-matrix multiplication. The column vector can be treated as a Nx1 matrix."
   ]
  },
  {
   "cell_type": "markdown",
   "id": "dynamic-johns",
   "metadata": {},
   "source": [
    "$ \\begin{bmatrix}\n",
    "1 & 2 & 3 \\\\ \n",
    "4 & 5 & 6\n",
    "\\end{bmatrix} \\cdot \\begin{bmatrix}\n",
    "7 \\\\ \n",
    "9 \\\\\n",
    "11\n",
    "\\end{bmatrix}$"
   ]
  },
  {
   "cell_type": "markdown",
   "id": "imported-manitoba",
   "metadata": {},
   "source": [
    "$Row \\ \\#1 * Column \\ \\#1: (1, 2, 3) • (7, 9, 11) = 1×7 + 2×9 + 3×11 = 58$</br>\n",
    "$Row \\ \\#2 * Column \\ \\#1: (4, 5, 6) • (7, 9, 11) = 4×7 + 5×9 + 6×11 = 139$</br>"
   ]
  },
  {
   "cell_type": "markdown",
   "id": "facial-consensus",
   "metadata": {},
   "source": [
    "$ \\begin{bmatrix}\n",
    "58 \\\\ \n",
    "139 \n",
    "\\end{bmatrix}$"
   ]
  },
  {
   "cell_type": "markdown",
   "id": "incorporated-estonia",
   "metadata": {},
   "source": [
    "# Operators\n",
    "\n",
    "## Python Operators\n",
    "\n",
    "`*` = element-wise product.<br>\n",
    "`**2` = element-wise square.<br>\n",
    "`np.dot` = dot product.\n",
    "\n",
    "## Math Operators\n",
    "\n",
    "$•$ = dot product.<br>\n",
    "$||A||_2$ = Frobenius norm"
   ]
  },
  {
   "cell_type": "markdown",
   "id": "accompanied-vault",
   "metadata": {},
   "source": [
    "# Application to Logistic Regression"
   ]
  },
  {
   "cell_type": "markdown",
   "id": "bridal-upset",
   "metadata": {},
   "source": [
    "## Lazy Programmer\n",
    "\n",
    "The Logistic Regression course by Lazy Programmer Inc. at https://www.udemy.com/course/data-science-logistic-regression-in-python/ uses notation including a N samples x D features input matrix."
   ]
  },
  {
   "cell_type": "markdown",
   "id": "healthy-pharmacy",
   "metadata": {},
   "source": [
    "### Notation from Logistic Regression Notebook\n",
    "$N = Number \\ of \\ samples $ <br>\n",
    "$D = Number \\ of \\ dimensions \\ (features) $ <br>\n",
    "$\\textbf{X} = N\\ x\\ D\\  matrix $ <br>\n",
    "$\\textbf{w} = N\\ x\\ 1\\  matrix \\ of \\ weights $ <br>\n",
    "$h(x) = hypothesis \\ function $ <br>\n",
    "$z = \\textbf{w}^{\\textbf{T}}\\textbf{x}$ <br>"
   ]
  },
  {
   "cell_type": "code",
   "execution_count": 19,
   "id": "fundamental-lindsay",
   "metadata": {},
   "outputs": [],
   "source": [
    "import numpy as np"
   ]
  },
  {
   "cell_type": "code",
   "execution_count": 20,
   "id": "occupied-night",
   "metadata": {},
   "outputs": [
    {
     "name": "stdout",
     "output_type": "stream",
     "text": [
      "X\n",
      "[[1 2 3]\n",
      " [3 2 1]\n",
      " [3 3 3]\n",
      " [4 4 4]\n",
      " [5 4 3]]\n",
      "shape = (5, 3), N = 5 D = 3\n",
      "\n",
      "w.T\n",
      "[[10  9  8  7  6]]\n",
      "shape = (1, 5), N = 1 D = 5\n",
      "\n",
      "Product\n",
      "[[119 114 109]]\n",
      "shape = (1, 3), N = 1 D = 3\n",
      "\n"
     ]
    }
   ],
   "source": [
    "X = np.matrix([[1,2,3],[3,2,1],[3,3,3],[4,4,4],[5,4,3]])\n",
    "print('X')\n",
    "print(X)\n",
    "# print('shape = {}, N = {} D = {}'.format(X.shape), X.shape[0], X.shape[1])\n",
    "print('shape = {}, N = {} D = {}'.format(X.shape, X.shape[0], X.shape[1]))\n",
    "print()\n",
    "w = np.matrix([[10], [9], [8], [7], [6]])\n",
    "print('w.T')\n",
    "print(w.T)\n",
    "print('shape = {}, N = {} D = {}'.format(w.T.shape, w.T.shape[0], w.T.shape[1]))\n",
    "print()\n",
    "\n",
    "product = w.T.dot(X)\n",
    "print('Product')\n",
    "print(product)\n",
    "print('shape = {}, N = {} D = {}'.format(product.shape, product.shape[0], product.shape[1]))\n",
    "print()\n",
    "# print(X*w)"
   ]
  },
  {
   "cell_type": "markdown",
   "id": "infrared-metropolitan",
   "metadata": {},
   "source": [
    "## Professor Andrew Ng (Stanford)\n",
    "The deep learning course by Andrew Ng uses an `n`x`m` input matrix."
   ]
  },
  {
   "cell_type": "markdown",
   "id": "public-center",
   "metadata": {},
   "source": [
    "$m =$ number of examples in the dataset.<br>\n",
    "$n_{x} =$ input size <br>\n",
    "$n_{y} =$ output size <br>\n",
    "$X \\in \\mathbb{R}^{n_x \\ x \\ m} $ = is the input matrix  <br>\n",
    "$x^{(i)} \\in \\mathbb{R}^{n_x}$ = the i<sup>th</sup> example represented as a column vector."
   ]
  },
  {
   "cell_type": "markdown",
   "id": "bizarre-strain",
   "metadata": {},
   "source": [
    "## Several Techniques to Multiply"
   ]
  },
  {
   "cell_type": "markdown",
   "id": "atomic-essay",
   "metadata": {},
   "source": [
    "Several methods are available to multiply numpy matrices."
   ]
  },
  {
   "cell_type": "code",
   "execution_count": 21,
   "id": "progressive-pricing",
   "metadata": {},
   "outputs": [
    {
     "name": "stdout",
     "output_type": "stream",
     "text": [
      "Product\n",
      "[[119 114 109]]\n"
     ]
    }
   ],
   "source": [
    "product = np.dot(w.T, X)\n",
    "print('Product')\n",
    "print(product)"
   ]
  },
  {
   "cell_type": "code",
   "execution_count": 22,
   "id": "owned-pepper",
   "metadata": {},
   "outputs": [
    {
     "name": "stdout",
     "output_type": "stream",
     "text": [
      "Product\n",
      "[[119 114 109]]\n"
     ]
    }
   ],
   "source": [
    "print('Product')\n",
    "print(w.T*X)"
   ]
  },
  {
   "cell_type": "code",
   "execution_count": 23,
   "id": "compatible-eugene",
   "metadata": {},
   "outputs": [
    {
     "name": "stdout",
     "output_type": "stream",
     "text": [
      "Product\n",
      "[[119 114 109]]\n"
     ]
    }
   ],
   "source": [
    "print('Product')\n",
    "print(w.T.dot(X))"
   ]
  },
  {
   "cell_type": "markdown",
   "id": "prostate-watson",
   "metadata": {},
   "source": [
    "# Warnings about Matrices in Python"
   ]
  },
  {
   "cell_type": "markdown",
   "id": "known-athens",
   "metadata": {},
   "source": [
    "## Rank-1 Array\n",
    "An array with a shape like (5,) does not behave consistently as a row vector or a column vector. The solution is to declare a 1x5 or 5x1 matrix. A 5x1 is a colum vector. A 1x5 is a row vector."
   ]
  },
  {
   "cell_type": "code",
   "execution_count": 24,
   "id": "crazy-bonus",
   "metadata": {},
   "outputs": [],
   "source": [
    "import numpy as np\n",
    "\n",
    "a = np.random.randn(5)"
   ]
  },
  {
   "cell_type": "code",
   "execution_count": 25,
   "id": "smooth-robertson",
   "metadata": {},
   "outputs": [
    {
     "name": "stdout",
     "output_type": "stream",
     "text": [
      "(5,)\n"
     ]
    }
   ],
   "source": [
    "print(a.shape)"
   ]
  },
  {
   "cell_type": "code",
   "execution_count": 26,
   "id": "rough-savings",
   "metadata": {},
   "outputs": [
    {
     "name": "stdout",
     "output_type": "stream",
     "text": [
      "(5,)\n"
     ]
    }
   ],
   "source": [
    "print(a.T.shape)"
   ]
  },
  {
   "cell_type": "code",
   "execution_count": 27,
   "id": "native-consultation",
   "metadata": {},
   "outputs": [
    {
     "name": "stdout",
     "output_type": "stream",
     "text": [
      "3.915311471066201\n"
     ]
    }
   ],
   "source": [
    "print(np.dot(a,a.T))"
   ]
  },
  {
   "cell_type": "code",
   "execution_count": 28,
   "id": "floppy-registration",
   "metadata": {},
   "outputs": [
    {
     "name": "stdout",
     "output_type": "stream",
     "text": [
      "[[-1.12373755]\n",
      " [ 1.27613696]\n",
      " [-0.23290096]\n",
      " [ 1.17966469]\n",
      " [ 1.42182608]]\n"
     ]
    }
   ],
   "source": [
    "a = np.random.randn(5,1)\n",
    "print(a)"
   ]
  },
  {
   "cell_type": "code",
   "execution_count": 29,
   "id": "coated-grammar",
   "metadata": {},
   "outputs": [
    {
     "name": "stdout",
     "output_type": "stream",
     "text": [
      "[[-1.12373755  1.27613696 -0.23290096  1.17966469  1.42182608]]\n"
     ]
    }
   ],
   "source": [
    "print(a.T)"
   ]
  },
  {
   "cell_type": "code",
   "execution_count": 30,
   "id": "adjacent-terminal",
   "metadata": {},
   "outputs": [
    {
     "name": "stdout",
     "output_type": "stream",
     "text": [
      "[[ 1.26278608 -1.43404302  0.26171955 -1.32563351 -1.59775935]\n",
      " [-1.43404302  1.62852554 -0.29721352  1.50541371  1.81444481]\n",
      " [ 0.26171955 -0.29721352  0.05424286 -0.27474504 -0.33114466]\n",
      " [-1.32563351  1.50541371 -0.27474504  1.39160877  1.67727801]\n",
      " [-1.59775935  1.81444481 -0.33114466  1.67727801  2.02158939]]\n"
     ]
    }
   ],
   "source": [
    "print(np.dot(a, a.T))"
   ]
  },
  {
   "cell_type": "code",
   "execution_count": 34,
   "id": "applicable-marathon",
   "metadata": {},
   "outputs": [
    {
     "name": "stdout",
     "output_type": "stream",
     "text": [
      "Rank-1 Array\n",
      "[ 0.10233763  0.10351315 -1.92455824 -1.23169823 -0.36765966]\n",
      "Shape\n",
      "(5,)\n",
      "\n",
      "Matrix\n",
      "[[ 0.10233763]\n",
      " [ 0.10351315]\n",
      " [-1.92455824]\n",
      " [-1.23169823]\n",
      " [-0.36765966]]\n",
      "Shape\n",
      "(5, 1)\n"
     ]
    }
   ],
   "source": [
    "# It is possible to reshae a rank-1 array to a matrix.\n",
    "b = np.random.randn(5)\n",
    "print(\"Rank-1 Array\")\n",
    "print(b)\n",
    "print(\"Shape\")\n",
    "print(b.shape)\n",
    "print()\n",
    "b = b.reshape([5,1])\n",
    "print(\"Matrix\")\n",
    "print(b)\n",
    "print(\"Shape\")\n",
    "print(b.shape)"
   ]
  },
  {
   "cell_type": "markdown",
   "id": "devoted-relay",
   "metadata": {},
   "source": [
    "# Frobenius Norm\n",
    "\n",
    "1. Take the element-wise square of matrix `A`.\n",
    "1. Sum over the elements of resulting matrix `A**2`. This yields a scalar.\n",
    "1. Take the square root of the result."
   ]
  },
  {
   "cell_type": "markdown",
   "id": "scenic-debate",
   "metadata": {},
   "source": [
    "## Formula"
   ]
  },
  {
   "cell_type": "markdown",
   "id": "aging-island",
   "metadata": {},
   "source": [
    "<font size=5>\n",
    "$\\left \\| A \\right \\|_{F} = \\left \\| A \\right \\|_{2}$<p>\n",
    "    $= \\sqrt{\\sum_{i} \\sum_{j}|a_{ij}|^2}$"
   ]
  },
  {
   "cell_type": "markdown",
   "id": "communist-statement",
   "metadata": {},
   "source": [
    "## Example\n",
    "\n",
    "$A = \\begin{bmatrix}\n",
    "2 & -2 & 1\\\\ \n",
    "-1 & 3  & -1\\\\\n",
    "2 & -4 & 1\n",
    "\\end{bmatrix}$<p>\n",
    "    $= \\sqrt{( |2|^2 + |-2|^2 + |1|^2 + |-1|^2 + |3|^2 + |-1|^2 + |2|^2 + |-4|^2 + |1|^2 }$<p>\n",
    "    $= \\sqrt{(41)} \\approx 6,40 $\n",
    "    \n",
    "https://s-mat-pcs.oulu.fi/~mpa/matreng/eem5_1-1.htm"
   ]
  },
  {
   "cell_type": "markdown",
   "id": "coated-mississippi",
   "metadata": {},
   "source": [
    "## Numpy"
   ]
  },
  {
   "cell_type": "code",
   "execution_count": 13,
   "id": "ongoing-county",
   "metadata": {},
   "outputs": [],
   "source": [
    "import numpy as np\n",
    "from numpy import linalg as LA"
   ]
  },
  {
   "cell_type": "code",
   "execution_count": 14,
   "id": "miniature-correction",
   "metadata": {},
   "outputs": [
    {
     "data": {
      "text/plain": [
       "array([ 2, -2,  1, -1,  3, -1,  2, -4,  1])"
      ]
     },
     "execution_count": 14,
     "metadata": {},
     "output_type": "execute_result"
    }
   ],
   "source": [
    "A = np.array([2, -2, 1, -1, 3, -1, 2, -4, 1])\n",
    "A"
   ]
  },
  {
   "cell_type": "code",
   "execution_count": 15,
   "id": "gothic-stuff",
   "metadata": {},
   "outputs": [
    {
     "data": {
      "text/plain": [
       "array([[ 2, -2,  1],\n",
       "       [-1,  3, -1],\n",
       "       [ 2, -4,  1]])"
      ]
     },
     "execution_count": 15,
     "metadata": {},
     "output_type": "execute_result"
    }
   ],
   "source": [
    "B = a.reshape((3, 3))\n",
    "B"
   ]
  },
  {
   "cell_type": "code",
   "execution_count": 21,
   "id": "exterior-enterprise",
   "metadata": {},
   "outputs": [
    {
     "data": {
      "text/plain": [
       "6.4031242374328485"
      ]
     },
     "execution_count": 21,
     "metadata": {},
     "output_type": "execute_result"
    }
   ],
   "source": [
    "LA.norm(B, ord='fro')"
   ]
  },
  {
   "cell_type": "markdown",
   "id": "fatal-spider",
   "metadata": {},
   "source": [
    "## Numpy without `linalg`"
   ]
  },
  {
   "cell_type": "code",
   "execution_count": 17,
   "id": "powered-arkansas",
   "metadata": {},
   "outputs": [
    {
     "data": {
      "text/plain": [
       "array([[ 4,  4,  1],\n",
       "       [ 1,  9,  1],\n",
       "       [ 4, 16,  1]], dtype=int32)"
      ]
     },
     "execution_count": 17,
     "metadata": {},
     "output_type": "execute_result"
    }
   ],
   "source": [
    "B_squared = B ** 2\n",
    "B_squared"
   ]
  },
  {
   "cell_type": "code",
   "execution_count": 19,
   "id": "celtic-batch",
   "metadata": {},
   "outputs": [
    {
     "data": {
      "text/plain": [
       "41"
      ]
     },
     "execution_count": 19,
     "metadata": {},
     "output_type": "execute_result"
    }
   ],
   "source": [
    "B_sum = np.sum(B_squared)\n",
    "B_sum"
   ]
  },
  {
   "cell_type": "code",
   "execution_count": 20,
   "id": "differential-favor",
   "metadata": {},
   "outputs": [
    {
     "data": {
      "text/plain": [
       "6.4031242374328485"
      ]
     },
     "execution_count": 20,
     "metadata": {},
     "output_type": "execute_result"
    }
   ],
   "source": [
    "B_F = np.sqrt(B_sum)\n",
    "B_F"
   ]
  },
  {
   "cell_type": "markdown",
   "id": "simplified-bedroom",
   "metadata": {},
   "source": [
    "# 1-Norm\n",
    "\n",
    "The 1-norm is the maximum of the column sums."
   ]
  },
  {
   "cell_type": "markdown",
   "id": "lined-limit",
   "metadata": {},
   "source": [
    "## Formula\n",
    "<p>\n",
    "<font size=5>\n",
    "$\\left \\| A \\right \\|_{1} = max_{1 \\le j \\le n} \\sum_{i=1}^{m}|a_{ij}|$\n",
    "    </font>"
   ]
  },
  {
   "cell_type": "markdown",
   "id": "first-utilization",
   "metadata": {},
   "source": [
    "## Example\n",
    "\n",
    " $max[ |2| + |-1| + |2|, |-2| + |3| + |-4|, |1| + |-1| + |2| ] = max[ 5, 9, 4 ] = 9$"
   ]
  },
  {
   "cell_type": "markdown",
   "id": "placed-slovenia",
   "metadata": {},
   "source": [
    "## Numpy"
   ]
  },
  {
   "cell_type": "code",
   "execution_count": 22,
   "id": "european-croatia",
   "metadata": {},
   "outputs": [
    {
     "data": {
      "text/plain": [
       "9.0"
      ]
     },
     "execution_count": 22,
     "metadata": {},
     "output_type": "execute_result"
    }
   ],
   "source": [
    "LA.norm(B, ord=1)"
   ]
  },
  {
   "cell_type": "markdown",
   "id": "wrong-logistics",
   "metadata": {},
   "source": [
    "# $\\infty$-Norm\n",
    "\n",
    "This norm is the maximum of the row sums."
   ]
  },
  {
   "cell_type": "markdown",
   "id": "confirmed-sympathy",
   "metadata": {},
   "source": [
    "## Formula\n",
    "<p>\n",
    "<font size=5>\n",
    "$\\left \\| A \\right \\|_{\\infty} = max_{1 \\le i \\le m} \\sum_{j=1}^{n}|a_{ij}|$\n",
    "    </font>"
   ]
  },
  {
   "cell_type": "markdown",
   "id": "advisory-shoot",
   "metadata": {},
   "source": [
    "## Example\n",
    "\n",
    "$= max[ |2| + |-2| + |1|, |-1| + |3| + |-1|, |2| + |-4| + |1| ] = max[ 5, 5, 7 ] = 7$"
   ]
  },
  {
   "cell_type": "markdown",
   "id": "floating-thompson",
   "metadata": {},
   "source": [
    "## Numpy"
   ]
  },
  {
   "cell_type": "code",
   "execution_count": 26,
   "id": "fantastic-heather",
   "metadata": {},
   "outputs": [
    {
     "data": {
      "text/plain": [
       "7.0"
      ]
     },
     "execution_count": 26,
     "metadata": {},
     "output_type": "execute_result"
    }
   ],
   "source": [
    "LA.norm(B, ord=np.inf)"
   ]
  },
  {
   "cell_type": "markdown",
   "id": "dramatic-career",
   "metadata": {},
   "source": []
  },
  {
   "cell_type": "markdown",
   "id": "incoming-treatment",
   "metadata": {},
   "source": []
  },
  {
   "cell_type": "markdown",
   "id": "agricultural-knowing",
   "metadata": {},
   "source": []
  },
  {
   "cell_type": "markdown",
   "id": "agreed-handle",
   "metadata": {},
   "source": []
  }
 ],
 "metadata": {
  "kernelspec": {
   "display_name": "DocClass003",
   "language": "python",
   "name": "docclass003"
  },
  "language_info": {
   "codemirror_mode": {
    "name": "ipython",
    "version": 3
   },
   "file_extension": ".py",
   "mimetype": "text/x-python",
   "name": "python",
   "nbconvert_exporter": "python",
   "pygments_lexer": "ipython3",
   "version": "3.7.9"
  }
 },
 "nbformat": 4,
 "nbformat_minor": 5
}
