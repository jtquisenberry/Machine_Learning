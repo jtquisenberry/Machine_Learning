{
 "cells": [
  {
   "cell_type": "markdown",
   "id": "packed-monthly",
   "metadata": {},
   "source": [
    "# __Matrices__"
   ]
  },
  {
   "cell_type": "markdown",
   "id": "decent-helena",
   "metadata": {},
   "source": [
    "# Basics"
   ]
  },
  {
   "cell_type": "markdown",
   "id": "informative-barcelona",
   "metadata": {},
   "source": [
    "A matrix is described as having M rows and N columns. When given the shape of a matrix, the number of rows comes first, and the number of columns comes second. _Example:_ This is a 2x3 matrix. M = 2 and N = 3."
   ]
  },
  {
   "cell_type": "markdown",
   "id": "photographic-college",
   "metadata": {},
   "source": [
    "$ \\begin{bmatrix}\n",
    "-5 & 0 & 2 \\\\ \n",
    " 4 & 3 & 0\n",
    "\\end{bmatrix} $"
   ]
  },
  {
   "cell_type": "markdown",
   "id": "accepted-edwards",
   "metadata": {},
   "source": [
    "# Matrix Multiplication"
   ]
  },
  {
   "cell_type": "markdown",
   "id": "shared-child",
   "metadata": {},
   "source": [
    "## Dot Product"
   ]
  },
  {
   "cell_type": "markdown",
   "id": "electric-appendix",
   "metadata": {},
   "source": [
    "When multiplying two matrices, the dimensions of the first matrix are denoted by MxN, and the dimensions of the second matrix are denoted by NxP. To perform multiplication, the Ns must be equal. The result is an MxP matrix. https://www.mathsisfun.com/algebra/matrix-multiplying.html"
   ]
  },
  {
   "cell_type": "markdown",
   "id": "crazy-victor",
   "metadata": {},
   "source": [
    "To perform the dot product, multiply the numbers in each row of Matrix \\#1 by the corresponding numbers in each column of Matrix \\#2. Sum over the products.  "
   ]
  },
  {
   "cell_type": "markdown",
   "id": "previous-produce",
   "metadata": {},
   "source": [
    "$ \\begin{bmatrix}\n",
    "1 & 2 & 3 \\\\ \n",
    "4 & 5 & 6\n",
    "\\end{bmatrix} \\cdot \\begin{bmatrix}\n",
    "7 & 8 \\\\ \n",
    "9 & 10 \\\\\n",
    "11 & 12\n",
    "\\end{bmatrix}$"
   ]
  },
  {
   "cell_type": "markdown",
   "id": "diverse-modern",
   "metadata": {},
   "source": [
    "$Row \\ \\#1 * Column \\ \\#1: (1, 2, 3) • (7, 9, 11) = 1×7 + 2×9 + 3×11 = 58$</br>\n",
    "$Row \\ \\#1 * Column \\ \\#2: (1, 2, 3) • (8, 10, 12) = 1x8 + 2x10 + 3x12 = 64$</br>\n",
    "$Row \\ \\#2 * Column \\ \\#1: (4, 5, 6) • (7, 9, 11) = 4×7 + 5×9 + 6×11 = 139$</br>\n",
    "$Row \\ \\#2 * Column \\ \\#2: (4, 5, 6) • (8, 10, 12) = 4×8 + 5×10 + 6×12 = 154$</br>"
   ]
  },
  {
   "cell_type": "markdown",
   "id": "accessible-stereo",
   "metadata": {},
   "source": [
    "$ \\begin{bmatrix}\n",
    "58 & 64 \\\\ \n",
    "139 & 154\n",
    "\\end{bmatrix}$"
   ]
  },
  {
   "cell_type": "markdown",
   "id": "instructional-residence",
   "metadata": {},
   "source": [
    "## Matrix by Column Vector Multiplication"
   ]
  },
  {
   "cell_type": "markdown",
   "id": "signal-liberal",
   "metadata": {},
   "source": [
    "Multiplication of a matrix by a column vector is a special case of matrix-by-matrix multiplication. The column vector can be treated as a Nx1 matrix."
   ]
  },
  {
   "cell_type": "markdown",
   "id": "dynamic-johns",
   "metadata": {},
   "source": [
    "$ \\begin{bmatrix}\n",
    "1 & 2 & 3 \\\\ \n",
    "4 & 5 & 6\n",
    "\\end{bmatrix} \\cdot \\begin{bmatrix}\n",
    "7 \\\\ \n",
    "9 \\\\\n",
    "11\n",
    "\\end{bmatrix}$"
   ]
  },
  {
   "cell_type": "markdown",
   "id": "imported-manitoba",
   "metadata": {},
   "source": [
    "$Row \\ \\#1 * Column \\ \\#1: (1, 2, 3) • (7, 9, 11) = 1×7 + 2×9 + 3×11 = 58$</br>\n",
    "$Row \\ \\#2 * Column \\ \\#1: (4, 5, 6) • (7, 9, 11) = 4×7 + 5×9 + 6×11 = 139$</br>"
   ]
  },
  {
   "cell_type": "markdown",
   "id": "facial-consensus",
   "metadata": {},
   "source": [
    "$ \\begin{bmatrix}\n",
    "58 \\\\ \n",
    "139 \n",
    "\\end{bmatrix}$"
   ]
  },
  {
   "cell_type": "markdown",
   "id": "accompanied-vault",
   "metadata": {},
   "source": [
    "# Application to Logistic Regression"
   ]
  },
  {
   "cell_type": "markdown",
   "id": "bridal-upset",
   "metadata": {},
   "source": [
    "Suppose that matrices in logistic regression are defined as follows."
   ]
  },
  {
   "cell_type": "markdown",
   "id": "healthy-pharmacy",
   "metadata": {},
   "source": [
    "### Notation from Logistic Regression Notebook\n",
    "$N = Number \\ of \\ samples $ <br>\n",
    "$D = Number \\ of \\ dimensions \\ (features) $ <br>\n",
    "$\\textbf{X} = N\\ x\\ D\\  matrix $ <br>\n",
    "$\\textbf{w} = N\\ x\\ 1\\  matrix \\ of \\ weights $ <br>\n",
    "$h(x) = hypothesis \\ function $ <br>\n",
    "$z = \\textbf{w}^{\\textbf{T}}\\textbf{x}$ <br>"
   ]
  },
  {
   "cell_type": "code",
   "execution_count": 2,
   "id": "fundamental-lindsay",
   "metadata": {},
   "outputs": [],
   "source": [
    "import numpy as np"
   ]
  },
  {
   "cell_type": "code",
   "execution_count": 37,
   "id": "occupied-night",
   "metadata": {},
   "outputs": [
    {
     "name": "stdout",
     "output_type": "stream",
     "text": [
      "X\n",
      "[[1 2 1]\n",
      " [2 2 2]\n",
      " [3 3 3]\n",
      " [4 4 4]\n",
      " [5 5 5]]\n",
      "shape = (5, 3), N = 5 D = 3\n",
      "\n",
      "w.T\n",
      "[[10  9  8  7  6]]\n",
      "shape = (1, 5), N = 1 D = 5\n",
      "\n",
      "Product\n",
      "[[110 120 110]]\n",
      "shape = (1, 3), N = 1 D = 3\n",
      "\n"
     ]
    }
   ],
   "source": [
    "X = np.matrix([[1,2,1],[2,2,2],[3,3,3],[4,4,4],[5,5,5]])\n",
    "print('X')\n",
    "print(X)\n",
    "# print('shape = {}, N = {} D = {}'.format(X.shape), X.shape[0], X.shape[1])\n",
    "print('shape = {}, N = {} D = {}'.format(X.shape, X.shape[0], X.shape[1]))\n",
    "print()\n",
    "w = np.matrix([[10], [9], [8], [7], [6]])\n",
    "print('w.T')\n",
    "print(w.T)\n",
    "print('shape = {}, N = {} D = {}'.format(w.T.shape, w.T.shape[0], w.T.shape[1]))\n",
    "print()\n",
    "\n",
    "product = w.T.dot(X)\n",
    "print('Product')\n",
    "print(product)\n",
    "print('shape = {}, N = {} D = {}'.format(product.shape, product.shape[0], product.shape[1]))\n",
    "print()\n",
    "# print(X*w)"
   ]
  },
  {
   "cell_type": "markdown",
   "id": "bizarre-strain",
   "metadata": {},
   "source": [
    "## Several Techniques to Multiply"
   ]
  },
  {
   "cell_type": "markdown",
   "id": "atomic-essay",
   "metadata": {},
   "source": [
    "Several methods are available to multiply numpy matrices."
   ]
  },
  {
   "cell_type": "code",
   "execution_count": 39,
   "id": "progressive-pricing",
   "metadata": {},
   "outputs": [
    {
     "name": "stdout",
     "output_type": "stream",
     "text": [
      "Product\n",
      "[[110 120 110]]\n"
     ]
    }
   ],
   "source": [
    "product = np.dot(w.T, X)\n",
    "print('Product')\n",
    "print(product)"
   ]
  },
  {
   "cell_type": "code",
   "execution_count": 40,
   "id": "owned-pepper",
   "metadata": {},
   "outputs": [
    {
     "name": "stdout",
     "output_type": "stream",
     "text": [
      "Product\n",
      "[[110 120 110]]\n"
     ]
    }
   ],
   "source": [
    "print('Product')\n",
    "print(w.T*X)"
   ]
  },
  {
   "cell_type": "code",
   "execution_count": 41,
   "id": "compatible-eugene",
   "metadata": {},
   "outputs": [
    {
     "name": "stdout",
     "output_type": "stream",
     "text": [
      "Product\n",
      "[[110 120 110]]\n"
     ]
    }
   ],
   "source": [
    "print('Product')\n",
    "print(w.T.dot(X))"
   ]
  },
  {
   "cell_type": "code",
   "execution_count": null,
   "id": "accompanied-basin",
   "metadata": {},
   "outputs": [],
   "source": []
  },
  {
   "cell_type": "code",
   "execution_count": null,
   "id": "subject-canberra",
   "metadata": {},
   "outputs": [],
   "source": []
  },
  {
   "cell_type": "code",
   "execution_count": null,
   "id": "crazy-bonus",
   "metadata": {},
   "outputs": [],
   "source": []
  },
  {
   "cell_type": "code",
   "execution_count": null,
   "id": "daily-capture",
   "metadata": {},
   "outputs": [],
   "source": []
  },
  {
   "cell_type": "code",
   "execution_count": null,
   "id": "adjacent-terminal",
   "metadata": {},
   "outputs": [],
   "source": []
  }
 ],
 "metadata": {
  "kernelspec": {
   "display_name": "DocClass003",
   "language": "python",
   "name": "docclass003"
  },
  "language_info": {
   "codemirror_mode": {
    "name": "ipython",
    "version": 3
   },
   "file_extension": ".py",
   "mimetype": "text/x-python",
   "name": "python",
   "nbconvert_exporter": "python",
   "pygments_lexer": "ipython3",
   "version": "3.7.9"
  }
 },
 "nbformat": 4,
 "nbformat_minor": 5
}
