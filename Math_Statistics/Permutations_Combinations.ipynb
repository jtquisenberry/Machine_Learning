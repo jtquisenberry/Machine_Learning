{
 "cells": [
  {
   "cell_type": "markdown",
   "id": "academic-residence",
   "metadata": {},
   "source": [
    "# Permutations and Combinations"
   ]
  },
  {
   "cell_type": "markdown",
   "id": "loving-encyclopedia",
   "metadata": {},
   "source": [
    "## Permutations"
   ]
  },
  {
   "cell_type": "markdown",
   "id": "representative-greene",
   "metadata": {},
   "source": [
    "Permutations\n",
    "http://www.mathwords.com/p/permutation_formula.htm\n"
   ]
  },
  {
   "cell_type": "markdown",
   "id": "sunset-trinidad",
   "metadata": {},
   "source": [
    "## Formula\n",
    "<br>\n",
    "<font size=5>\n",
    "$_nP_k$<br>\n",
    "    $= \\frac{(n!)}{(n-k)!}$\n",
    "</font>"
   ]
  },
  {
   "cell_type": "markdown",
   "id": "banner-reconstruction",
   "metadata": {},
   "source": [
    "## Example\n",
    "\n",
    "<br>\n",
    "How many ways can 4 students from a group of 15 be lined up for a photograph? Notice that different orders are counted.\n",
    "<br><br>\n",
    "<font size=5>\n",
    "$_{15}P_{4}$<p>\n",
    "$= \\frac{15!}{(15-4)!}$<p>\n",
    "$= \\frac{15!}{11!}$<p>\n",
    "$= 32760$<br>\n",
    "    </font>\n",
    "    "
   ]
  },
  {
   "cell_type": "markdown",
   "id": "faced-learning",
   "metadata": {},
   "source": [
    "## Combinations"
   ]
  },
  {
   "cell_type": "markdown",
   "id": "objective-chest",
   "metadata": {},
   "source": [
    "Combinations <br>\n",
    "http://www.mathwords.com/c/combination_formula.htm\n",
    "\n",
    "nCr is \"n choose r\""
   ]
  },
  {
   "cell_type": "markdown",
   "id": "focal-manner",
   "metadata": {},
   "source": [
    "## Formula\n",
    "\n",
    "<br>\n",
    "<font size=5>\n",
    "    $_nC_r$<p>\n",
    "    $= \\frac{(n!)}{k!(n-k)!}$<p>\n",
    "</font>\n"
   ]
  },
  {
   "cell_type": "markdown",
   "id": "urban-grass",
   "metadata": {},
   "source": [
    "## Example\n",
    "\n",
    "How many different committees of 4 students can be chosen from a group of 15? Notice that the students are interchangeable. \n",
    "<p>\n",
    "\n",
    "<font size=5>\n",
    "    $_{15}C_{4}$<p>\n",
    "    $= \\frac{15!}{4!(15-4)!}$<p>\n",
    "    $= \\frac{15!}{4!11!}$<p>\n",
    "    $= 1365$\n",
    "    </font>\n"
   ]
  },
  {
   "cell_type": "markdown",
   "id": "optional-albany",
   "metadata": {},
   "source": []
  },
  {
   "cell_type": "markdown",
   "id": "competitive-participant",
   "metadata": {},
   "source": []
  },
  {
   "cell_type": "markdown",
   "id": "alternate-louisiana",
   "metadata": {},
   "source": []
  },
  {
   "cell_type": "markdown",
   "id": "invalid-favorite",
   "metadata": {},
   "source": []
  },
  {
   "cell_type": "markdown",
   "id": "special-stock",
   "metadata": {},
   "source": []
  },
  {
   "cell_type": "markdown",
   "id": "standing-contemporary",
   "metadata": {},
   "source": []
  }
 ],
 "metadata": {
  "kernelspec": {
   "display_name": "DocClass003",
   "language": "python",
   "name": "docclass003"
  },
  "language_info": {
   "codemirror_mode": {
    "name": "ipython",
    "version": 3
   },
   "file_extension": ".py",
   "mimetype": "text/x-python",
   "name": "python",
   "nbconvert_exporter": "python",
   "pygments_lexer": "ipython3",
   "version": "3.7.9"
  }
 },
 "nbformat": 4,
 "nbformat_minor": 5
}
