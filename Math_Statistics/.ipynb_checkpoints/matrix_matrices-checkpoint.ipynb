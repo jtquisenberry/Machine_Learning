{
 "cells": [
  {
   "cell_type": "markdown",
   "id": "undefined-import",
   "metadata": {},
   "source": [
    "# Vectors"
   ]
  },
  {
   "cell_type": "markdown",
   "id": "flush-price",
   "metadata": {},
   "source": [
    "## Inner Product -- Dot Product"
   ]
  },
  {
   "cell_type": "markdown",
   "id": "postal-demonstration",
   "metadata": {},
   "source": [
    "$ a = \\begin{bmatrix}\n",
    "a_1 & a_2 & ... & a_n\n",
    "\\end{bmatrix}, b = \\begin{bmatrix}\n",
    "b_1 \\\\ b_2 \\\\ ... \\\\ b_n\n",
    "\\end{bmatrix} $"
   ]
  },
  {
   "cell_type": "markdown",
   "id": "veterinary-trainer",
   "metadata": {},
   "source": [
    "Expressing the above example in this way, a 1 × 3 matrix (row vector) is multiplied by a 3 × 1 matrix (column vector) to get a 1 × 1 matrix that is identified with its unique entry:\n",
    "\n",
    "`[ 1 , 3 , − 5 ] ⋅ [ 4 , − 2 , − 1 ] = ( 1 × 4 ) + ( 3 × − 2 ) + ( − 5 × − 1 ) = 4 − 6 + 5 = 3`\n",
    "\n",
    "$a \\cdot b = $\n",
    "\n",
    "$\\begin{bmatrix} 1 & 3  & −5 \\end{bmatrix} \\cdot \\begin{bmatrix} 4 \\\\ −2 \\\\ −1 \\end{bmatrix} = 3 $"
   ]
  },
  {
   "cell_type": "markdown",
   "id": "comfortable-cleveland",
   "metadata": {},
   "source": [
    "## Outer Product -- Tensor Product"
   ]
  },
  {
   "cell_type": "markdown",
   "id": "documented-fitness",
   "metadata": {},
   "source": [
    "$$\n",
    "\\mathbf{v}=\\left[\\begin{array}{c}\n",
    "v_{1} \\\\\n",
    "v_{2} \\\\\n",
    "\\vdots \\\\\n",
    "v_{n}\n",
    "\\end{array}\\right], \\mathbf{w}=\\left[\\begin{array}{c}\n",
    "w_{1} \\\\\n",
    "w_{2} \\\\\n",
    "\\vdots \\\\\n",
    "w_{m}\n",
    "\\end{array}\\right]\n",
    "$$\n",
    "\n",
    "Tensor product of $\\mathbf{v}$ and $\\mathbf{w}$ is given by\n",
    "\n",
    "$$\n",
    "\\underset{\\underset{\\scriptstyle\\text{\\bigotimes}}{\\scriptstyle}}{\\mathbf{v} \\bigotimes \\mathbf{w}} = \n",
    "\\underset{\\underset{\\scriptstyle\\text{\\otimes}}{\\scriptstyle}}{\\mathbf{v} \\otimes \\mathbf{w}}=\\left[\\begin{array}{cccc}\n",
    "v_{1} w_{1} & v_{1} w_{2} & \\cdots & v_{1} w_{m} \\\\\n",
    "v_{2} w_{1} & v_{2} w_{2} & \\cdots & v_{2} w_{m} \\\\\n",
    "\\vdots & \\vdots & \\ddots & \\vdots \\\\\n",
    "v_{n} w_{1} & v_{n} w_{2} & \\cdots & v_{n} w_{m}\n",
    "\\end{array}\\right]\n",
    "$$"
   ]
  },
  {
   "cell_type": "markdown",
   "id": "verbal-generic",
   "metadata": {},
   "source": [
    "https://www.math-linux.com/latex-26/faq/latex-faq/article/latex-tensor-product"
   ]
  },
  {
   "cell_type": "markdown",
   "id": "amateur-russia",
   "metadata": {},
   "source": [
    "The outer product $v \\otimes w$ is equivalent to a matrix multiplication $vw^\\top$."
   ]
  },
  {
   "cell_type": "markdown",
   "id": "packed-monthly",
   "metadata": {},
   "source": [
    "# __Matrices__"
   ]
  },
  {
   "cell_type": "markdown",
   "id": "decent-helena",
   "metadata": {},
   "source": [
    "# Basics"
   ]
  },
  {
   "cell_type": "markdown",
   "id": "informative-barcelona",
   "metadata": {},
   "source": [
    "A matrix is described as having M rows and N columns. When given the shape of a matrix, the number of rows comes first, and the number of columns comes second. _Example:_ This is a 2x3 matrix. M = 2 and N = 3."
   ]
  },
  {
   "cell_type": "markdown",
   "id": "photographic-college",
   "metadata": {},
   "source": [
    "$ \\begin{bmatrix}\n",
    "-5 & 0 & 2 \\\\ \n",
    " 4 & 3 & 0\n",
    "\\end{bmatrix} $"
   ]
  },
  {
   "cell_type": "markdown",
   "id": "accepted-edwards",
   "metadata": {},
   "source": [
    "# Matrix Multiplication"
   ]
  },
  {
   "cell_type": "markdown",
   "id": "shared-child",
   "metadata": {},
   "source": [
    "## Dot Product"
   ]
  },
  {
   "cell_type": "markdown",
   "id": "electric-appendix",
   "metadata": {},
   "source": [
    "When multiplying two matrices, the dimensions of the first matrix are denoted by MxN, and the dimensions of the second matrix are denoted by NxP. To perform multiplication, the Ns must be equal. The result is an MxP matrix. https://www.mathsisfun.com/algebra/matrix-multiplying.html"
   ]
  },
  {
   "cell_type": "markdown",
   "id": "crazy-victor",
   "metadata": {},
   "source": [
    "To perform the dot product, multiply the numbers in each row of Matrix \\#1 by the corresponding numbers in each column of Matrix \\#2. Sum over the products.  "
   ]
  },
  {
   "cell_type": "markdown",
   "id": "previous-produce",
   "metadata": {},
   "source": [
    "$ \\begin{bmatrix}\n",
    "1 & 2 & 3 \\\\ \n",
    "4 & 5 & 6\n",
    "\\end{bmatrix} \\cdot \\begin{bmatrix}\n",
    "7 & 8 \\\\ \n",
    "9 & 10 \\\\\n",
    "11 & 12\n",
    "\\end{bmatrix}$"
   ]
  },
  {
   "cell_type": "markdown",
   "id": "diverse-modern",
   "metadata": {},
   "source": [
    "Row \\#1 * Column \\#1: $(1, 2, 3) \\cdot (7, 9, 11) = 1×7 + 2×9 + 3×11 = 58$<br>\n",
    "Row \\#1 * Column \\#2: $(1, 2, 3) \\cdot (8, 10, 12) = 1 \\times 8 + 2 \\times 10 + 3 \\times 12 = 64$<br>\n",
    "Row \\#2 * Column \\#1: $(4, 5, 6) \\cdot (7, 9, 11) = 4×7 + 5×9 + 6×11 = 139$<br>\n",
    "Row \\#2 * Column \\#2: $(4, 5, 6) \\cdot (8, 10, 12) = 4×8 + 5×10 + 6×12 = 154$<br>"
   ]
  },
  {
   "cell_type": "markdown",
   "id": "accessible-stereo",
   "metadata": {},
   "source": [
    "$ \\begin{bmatrix}\n",
    "58 & 64 \\\\ \n",
    "139 & 154\n",
    "\\end{bmatrix}$"
   ]
  },
  {
   "cell_type": "markdown",
   "id": "instructional-residence",
   "metadata": {},
   "source": [
    "## Matrix by Column Vector Multiplication"
   ]
  },
  {
   "cell_type": "markdown",
   "id": "signal-liberal",
   "metadata": {},
   "source": [
    "Multiplication of a matrix by a column vector is a special case of matrix-by-matrix multiplication. The column vector can be treated as a Nx1 matrix."
   ]
  },
  {
   "cell_type": "markdown",
   "id": "dynamic-johns",
   "metadata": {},
   "source": [
    "$ \\begin{bmatrix}\n",
    "1 & 2 & 3 \\\\ \n",
    "4 & 5 & 6\n",
    "\\end{bmatrix} \\cdot \\begin{bmatrix}\n",
    "7 \\\\ \n",
    "9 \\\\\n",
    "11\n",
    "\\end{bmatrix}$"
   ]
  },
  {
   "cell_type": "markdown",
   "id": "imported-manitoba",
   "metadata": {},
   "source": [
    "Row \\#1 * Column \\#1: $(1, 2, 3) \\cdot (7, 9, 11) = 1×7 + 2×9 + 3×11 = 58$<br>\n",
    "Row \\#2 * Column \\#1: $(4, 5, 6) \\cdot (7, 9, 11) = 4×7 + 5×9 + 6×11 = 139$<br>"
   ]
  },
  {
   "cell_type": "markdown",
   "id": "facial-consensus",
   "metadata": {},
   "source": [
    "$ \\begin{bmatrix}\n",
    "58 \\\\ \n",
    "139 \n",
    "\\end{bmatrix}$"
   ]
  },
  {
   "cell_type": "markdown",
   "id": "bb3b9435",
   "metadata": {},
   "source": [
    "# Eigenvalues and Eigenvectors\n",
    "\n",
    "https://www.youtube.com/watch?v=PFDu9oVAE-g&list=PLZHQObOWTQDPD3MizzM2xVFitgF8hE_ab&index=14\n",
    "\n",
    "An eigenvector is a vector that is not thrown of its span (line containing it) during the linear transformation specified by a matrix. The vector can be stretched or squished, but that is all. The eigenvalue is the scalar that represents stretching or squishing. "
   ]
  },
  {
   "cell_type": "markdown",
   "id": "0c4677c8",
   "metadata": {},
   "source": [
    "<font size=5>\n",
    "$A$ = matrix<br>\n",
    "$\\vec{v}$ = vector<br>\n",
    "$\\lambda$ = eigenvalue\n",
    "</font>"
   ]
  },
  {
   "cell_type": "markdown",
   "id": "47c91be9",
   "metadata": {},
   "source": [
    "## Formula\n",
    "<br>\n",
    "<font size=5>\n",
    "    $A\\vec{v} = \\lambda\\vec{v}$\n",
    "    </font>\n",
    "    \n",
    "Notice that $A$ is a matrix and $\\lambda$ is a scalar. We need to express the scalar as a matrix so we can do algebra.\n",
    "\n",
    "Scalar $\\lambda$ is equivalent to a matrix with $\\lambda$ down the diagonal and zeros everywhere else. Suppose $A$ is a 3x3 matrix, then $\\lambda$ = \n",
    "\n",
    "$ \\begin{bmatrix}\n",
    "\\lambda & 0 & 0 \\\\ \n",
    "0 & \\lambda & 0 \\\\\n",
    "0 & 0 & \\lambda\n",
    "\\end{bmatrix}$\n",
    "\n",
    "That matrix is simply $\\lambda$ times the identity matrix $\\lambda I$. So, it is possible to factor the matrix like this:\n",
    "\n",
    "$ \\lambda * \\begin{bmatrix}\n",
    "1 & 0 & 0 \\\\ \n",
    "0 & 1 & 0 \\\\\n",
    "0 & 0 & 1\n",
    "\\end{bmatrix}$\n",
    "\n",
    "Thus we have.\n",
    "\n",
    "<br>\n",
    "<font size=5>\n",
    "    $A\\vec{v} - (\\lambda I)\\vec{v} = \\vec{0}$ <br>\n",
    "    $(A - \\lambda I) \\vec{v} = \\vec{0}$\n",
    "    </font>\n",
    "\n",
    "This form featues matrix-vector multiplication on both sides.\n"
   ]
  },
  {
   "cell_type": "markdown",
   "id": "090db744",
   "metadata": {},
   "source": [
    "Suppose $A$ looks like this:\n",
    "\n",
    "$ \\begin{bmatrix}\n",
    "3 & 1 & 4 \\\\ \n",
    "1 & 5 & 9 \\\\\n",
    "2 & 6 & 5\n",
    "\\end{bmatrix}$\n",
    "\n",
    "Subtracting $\\lambda I$ gives us\n",
    "\n",
    "$ \\begin{bmatrix}\n",
    "3-\\lambda & 1 & 4 \\\\ \n",
    "1 & 5-\\lambda & 9 \\\\\n",
    "2 & 6 & 5-\\lambda\n",
    "\\end{bmatrix}$\n"
   ]
  },
  {
   "cell_type": "markdown",
   "id": "b8c97f2b",
   "metadata": {},
   "source": [
    "The only way we can have an eigenvector is if the determinant = 0."
   ]
  },
  {
   "cell_type": "markdown",
   "id": "09090f73",
   "metadata": {},
   "source": [
    "Determinants are easier to calculate with a 2x2 matrix. Suppose $A - \\lambda I$ looks like this:\n",
    "\n",
    "$ \\begin{bmatrix}\n",
    "3 & 1 \\\\ \n",
    "0 & 2\n",
    "\\end{bmatrix}$\n",
    "\n",
    "We compute the eigenvalue by computing the determinant and solving where it equals 0.\n",
    "\n",
    "$ det(\\begin{bmatrix}\n",
    "3-\\lambda & 1 \\\\ \n",
    "0 & 2-\\lambda\n",
    "\\end{bmatrix}) = (3 - \\lambda)(2 - \\lambda) = 0$\n",
    "\n",
    "$\\lambda = 2, 3$"
   ]
  },
  {
   "cell_type": "markdown",
   "id": "19c95f6c",
   "metadata": {},
   "source": [
    "To get the eigenvector, plug in $\\lambda$ into the matrix and solve for the vector. Example where $\\lambda = 2$.\n",
    "\n",
    "$ \\begin{bmatrix}\n",
    "3-2 & 1 \\\\ \n",
    "0 & 2-2\n",
    "\\end{bmatrix}\\begin{bmatrix}\n",
    "x \\\\\n",
    "y\n",
    "\\end{bmatrix} = \\begin{bmatrix}\n",
    "0 \\\\\n",
    "0\n",
    "\\end{bmatrix}$"
   ]
  },
  {
   "cell_type": "markdown",
   "id": "cb95fdb0",
   "metadata": {},
   "source": [
    "Solve as a system of equations.\n",
    "\n",
    "$1x + 1y = 0$<br>\n",
    "$0x + 0y = 0$\n",
    "\n",
    "$x = -y$\n",
    "\n",
    "Thus, the vectors are infinitely many eigenvector solutions.\n"
   ]
  },
  {
   "cell_type": "markdown",
   "id": "13fd208d",
   "metadata": {},
   "source": [
    "## Diagonal Matrix\n",
    "\n",
    "Given a diagonal matrix, where there are non-zeros down the diagonal and zeros everywhere else. Each basis vector (column vector) is an eigenvector.\n",
    "\n"
   ]
  },
  {
   "cell_type": "markdown",
   "id": "65f9a789",
   "metadata": {},
   "source": [
    "# Eigendecomposition"
   ]
  },
  {
   "cell_type": "markdown",
   "id": "b9260c9a",
   "metadata": {},
   "source": [
    "https://www.youtube.com/watch?v=oshZQtYAh84\n",
    "\n",
    "* Maximum of f(x) = largest eigenvalue\n",
    "* Minimum of f(x) = smallest eigenvalue\n",
    "\n",
    "<br><br>\n",
    "\n",
    "<font size =4>\n",
    "$A$ = a matrix <br>\n",
    "    \n",
    "$\\Lambda$ = the second decomposed matrix. <br>\n",
    "  * $\\Sigma$ is \n",
    "    \n",
    "$V^\\top$ = the third decomposed matrix. <br>\n",
    "  * $V^\\top$ is an orthogonal matrix.\n",
    "   \n",
    "    </font>"
   ]
  },
  {
   "cell_type": "markdown",
   "id": "454abf51",
   "metadata": {},
   "source": [
    "## Formulas\n",
    "\n",
    "<br><br>\n",
    "<font size=4>\n",
    "$A = (V\\Lambda V^{-1})$\n",
    "</font>\n",
    "\n",
    "First we calculate $A$ and $A^\\top$\n",
    "<br><br>\n",
    "<font size=4>\n",
    "$A^\\top A = (V\\Sigma^\\top U^\\top) U\\Sigma V^\\top$\n",
    "</font>\n",
    "\n",
    "First we calculate $A$ and $A^\\top$\n",
    "<br><br>\n",
    "<font size=4>\n",
    "$A^\\top A = (V\\Sigma^\\top U^\\top) U\\Sigma V^\\top$\n",
    "</font>\n",
    "\n",
    "First we calculate $A$ and $A^\\top$\n",
    "<br><br>\n",
    "<font size=4>\n",
    "$A^\\top A = (V\\Sigma^\\top U^\\top) U\\Sigma V^\\top$\n",
    "</font>"
   ]
  },
  {
   "cell_type": "markdown",
   "id": "880de106",
   "metadata": {},
   "source": []
  },
  {
   "cell_type": "markdown",
   "id": "72567d9b",
   "metadata": {},
   "source": []
  },
  {
   "cell_type": "markdown",
   "id": "a45a1391",
   "metadata": {},
   "source": []
  },
  {
   "cell_type": "markdown",
   "id": "5cbdc324",
   "metadata": {},
   "source": []
  },
  {
   "cell_type": "markdown",
   "id": "c9818de2",
   "metadata": {},
   "source": []
  },
  {
   "cell_type": "markdown",
   "id": "225b27d8",
   "metadata": {},
   "source": [
    "# Single Value Decomposition\n",
    "\n",
    "We are looking for vectors that start out orthoganal and remain orthogonal after transformation by a matrix. \n",
    "\n",
    "\n",
    "https://www.youtube.com/watch?v=mBcLRGuAFUk\n",
    "<br><br>\n",
    "\n",
    "<font size =4>\n",
    "$A$ = a matrix <br>\n",
    "        \n",
    "$U$ = the first decomposed matrix.<br>\n",
    "* $U$ is an orthogonal matrix.\n",
    "    \n",
    "$\\Sigma$ = the second decomposed matrix. <br>\n",
    "  * $\\Sigma$ is a diagonal matrix.\n",
    "    \n",
    "$V^\\top$ = the third decomposed matrix. <br>\n",
    "  * $V^\\top$ is an orthogonal matrix.\n",
    "   \n",
    "    </font>\n"
   ]
  },
  {
   "cell_type": "markdown",
   "id": "b7eb725d",
   "metadata": {},
   "source": [
    "## Formulas"
   ]
  },
  {
   "cell_type": "markdown",
   "id": "4ee891da",
   "metadata": {},
   "source": [
    "We start with the given formula\n",
    "<br><br>\n",
    "<font size=4>\n",
    "$A = U \\Sigma V^\\top$ <br>\n",
    "</font>\n",
    "\n",
    "First we calculate $A$ and $A^\\top$\n",
    "<br><br>\n",
    "<font size=4>\n",
    "$A^\\top A = (V\\Sigma^\\top U^\\top) U\\Sigma V^\\top$\n",
    "</font>\n",
    "\n",
    "Since $U$ is orthogonal, $U^\\top U$ is the identiy matrix, which cancels the $U$ terms. That gives us\n",
    "<br><br>\n",
    "<font size=4>\n",
    "$= V (\\Sigma^\\top \\Sigma) V^\\top$\n",
    "</font>\n",
    "\n",
    "$\\Sigma^\\top \\Sigma$ is a diagonal matrix.\n",
    "\n",
    "For $A^\\top A$, the eigenvalues are in $\\Sigma^\\top \\Sigma$ and the eigenvectors are in $V$. The eigenvectors in $V$ are orthogonal, and the eigenvalues in $\\Sigma^\\top \\Sigma$ are positive.\n",
    "\n",
    "$\\lambda$ for $A^\\top A$ is $\\sigma^2$ for $A$.\n",
    "\n"
   ]
  },
  {
   "cell_type": "markdown",
   "id": "c9a7b97e",
   "metadata": {},
   "source": [
    "Now we calculate $AA^\\top$.\n",
    "<br><br>\n",
    "<font size=4>\n",
    "$AA^\\top = U \\Sigma V^\\top V \\Sigma^\\top U^\\top$    \n",
    "</font>\n",
    "\n",
    "$V$ is an orthogonal matrix, and $V^\\top V$ is the identiy matrix, which cancels the $V$ terms. \n",
    "\n",
    "Now we know that $U$ is the eigenvector matrix for $AA^\\top$. $\\Sigma^\\top \\Sigma$ contains the eigenvalues.\n",
    "\n",
    "## Example\n",
    "\n",
    "$A = \\begin{bmatrix}\n",
    "2 & 2 \\\\ \n",
    "1 & 1\n",
    "\\end{bmatrix}$\n",
    "\n",
    "Notice that this is a singular matrix. Its determinant is 0. Row 1 is a scalar product of row 2.\n"
   ]
  },
  {
   "cell_type": "markdown",
   "id": "e4054c56",
   "metadata": {},
   "source": [
    "Professor Strang gives the solution as \n",
    "\n",
    "$A = U \\Sigma V^\\top$\n",
    "\n",
    "$A = \\begin{bmatrix}\n",
    "2 & 2 \\\\ \n",
    "1 & 1\n",
    "\\end{bmatrix} = \n",
    "\\frac{\\begin{bmatrix}\n",
    "2 & 1 \\\\ \n",
    "-1 & 2\n",
    "\\end{bmatrix}}{\\sqrt{5}}\n",
    "\\begin{bmatrix}\n",
    "\\sqrt{10} & 0 \\\\ \n",
    "0 & 0\n",
    "\\end{bmatrix}\n",
    "\\frac{\\begin{bmatrix}\n",
    "1 & 1 \\\\ \n",
    "1 & -1\n",
    "\\end{bmatrix}}{\\sqrt{2}}$\n",
    "\n",
    "I believe there are additional solutions because there are multiple eigenvectors of $AA^\\top$. I observed that the additional solutions I found differ only by the sign of some elements of the each matrix. "
   ]
  },
  {
   "cell_type": "markdown",
   "id": "7bc38866",
   "metadata": {},
   "source": [
    "https://www.emathhelp.net/calculators/linear-algebra/svd-calculator/?i=%5B%5B2%2C2%5D%2C%5B1%2C1%5D%5D\n",
    "\n",
    "## U\n",
    "\n",
    "$AA^\\top = \n",
    "\\begin{bmatrix}\n",
    "8 & 4 \\\\ \n",
    "4 & 2\n",
    "\\end{bmatrix}\n",
    "$ <br><br>\n",
    "Eigenvalue: $10$, eigenvector $\\begin{bmatrix}\n",
    "2  \\\\ \n",
    "1 \n",
    "\\end{bmatrix}\n",
    "$<br><br>\n",
    "Eigenvalue: $0$, eigenvector $\\begin{bmatrix}\n",
    "-\\frac{1}{2}  \\\\ \n",
    "1 \n",
    "\\end{bmatrix}$\n",
    "\n",
    "Non-normalized matrix: $\\begin{bmatrix}\n",
    "2 & -\\frac{1}{2} \\\\ \n",
    "1 & 1\n",
    "\\end{bmatrix}$\n",
    "\n",
    "Normalize by calculating the unit vector of the column 0 vector. Magnitude of vector $[2, 1] = \\sqrt{2^2 + 1^2} = \\sqrt{5}$.\n",
    "\n",
    "Normalized matrix: $\\begin{bmatrix}\n",
    "\\frac{2}{\\sqrt{5}} & -\\frac{1}{\\sqrt{5}} \\\\ \n",
    "\\frac{1}{\\sqrt{5}} & \\frac{2}{\\sqrt{5}}\n",
    "\\end{bmatrix} = \\begin{bmatrix}\n",
    "0.894 & -0.447 \\\\ \n",
    "0.447 & 0.894\n",
    "\\end{bmatrix}$\n",
    "\n",
    "This is the same as Professor Strang's solution for U, except that the minus sign was moved from lower-left to upper-right."
   ]
  },
  {
   "cell_type": "markdown",
   "id": "6abc227f",
   "metadata": {},
   "source": [
    "## $\\Sigma$\n",
    "\n",
    "$AA^\\top = \n",
    "\\begin{bmatrix}\n",
    "8 & 4 \\\\ \n",
    "4 & 2\n",
    "\\end{bmatrix}\n",
    "$ <br><br>\n",
    "\n",
    "Since $\\Sigma \\Sigma^\\top$ contains the eigenvalues. To find the eigenvalues of $A$, take the square root of each eigenvalue and put them in a diagonal matrix. \n",
    "\n",
    "Eigenvalues of $AA^\\top = [10, 0]$\n",
    "\n",
    "Eigenvalues of $A = [\\sqrt{10}, 0]$\n",
    "\n",
    "$\\Sigma=\\begin{bmatrix}\n",
    "\\sqrt{10} & 0 \\\\ \n",
    "0 & 0\n",
    "\\end{bmatrix}$"
   ]
  },
  {
   "cell_type": "markdown",
   "id": "b77fb3db",
   "metadata": {},
   "source": [
    "## V\n",
    "\n",
    "An alternative to the following technique is to compute $A^\\top A$ and solve for $V$ the same way we solved for $U$.\n",
    "<br><br>\n",
    "<font size=4>\n",
    "$v_i = \\frac{1}{\\sigma_i} * A^\\top * u_i$\n",
    "    \n",
    "<br>\n",
    "$v_1 = \\frac{1}{\\sigma_i} * \\begin{bmatrix}\n",
    "2 & 2 \\\\ \n",
    "1 & 1\n",
    "\\end{bmatrix}^\\top * u_1$\n",
    "    \n",
    "$= \\frac{1}{\\sqrt{10}} * \\begin{bmatrix}\n",
    "2 & 1 \\\\ \n",
    "2 & 1\n",
    "\\end{bmatrix} * \\begin{bmatrix}\n",
    "\\frac{2}{\\sqrt{5}} \\\\ \n",
    "\\frac{1}{\\sqrt{5}}\n",
    "\\end{bmatrix}$\n",
    "    \n",
    "$= \\begin{bmatrix}\n",
    "\\frac{\\sqrt{2}}{2} \\\\ \n",
    "\\frac{\\sqrt{2}}{2}\n",
    "\\end{bmatrix}$\n",
    "    \n",
    "Since we have run out of nonzero $\\sigma_i$ and need one more vector, find the orthogonal vector to all the found vectors by finding the null space of the matrix whose rows are the found vectors: \n",
    "    \n",
    "$= \\begin{bmatrix}\n",
    "-1 \\\\ \n",
    "1\n",
    "\\end{bmatrix}$\n",
    "    \n",
    "Normalize the vector to:\n",
    "    \n",
    "$\\begin{bmatrix}\n",
    "-\\frac{\\sqrt{2}}{2} \\\\ \n",
    "\\frac{\\sqrt{2}}{2}\n",
    "\\end{bmatrix}$    \n",
    "    \n",
    "$ V = \\begin{bmatrix}\n",
    "\\frac{\\sqrt{2}}{2} & -\\frac{\\sqrt{2}}{2} \\\\ \n",
    "\\frac{\\sqrt{2}}{2} & \\frac{\\sqrt{2}}{2}\n",
    "\\end{bmatrix} = \\begin{bmatrix}\n",
    "0.707 & -0.707 \\\\ \n",
    "0.707 & 0.707\n",
    "\\end{bmatrix}$\n",
    "    \n",
    "</font>"
   ]
  },
  {
   "cell_type": "markdown",
   "id": "893ab0f0",
   "metadata": {},
   "source": [
    "## Python SVD Directly"
   ]
  },
  {
   "cell_type": "code",
   "execution_count": 78,
   "id": "de1c9abe",
   "metadata": {},
   "outputs": [
    {
     "name": "stdout",
     "output_type": "stream",
     "text": [
      "[[2 2]\n",
      " [1 1]]\n"
     ]
    }
   ],
   "source": [
    "import numpy as np\n",
    "a = np.array([[2, 2], [1, 1]])\n",
    "print(a)"
   ]
  },
  {
   "cell_type": "code",
   "execution_count": 79,
   "id": "c6da027b",
   "metadata": {},
   "outputs": [],
   "source": [
    "u, s, vh = np.linalg.svd(a, full_matrices=True)"
   ]
  },
  {
   "cell_type": "code",
   "execution_count": 80,
   "id": "980f6332",
   "metadata": {},
   "outputs": [
    {
     "name": "stdout",
     "output_type": "stream",
     "text": [
      "[[-0.89442719 -0.4472136 ]\n",
      " [-0.4472136   0.89442719]]\n",
      "[[-2. -1.]\n",
      " [-1.  2.]]\n"
     ]
    }
   ],
   "source": [
    "print(u)\n",
    "print(u * (5**.5))"
   ]
  },
  {
   "cell_type": "code",
   "execution_count": 81,
   "id": "cd3d4a56",
   "metadata": {},
   "outputs": [
    {
     "name": "stdout",
     "output_type": "stream",
     "text": [
      "[[3.16227766 0.        ]\n",
      " [0.         0.        ]]\n",
      "[[10.  0.]\n",
      " [ 0.  0.]]\n"
     ]
    }
   ],
   "source": [
    "s = np.diag(s)\n",
    "print(s)\n",
    "print(s * np.sqrt(10))"
   ]
  },
  {
   "cell_type": "code",
   "execution_count": 82,
   "id": "8f3864ea",
   "metadata": {},
   "outputs": [
    {
     "name": "stdout",
     "output_type": "stream",
     "text": [
      "[[-0.70710678 -0.70710678]\n",
      " [-0.70710678  0.70710678]]\n",
      "[[-1. -1.]\n",
      " [-1.  1.]]\n"
     ]
    }
   ],
   "source": [
    "print(vh)\n",
    "print(vh * (2**.5))"
   ]
  },
  {
   "cell_type": "markdown",
   "id": "64becde3",
   "metadata": {},
   "source": [
    "## Python SVD fro Eigenvectors"
   ]
  },
  {
   "cell_type": "code",
   "execution_count": 86,
   "id": "bc0a6699",
   "metadata": {},
   "outputs": [
    {
     "name": "stdout",
     "output_type": "stream",
     "text": [
      "Sigma\n",
      " [[3.16227766 0.        ]\n",
      " [0.         0.        ]]\n",
      "U\n",
      " [[ 0.89442719 -0.4472136 ]\n",
      " [ 0.4472136   0.89442719]]\n",
      "V\n",
      " [[ 0.70710678 -0.70710678]\n",
      " [ 0.70710678  0.70710678]]\n"
     ]
    }
   ],
   "source": [
    "# create simple 3x3 matrix\n",
    "A = np.array([[2, 2], [1, 1]])\n",
    "At = np.transpose(A)\n",
    "AtA = At @ A\n",
    "AAt = A @ At\n",
    "\n",
    "#print(AAt)\n",
    "\n",
    "# get eigenvalues and eigenvectors\n",
    "values, vectors = np.linalg.eig(AAt) # U\n",
    "values2, vectors2 = np.linalg.eig(AtA) # V\n",
    "\n",
    "values = np.sqrt(np.diag(values))\n",
    "print(\"Sigma\\n\", values)\n",
    "print(\"U\\n\", vectors)\n",
    "print(\"V\\n\", vectors2)\n"
   ]
  },
  {
   "cell_type": "code",
   "execution_count": 87,
   "id": "23e78990",
   "metadata": {},
   "outputs": [
    {
     "data": {
      "text/plain": [
       "array([[2., 2.],\n",
       "       [1., 1.]])"
      ]
     },
     "execution_count": 87,
     "metadata": {},
     "output_type": "execute_result"
    }
   ],
   "source": [
    "# Prove that this is a valid solution by recombining the matrices\n",
    "vectors @ values @ np.transpose(vectors2)"
   ]
  },
  {
   "cell_type": "markdown",
   "id": "incorporated-estonia",
   "metadata": {},
   "source": [
    "# Operators\n",
    "\n",
    "## Python Operators\n",
    "\n",
    "`*` = element-wise product.<p>\n",
    "`**2` = element-wise square.<p>\n",
    "`np.dot` = dot product.\n",
    "\n",
    "    \n",
    "## Math Operators\n",
    "\n",
    "$A^{\\top}$ = Transpose of $A$. <p>\n",
    "$AB$ or $A \\cdot B$ = Dot product of $A$ and $B$.<p>\n",
    "$A \\times B$ = Cross product of $A$ and $B$.  <p>\n",
    "$A * B$ = Convolution on input image $A$ and filter $B$. <p>\n",
    "$||A||_2$ = Frobenius norm."
   ]
  },
  {
   "cell_type": "markdown",
   "id": "accompanied-vault",
   "metadata": {},
   "source": [
    "# Application to Logistic Regression"
   ]
  },
  {
   "cell_type": "markdown",
   "id": "bridal-upset",
   "metadata": {},
   "source": [
    "## Lazy Programmer\n",
    "\n",
    "The Logistic Regression course by Lazy Programmer Inc. at https://www.udemy.com/course/data-science-logistic-regression-in-python/ uses notation including a N samples x D features input matrix."
   ]
  },
  {
   "cell_type": "markdown",
   "id": "healthy-pharmacy",
   "metadata": {},
   "source": [
    "### Notation from Logistic Regression Notebook\n",
    "$N = Number \\ of \\ samples $ <br>\n",
    "$D = Number \\ of \\ dimensions \\ (features) $ <br>\n",
    "$\\textbf{X} = N\\ x\\ D\\  matrix $ <br>\n",
    "$\\textbf{w} = N\\ x\\ 1\\  matrix \\ of \\ weights $ <br>\n",
    "$h(x) = hypothesis \\ function $ <br>\n",
    "$z = \\textbf{w}^{\\textbf{T}}\\textbf{x}$ <br>"
   ]
  },
  {
   "cell_type": "code",
   "execution_count": 1,
   "id": "fundamental-lindsay",
   "metadata": {},
   "outputs": [],
   "source": [
    "import numpy as np"
   ]
  },
  {
   "cell_type": "code",
   "execution_count": 2,
   "id": "occupied-night",
   "metadata": {},
   "outputs": [
    {
     "name": "stdout",
     "output_type": "stream",
     "text": [
      "X\n",
      "[[1 2 3]\n",
      " [3 2 1]\n",
      " [3 3 3]\n",
      " [4 4 4]\n",
      " [5 4 3]]\n",
      "shape = (5, 3), N = 5 D = 3\n",
      "\n",
      "w.T\n",
      "[[10  9  8  7  6]]\n",
      "shape = (1, 5), N = 1 D = 5\n",
      "\n",
      "Product\n",
      "[[119 114 109]]\n",
      "shape = (1, 3), N = 1 D = 3\n",
      "\n"
     ]
    }
   ],
   "source": [
    "X = np.matrix([[1,2,3],[3,2,1],[3,3,3],[4,4,4],[5,4,3]])\n",
    "print('X')\n",
    "print(X)\n",
    "# print('shape = {}, N = {} D = {}'.format(X.shape), X.shape[0], X.shape[1])\n",
    "print('shape = {}, N = {} D = {}'.format(X.shape, X.shape[0], X.shape[1]))\n",
    "print()\n",
    "w = np.matrix([[10], [9], [8], [7], [6]])\n",
    "print('w.T')\n",
    "print(w.T)\n",
    "print('shape = {}, N = {} D = {}'.format(w.T.shape, w.T.shape[0], w.T.shape[1]))\n",
    "print()\n",
    "\n",
    "product = w.T.dot(X)\n",
    "print('Product')\n",
    "print(product)\n",
    "print('shape = {}, N = {} D = {}'.format(product.shape, product.shape[0], product.shape[1]))\n",
    "print()\n",
    "# print(X*w)"
   ]
  },
  {
   "cell_type": "markdown",
   "id": "infrared-metropolitan",
   "metadata": {},
   "source": [
    "## Professor Andrew Ng (Stanford)\n",
    "The deep learning course by Andrew Ng uses an `n`x`m` input matrix."
   ]
  },
  {
   "cell_type": "markdown",
   "id": "public-center",
   "metadata": {},
   "source": [
    "$m =$ number of examples in the dataset.<br>\n",
    "$n_{x} =$ input size <br>\n",
    "$n_{y} =$ output size <br>\n",
    "$X \\in \\mathbb{R}^{n_x \\ x \\ m} $ = is the input matrix  <br>\n",
    "$x^{(i)} \\in \\mathbb{R}^{n_x}$ = the i<sup>th</sup> example represented as a column vector."
   ]
  },
  {
   "cell_type": "markdown",
   "id": "bizarre-strain",
   "metadata": {},
   "source": [
    "## Several Techniques to Multiply"
   ]
  },
  {
   "cell_type": "markdown",
   "id": "atomic-essay",
   "metadata": {},
   "source": [
    "Several methods are available to multiply numpy matrices."
   ]
  },
  {
   "cell_type": "code",
   "execution_count": 21,
   "id": "progressive-pricing",
   "metadata": {},
   "outputs": [
    {
     "name": "stdout",
     "output_type": "stream",
     "text": [
      "Product\n",
      "[[119 114 109]]\n"
     ]
    }
   ],
   "source": [
    "product = np.dot(w.T, X)\n",
    "print('Product')\n",
    "print(product)"
   ]
  },
  {
   "cell_type": "code",
   "execution_count": 22,
   "id": "owned-pepper",
   "metadata": {},
   "outputs": [
    {
     "name": "stdout",
     "output_type": "stream",
     "text": [
      "Product\n",
      "[[119 114 109]]\n"
     ]
    }
   ],
   "source": [
    "print('Product')\n",
    "print(w.T*X)"
   ]
  },
  {
   "cell_type": "code",
   "execution_count": 23,
   "id": "compatible-eugene",
   "metadata": {},
   "outputs": [
    {
     "name": "stdout",
     "output_type": "stream",
     "text": [
      "Product\n",
      "[[119 114 109]]\n"
     ]
    }
   ],
   "source": [
    "print('Product')\n",
    "print(w.T.dot(X))"
   ]
  },
  {
   "cell_type": "markdown",
   "id": "prostate-watson",
   "metadata": {},
   "source": [
    "# Warnings about Matrices in Python"
   ]
  },
  {
   "cell_type": "markdown",
   "id": "known-athens",
   "metadata": {},
   "source": [
    "## Rank-1 Array\n",
    "An array with a shape like (5,) does not behave consistently as a row vector or a column vector. The solution is to declare a 1x5 or 5x1 matrix. A 5x1 is a colum vector. A 1x5 is a row vector."
   ]
  },
  {
   "cell_type": "code",
   "execution_count": 24,
   "id": "crazy-bonus",
   "metadata": {},
   "outputs": [],
   "source": [
    "import numpy as np\n",
    "\n",
    "a = np.random.randn(5)"
   ]
  },
  {
   "cell_type": "code",
   "execution_count": 25,
   "id": "smooth-robertson",
   "metadata": {},
   "outputs": [
    {
     "name": "stdout",
     "output_type": "stream",
     "text": [
      "(5,)\n"
     ]
    }
   ],
   "source": [
    "print(a.shape)"
   ]
  },
  {
   "cell_type": "code",
   "execution_count": 26,
   "id": "rough-savings",
   "metadata": {},
   "outputs": [
    {
     "name": "stdout",
     "output_type": "stream",
     "text": [
      "(5,)\n"
     ]
    }
   ],
   "source": [
    "print(a.T.shape)"
   ]
  },
  {
   "cell_type": "code",
   "execution_count": 27,
   "id": "native-consultation",
   "metadata": {},
   "outputs": [
    {
     "name": "stdout",
     "output_type": "stream",
     "text": [
      "3.915311471066201\n"
     ]
    }
   ],
   "source": [
    "print(np.dot(a,a.T))"
   ]
  },
  {
   "cell_type": "code",
   "execution_count": 28,
   "id": "floppy-registration",
   "metadata": {},
   "outputs": [
    {
     "name": "stdout",
     "output_type": "stream",
     "text": [
      "[[-1.12373755]\n",
      " [ 1.27613696]\n",
      " [-0.23290096]\n",
      " [ 1.17966469]\n",
      " [ 1.42182608]]\n"
     ]
    }
   ],
   "source": [
    "a = np.random.randn(5,1)\n",
    "print(a)"
   ]
  },
  {
   "cell_type": "code",
   "execution_count": 29,
   "id": "coated-grammar",
   "metadata": {},
   "outputs": [
    {
     "name": "stdout",
     "output_type": "stream",
     "text": [
      "[[-1.12373755  1.27613696 -0.23290096  1.17966469  1.42182608]]\n"
     ]
    }
   ],
   "source": [
    "print(a.T)"
   ]
  },
  {
   "cell_type": "code",
   "execution_count": 30,
   "id": "adjacent-terminal",
   "metadata": {},
   "outputs": [
    {
     "name": "stdout",
     "output_type": "stream",
     "text": [
      "[[ 1.26278608 -1.43404302  0.26171955 -1.32563351 -1.59775935]\n",
      " [-1.43404302  1.62852554 -0.29721352  1.50541371  1.81444481]\n",
      " [ 0.26171955 -0.29721352  0.05424286 -0.27474504 -0.33114466]\n",
      " [-1.32563351  1.50541371 -0.27474504  1.39160877  1.67727801]\n",
      " [-1.59775935  1.81444481 -0.33114466  1.67727801  2.02158939]]\n"
     ]
    }
   ],
   "source": [
    "print(np.dot(a, a.T))"
   ]
  },
  {
   "cell_type": "code",
   "execution_count": 34,
   "id": "applicable-marathon",
   "metadata": {},
   "outputs": [
    {
     "name": "stdout",
     "output_type": "stream",
     "text": [
      "Rank-1 Array\n",
      "[ 0.10233763  0.10351315 -1.92455824 -1.23169823 -0.36765966]\n",
      "Shape\n",
      "(5,)\n",
      "\n",
      "Matrix\n",
      "[[ 0.10233763]\n",
      " [ 0.10351315]\n",
      " [-1.92455824]\n",
      " [-1.23169823]\n",
      " [-0.36765966]]\n",
      "Shape\n",
      "(5, 1)\n"
     ]
    }
   ],
   "source": [
    "# It is possible to reshae a rank-1 array to a matrix.\n",
    "b = np.random.randn(5)\n",
    "print(\"Rank-1 Array\")\n",
    "print(b)\n",
    "print(\"Shape\")\n",
    "print(b.shape)\n",
    "print()\n",
    "b = b.reshape([5,1])\n",
    "print(\"Matrix\")\n",
    "print(b)\n",
    "print(\"Shape\")\n",
    "print(b.shape)"
   ]
  },
  {
   "cell_type": "markdown",
   "id": "devoted-relay",
   "metadata": {},
   "source": [
    "# Frobenius Norm\n",
    "\n",
    "1. Take the element-wise square of matrix `A`.\n",
    "1. Sum over the elements of resulting matrix `A**2`. This yields a scalar.\n",
    "1. Take the square root of the result."
   ]
  },
  {
   "cell_type": "markdown",
   "id": "scenic-debate",
   "metadata": {},
   "source": [
    "## Formula"
   ]
  },
  {
   "cell_type": "markdown",
   "id": "aging-island",
   "metadata": {},
   "source": [
    "<font size=5>\n",
    "$\\left \\| A \\right \\|_{F} = \\left \\| A \\right \\|_{2}$<p>\n",
    "    $= \\sqrt{\\sum_{i} \\sum_{j}|a_{ij}|^2}$"
   ]
  },
  {
   "cell_type": "markdown",
   "id": "communist-statement",
   "metadata": {},
   "source": [
    "## Example\n",
    "\n",
    "$A = \\begin{bmatrix}\n",
    "2 & -2 & 1\\\\ \n",
    "-1 & 3  & -1\\\\\n",
    "2 & -4 & 1\n",
    "\\end{bmatrix}$<p>\n",
    "    $= \\sqrt{( |2|^2 + |-2|^2 + |1|^2 + |-1|^2 + |3|^2 + |-1|^2 + |2|^2 + |-4|^2 + |1|^2 }$<p>\n",
    "    $= \\sqrt{(41)} \\approx 6,40 $\n",
    "    \n",
    "https://s-mat-pcs.oulu.fi/~mpa/matreng/eem5_1-1.htm"
   ]
  },
  {
   "cell_type": "markdown",
   "id": "coated-mississippi",
   "metadata": {},
   "source": [
    "## Numpy"
   ]
  },
  {
   "cell_type": "code",
   "execution_count": 13,
   "id": "ongoing-county",
   "metadata": {},
   "outputs": [],
   "source": [
    "import numpy as np\n",
    "from numpy import linalg as LA"
   ]
  },
  {
   "cell_type": "code",
   "execution_count": 14,
   "id": "miniature-correction",
   "metadata": {},
   "outputs": [
    {
     "data": {
      "text/plain": [
       "array([ 2, -2,  1, -1,  3, -1,  2, -4,  1])"
      ]
     },
     "execution_count": 14,
     "metadata": {},
     "output_type": "execute_result"
    }
   ],
   "source": [
    "A = np.array([2, -2, 1, -1, 3, -1, 2, -4, 1])\n",
    "A"
   ]
  },
  {
   "cell_type": "code",
   "execution_count": 15,
   "id": "gothic-stuff",
   "metadata": {},
   "outputs": [
    {
     "data": {
      "text/plain": [
       "array([[ 2, -2,  1],\n",
       "       [-1,  3, -1],\n",
       "       [ 2, -4,  1]])"
      ]
     },
     "execution_count": 15,
     "metadata": {},
     "output_type": "execute_result"
    }
   ],
   "source": [
    "B = a.reshape((3, 3))\n",
    "B"
   ]
  },
  {
   "cell_type": "code",
   "execution_count": 21,
   "id": "exterior-enterprise",
   "metadata": {},
   "outputs": [
    {
     "data": {
      "text/plain": [
       "6.4031242374328485"
      ]
     },
     "execution_count": 21,
     "metadata": {},
     "output_type": "execute_result"
    }
   ],
   "source": [
    "LA.norm(B, ord='fro')"
   ]
  },
  {
   "cell_type": "markdown",
   "id": "fatal-spider",
   "metadata": {},
   "source": [
    "## Numpy without `linalg`"
   ]
  },
  {
   "cell_type": "code",
   "execution_count": 17,
   "id": "powered-arkansas",
   "metadata": {},
   "outputs": [
    {
     "data": {
      "text/plain": [
       "array([[ 4,  4,  1],\n",
       "       [ 1,  9,  1],\n",
       "       [ 4, 16,  1]], dtype=int32)"
      ]
     },
     "execution_count": 17,
     "metadata": {},
     "output_type": "execute_result"
    }
   ],
   "source": [
    "B_squared = B ** 2\n",
    "B_squared"
   ]
  },
  {
   "cell_type": "code",
   "execution_count": 19,
   "id": "celtic-batch",
   "metadata": {},
   "outputs": [
    {
     "data": {
      "text/plain": [
       "41"
      ]
     },
     "execution_count": 19,
     "metadata": {},
     "output_type": "execute_result"
    }
   ],
   "source": [
    "B_sum = np.sum(B_squared)\n",
    "B_sum"
   ]
  },
  {
   "cell_type": "code",
   "execution_count": 20,
   "id": "differential-favor",
   "metadata": {},
   "outputs": [
    {
     "data": {
      "text/plain": [
       "6.4031242374328485"
      ]
     },
     "execution_count": 20,
     "metadata": {},
     "output_type": "execute_result"
    }
   ],
   "source": [
    "B_F = np.sqrt(B_sum)\n",
    "B_F"
   ]
  },
  {
   "cell_type": "markdown",
   "id": "simplified-bedroom",
   "metadata": {},
   "source": [
    "# 1-Norm\n",
    "\n",
    "The 1-norm is the maximum of the column sums."
   ]
  },
  {
   "cell_type": "markdown",
   "id": "lined-limit",
   "metadata": {},
   "source": [
    "## Formula\n",
    "<p>\n",
    "<font size=5>\n",
    "$\\left \\| A \\right \\|_{1} = max_{1 \\le j \\le n} \\sum_{i=1}^{m}|a_{ij}|$\n",
    "    </font>"
   ]
  },
  {
   "cell_type": "markdown",
   "id": "first-utilization",
   "metadata": {},
   "source": [
    "## Example\n",
    "\n",
    " $max[ |2| + |-1| + |2|, |-2| + |3| + |-4|, |1| + |-1| + |2| ] = max[ 5, 9, 4 ] = 9$"
   ]
  },
  {
   "cell_type": "markdown",
   "id": "placed-slovenia",
   "metadata": {},
   "source": [
    "## Numpy"
   ]
  },
  {
   "cell_type": "code",
   "execution_count": 22,
   "id": "european-croatia",
   "metadata": {},
   "outputs": [
    {
     "data": {
      "text/plain": [
       "9.0"
      ]
     },
     "execution_count": 22,
     "metadata": {},
     "output_type": "execute_result"
    }
   ],
   "source": [
    "LA.norm(B, ord=1)"
   ]
  },
  {
   "cell_type": "markdown",
   "id": "wrong-logistics",
   "metadata": {},
   "source": [
    "# $\\infty$-Norm\n",
    "\n",
    "This norm is the maximum of the row sums."
   ]
  },
  {
   "cell_type": "markdown",
   "id": "confirmed-sympathy",
   "metadata": {},
   "source": [
    "## Formula\n",
    "<p>\n",
    "<font size=5>\n",
    "$\\left \\| A \\right \\|_{\\infty} = max_{1 \\le i \\le m} \\sum_{j=1}^{n}|a_{ij}|$\n",
    "    </font>"
   ]
  },
  {
   "cell_type": "markdown",
   "id": "advisory-shoot",
   "metadata": {},
   "source": [
    "## Example\n",
    "\n",
    "$= max[ |2| + |-2| + |1|, |-1| + |3| + |-1|, |2| + |-4| + |1| ] = max[ 5, 5, 7 ] = 7$"
   ]
  },
  {
   "cell_type": "markdown",
   "id": "floating-thompson",
   "metadata": {},
   "source": [
    "## Numpy"
   ]
  },
  {
   "cell_type": "code",
   "execution_count": 26,
   "id": "fantastic-heather",
   "metadata": {},
   "outputs": [
    {
     "data": {
      "text/plain": [
       "7.0"
      ]
     },
     "execution_count": 26,
     "metadata": {},
     "output_type": "execute_result"
    }
   ],
   "source": [
    "LA.norm(B, ord=np.inf)"
   ]
  },
  {
   "cell_type": "markdown",
   "id": "dramatic-career",
   "metadata": {},
   "source": [
    "# Convolutions"
   ]
  },
  {
   "cell_type": "markdown",
   "id": "incoming-treatment",
   "metadata": {},
   "source": [
    "The discrete convolution operation is defined as\n",
    "\n",
    "$(a * v)[n] = \\sum_{m = -\\infty}^{\\infty} a[m] v[n - m]$\n",
    "\n"
   ]
  },
  {
   "cell_type": "markdown",
   "id": "agricultural-knowing",
   "metadata": {},
   "source": [
    "from tensorflow.keras.layers import Conv2D\n",
    "from tensorflow.keras.layers import MaxPooling2D\n",
    "from tensorflow.keras.layers import Dropout \n",
    "from tensorflow.keras.layers import Conv2DTranspose"
   ]
  },
  {
   "cell_type": "markdown",
   "id": "agreed-handle",
   "metadata": {},
   "source": []
  }
 ],
 "metadata": {
  "kernelspec": {
   "display_name": "DocClass003",
   "language": "python",
   "name": "docclass003"
  },
  "language_info": {
   "codemirror_mode": {
    "name": "ipython",
    "version": 3
   },
   "file_extension": ".py",
   "mimetype": "text/x-python",
   "name": "python",
   "nbconvert_exporter": "python",
   "pygments_lexer": "ipython3",
   "version": "3.7.9"
  }
 },
 "nbformat": 4,
 "nbformat_minor": 5
}
