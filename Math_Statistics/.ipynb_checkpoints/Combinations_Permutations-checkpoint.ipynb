{
 "cells": [
  {
   "cell_type": "markdown",
   "metadata": {},
   "source": [
    "# Combinations and Permutations"
   ]
  },
  {
   "cell_type": "markdown",
   "metadata": {},
   "source": [
    "# Permutations"
   ]
  },
  {
   "cell_type": "markdown",
   "metadata": {},
   "source": [
    "A permutation is an arrangement of outcomes in which the order DOES matter.\n",
    "\n",
    "Permutations express the number of ways ordering the members of a set. Often the number of members to be selected from a set is less than the number of members of the set. \n",
    "\n",
    "How many ways are there to arrange (or order or select) `n` elements taking `r` elements at a time? This is the question of permutations and is expressed like this.\n",
    "\n",
    "$nPr = \\frac{n!}{(n-r)!}$\n"
   ]
  },
  {
   "cell_type": "markdown",
   "metadata": {},
   "source": [
    "## Same Number of People as Chairs\n",
    "\n",
    "Suppose there are five people and five chairs. How many different ways can the chairs be filled?\n",
    "\n",
    "```\n",
    "5 people are available to fill chair #1\n",
    "4 people are available to fill chair #2\n",
    "3 people are available to fill chair #3\n",
    "2 people are available to fill chair #4\n",
    "1 person is available to fill chair #5\n",
    "```\n",
    "\n",
    "$5! = 5 * 4 * 3 * 2 * 1 = 120$\n"
   ]
  },
  {
   "cell_type": "markdown",
   "metadata": {},
   "source": [
    "## More People Than Chairs\n",
    "\n",
    "Suppose there are five people and only three chairs. How many ways can the chairs be filled?\n",
    "\n",
    "```\n",
    "5 people are available to fill chair #1\n",
    "4 people are available to fill chair #2\n",
    "3 people are available to fill chair #3\n",
    "```\n",
    "\n",
    "$\\frac{5!}{(5-3)!}$\n",
    "\n",
    "\n",
    "$= \\frac{5!}{2!} $\n",
    "\n",
    "$= 5 * 4 * 3 = 60$\n",
    "\n",
    "\n",
    "\n",
    "\n",
    "\n"
   ]
  },
  {
   "cell_type": "markdown",
   "metadata": {},
   "source": [
    "## Reindeer in a Row with Best Friends\n",
    "\n",
    "__You need to put your reindeer, Jebediah, Lancer, Ezekiel, Gloopin, and Bloopin, in a single file line to pull your sleigh. However, Lancer and Ezekiel are best friends, so you have to put them next to each other, or they won't fly. __\n",
    "\n",
    "First we will treat the best friends as a unit - one two-reindeer pair. Then we will multiply the result by the number of ways of aranging the pair.\n",
    "\n",
    "Treating the five reindeer as four units means that permutations are given by\n",
    "\n",
    "$Permutations = _{4}P_{4} = 24$\n",
    "\n",
    "But there are two ways to arange the two-reindeer pair: Lancer-Ezekiel or Ezekiel-Lancer. \n",
    "\n",
    "$Total \\; Permutations = 24 * 2 = 48$\n"
   ]
  },
  {
   "cell_type": "markdown",
   "metadata": {},
   "source": [
    "## Reindeer in a Row, Fighting\n",
    "\n",
    "__You need to put your reindeer A, B, C, and D, in a single-file line to pull your sleigh. However, C and D are fighting, so you have to keep them apart, or they won't fly. How many ways can you arrange your reindeer?__\n",
    "\n",
    "Take the number of permutations without the C-D constraint.\n",
    "\n",
    "$_{4}P_{4} = 24$\n",
    "\n",
    "Then find the number of pairs that violate the constraint. This the best friends problem.\n",
    "\n",
    "$_{3}P_{3} * _{2}P_{2} = 12$\n",
    "\n",
    "And subtract\n",
    "\n",
    "$24 - 12 = 12$\n",
    "\n"
   ]
  },
  {
   "cell_type": "markdown",
   "metadata": {},
   "source": [
    "# Combinations\n",
    "\n",
    "A combination is a grouping of outcomes in which the order does not matter."
   ]
  },
  {
   "cell_type": "markdown",
   "metadata": {},
   "source": [
    "$nCr = \\frac{n!}{r!(n-r)!}$"
   ]
  },
  {
   "cell_type": "markdown",
   "metadata": {},
   "source": [
    "## Number of Pairs\n",
    "\n",
    "How many pairs can be made from a group of 6 people? (Since order does not matter, Jin and Tom are the same pair as Tom and Jin).\n",
    "\n",
    "$_6C_2 = \\frac{6!}{2!(6-2)!} = \\frac{720}{(2*24)} = 15$"
   ]
  },
  {
   "cell_type": "markdown",
   "metadata": {},
   "source": [
    "# Combinations vs. Permutations\n",
    "\n",
    "Which of the following scenarios is a permutation and which is a combination?\n",
    "\n",
    "__Scenario A: There are 12 students in Mrs. Wright's class. She wants to choose 3 students to clean the cafeteria tables. How many ways can she choose three students?__\n",
    "\n",
    "This is a combination because it does not matter whether a given student was selected first, second or third. \n",
    "\n",
    "12C3 = 220\n",
    "\n",
    "__Scenario B: There are 12 students in Mrs. Wright's class. She wants to choose 3 students to be officers of the class: a president, a vice-president, and a treasurer. How many ways can she choose three students. __\n",
    "\n",
    "This is a permutation because it matters who holds which office.\n",
    "\n",
    "12P3 = 1320.\n",
    "\n",
    "\n"
   ]
  },
  {
   "cell_type": "markdown",
   "metadata": {},
   "source": [
    "# Relationship between Combinations and Permutations\n",
    "\n",
    "Combinations = Permutations divided by the number of ways to order the combinationination. The number of ways to order the combination is, itself, a permutation of the form nPn. __Dividing by the number of orders is how we eliminate double-counting.__\n",
    "\n",
    "$_{n}C_{r} = \\frac{_{n}P_{r}}{r!}$\n",
    "\n"
   ]
  },
  {
   "cell_type": "markdown",
   "metadata": {},
   "source": [
    "## Distinct Combinations of Letters with Repeating Letters\n",
    "\n",
    "How many unique ways are thre to arrange the letters in the word CANNON? If the letters were distinct, we would use a permutation to calculate 5P5 = 120. However, permutations will overcount the 'N's, which are not distinct. We can use the principle that combinations eliminate double-counting to solve this problem.\n",
    "\n",
    "$Numerator = Permutations = _{n}P_{r} = _{6}P_{6} = 720$\n",
    "\n",
    "Eliminate over-counting by dividing by the number of permutations of the N's. \n",
    "\n",
    "$Denominator = Permutations \\; of \\; 'N's = _{3}P_{3} = 6$\n",
    "\n",
    "$\\frac{Numerator}{Denominator} = 120$"
   ]
  },
  {
   "cell_type": "markdown",
   "metadata": {},
   "source": [
    " "
   ]
  }
 ],
 "metadata": {
  "kernelspec": {
   "display_name": "Python 3",
   "language": "python",
   "name": "python3"
  },
  "language_info": {
   "codemirror_mode": {
    "name": "ipython",
    "version": 3
   },
   "file_extension": ".py",
   "mimetype": "text/x-python",
   "name": "python",
   "nbconvert_exporter": "python",
   "pygments_lexer": "ipython3",
   "version": "3.6.6"
  }
 },
 "nbformat": 4,
 "nbformat_minor": 2
}
