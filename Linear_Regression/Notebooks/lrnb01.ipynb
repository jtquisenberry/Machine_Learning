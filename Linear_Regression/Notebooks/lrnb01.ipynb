{
 "cells": [
  {
   "cell_type": "markdown",
   "metadata": {},
   "source": [
    "<h1>Linear Regression</h1>\n",
    "\n",
    "Linear regression seeks to fit a line to a set of points on a scatterplot. Therefore, the equation describing the regression line has this form.\n",
    "\n",
    "<left><img src='lr_base.png'></left>\n",
    "\n",
    "The challenge comes when attempting to calcuate the slope and y-intercept given a set of observations.\n",
    "\n",
    "<img src='lr_slope.png'>\n",
    "\n",
    "<img src='lr_yintercept.png'>"
   ]
  },
  {
   "cell_type": "code",
   "execution_count": 81,
   "metadata": {},
   "outputs": [],
   "source": [
    "# Data included are taken from \n",
    "# Based on https://github.com/lazyprogrammer/machine_learning_examples/tree/master/linear_regression_class"
   ]
  },
  {
   "cell_type": "code",
   "execution_count": 1,
   "metadata": {},
   "outputs": [],
   "source": [
    "# Import modules\n",
    "import numpy as np\n",
    "import matplotlib.pyplot as plt"
   ]
  },
  {
   "cell_type": "code",
   "execution_count": 2,
   "metadata": {},
   "outputs": [],
   "source": [
    "# Load the data.\n",
    "# CSVs came from thelazyprogrammer.\n",
    "# Setup X and Y variables as Python lists.\n",
    "X = []\n",
    "Y = []\n",
    "for line in open('data_1d.csv'):\n",
    "    x, y = line.split(',')\n",
    "    X.append(float(x))\n",
    "    Y.append(float(y))"
   ]
  },
  {
   "cell_type": "code",
   "execution_count": 3,
   "metadata": {},
   "outputs": [],
   "source": [
    "# Convert Python lists to numpy arrays.\n",
    "X = np.array(X)\n",
    "Y = np.array(Y)"
   ]
  },
  {
   "cell_type": "code",
   "execution_count": 4,
   "metadata": {},
   "outputs": [
    {
     "data": {
      "image/png": "[encoded data removed]",
      "text/plain": [
       "<Figure size 432x288 with 1 Axes>"
      ]
     },
     "metadata": {
      "needs_background": "light"
     },
     "output_type": "display_data"
    }
   ],
   "source": [
    "# Plot the data\n",
    "plt.scatter(X, Y)\n",
    "plt.show()"
   ]
  },
  {
   "cell_type": "code",
   "execution_count": 5,
   "metadata": {},
   "outputs": [
    {
     "data": {
      "text/plain": [
       "'\\nBEGIN code linear regression calculations.\\n'"
      ]
     },
     "execution_count": 5,
     "metadata": {},
     "output_type": "execute_result"
    }
   ],
   "source": [
    "'''\n",
    "BEGIN code linear regression calculations.\n",
    "'''"
   ]
  },
  {
   "cell_type": "markdown",
   "metadata": {},
   "source": [
    "The equations for slope and y-intercept have the same denominator. Calculate the first term.\n",
    "\n",
    "<img src = 'lr_denominator1.png'>\n",
    "\n",
    "This can be done most effectively using the dot-product. \"Algebraically, the dot product is the sum of the products of the corresponding entries of the two sequences of numbers.\" https://en.wikipedia.org/wiki/Dot_product"
   ]
  },
  {
   "cell_type": "code",
   "execution_count": 87,
   "metadata": {},
   "outputs": [
    {
     "name": "stdout",
     "output_type": "stream",
     "text": [
      "352941.794054\n"
     ]
    }
   ],
   "source": [
    "# 1. Σ (x[i])^2\n",
    "denominator1 = X.dot(X)\n",
    "print(denominator1)"
   ]
  },
  {
   "cell_type": "markdown",
   "metadata": {},
   "source": [
    "Calculate the second term of the denominator.\n",
    "\n",
    "<img src = 'lr_denominator2.png'>"
   ]
  },
  {
   "cell_type": "code",
   "execution_count": 88,
   "metadata": {},
   "outputs": [],
   "source": [
    "# 2. x-bar * Σ x[i]\n",
    "denominator2 = X.mean() * X.sum()"
   ]
  },
  {
   "cell_type": "markdown",
   "metadata": {},
   "source": [
    "Complete the denominator.\n",
    "\n",
    "<img src = 'lr_denominator.png'>"
   ]
  },
  {
   "cell_type": "code",
   "execution_count": 89,
   "metadata": {},
   "outputs": [],
   "source": [
    "# 3. Complete denominator\n",
    "denominator = denominator1 - denominator2"
   ]
  },
  {
   "cell_type": "markdown",
   "metadata": {},
   "source": [
    "Calcluate the first term of the numerator of the slope.\n",
    "\n",
    "<img src = 'lr_slope_numerator1.png'>"
   ]
  },
  {
   "cell_type": "code",
   "execution_count": 90,
   "metadata": {},
   "outputs": [],
   "source": [
    "# 4. Σ (x[i] * y[i])\n",
    "anumerator1 = X.dot(Y)"
   ]
  },
  {
   "cell_type": "markdown",
   "metadata": {},
   "source": [
    "Calcluate the second term of the numerator of the slope.\n",
    "\n",
    "<img src = 'lr_slope_numerator2.png'>"
   ]
  },
  {
   "cell_type": "code",
   "execution_count": 91,
   "metadata": {},
   "outputs": [],
   "source": [
    "# 5. y-bar * Σ (x[i])\n",
    "anumerator2 = Y.mean() * X.sum()"
   ]
  },
  {
   "cell_type": "markdown",
   "metadata": {},
   "source": [
    "Complete the numerator of the slope.\n",
    "\n",
    "<img src = 'lr_slope_numerator.png'>"
   ]
  },
  {
   "cell_type": "code",
   "execution_count": 92,
   "metadata": {},
   "outputs": [],
   "source": [
    "# 6. Complete anumerator\n",
    "anumerator = anumerator1 - anumerator2"
   ]
  },
  {
   "cell_type": "markdown",
   "metadata": {},
   "source": [
    "Calcluate the first term of the numerator of the intercept.\n",
    "\n",
    "<img src = 'lr_yintercept_numerator1.png'>"
   ]
  },
  {
   "cell_type": "code",
   "execution_count": 93,
   "metadata": {},
   "outputs": [],
   "source": [
    "# 7. y-bar Σ (x[i]^2)\n",
    "bnumerator1 = Y.mean() * X.dot(X)"
   ]
  },
  {
   "cell_type": "markdown",
   "metadata": {},
   "source": [
    "Calcluate the first term of the numerator of the intercept.\n",
    "\n",
    "<img src = 'lr_yintercept_numerator2.png'>"
   ]
  },
  {
   "cell_type": "code",
   "execution_count": 94,
   "metadata": {},
   "outputs": [],
   "source": [
    "# 8. x-bar Σ (x[i] * y[i])\n",
    "bnumerator2 = X.mean() * X.dot(Y)"
   ]
  },
  {
   "cell_type": "markdown",
   "metadata": {},
   "source": [
    "Calculate the numerator of the y-intercept.\n",
    "\n",
    "<img src = 'lr_yintercept_numerator.png'>"
   ]
  },
  {
   "cell_type": "code",
   "execution_count": 95,
   "metadata": {},
   "outputs": [],
   "source": [
    "# 9. Complete bnumerator\n",
    "bnumerator = bnumerator1 - bnumerator2"
   ]
  },
  {
   "cell_type": "markdown",
   "metadata": {},
   "source": [
    "Calculate the slope.\n",
    "\n",
    "<img src = 'lr_slope.png'>"
   ]
  },
  {
   "cell_type": "code",
   "execution_count": 96,
   "metadata": {},
   "outputs": [],
   "source": [
    "# 10. Calculate slope (a)\n",
    "a = anumerator / denominator"
   ]
  },
  {
   "cell_type": "markdown",
   "metadata": {},
   "source": [
    "Calculate the y-intercept.\n",
    "\n",
    "<img src = 'lr_yintercept.png'>"
   ]
  },
  {
   "cell_type": "code",
   "execution_count": 97,
   "metadata": {},
   "outputs": [],
   "source": [
    "# 11. Calculate intercept (b)\n",
    "b = bnumerator / denominator"
   ]
  },
  {
   "cell_type": "code",
   "execution_count": 98,
   "metadata": {},
   "outputs": [
    {
     "name": "stdout",
     "output_type": "stream",
     "text": [
      "slope =  1.97261216748\n",
      "intercept =  2.86442407566\n"
     ]
    }
   ],
   "source": [
    "print(\"slope = \", a)\n",
    "print(\"intercept = \", b)"
   ]
  },
  {
   "cell_type": "code",
   "execution_count": 99,
   "metadata": {},
   "outputs": [
    {
     "data": {
      "image/png": "[encoded data removed]",
      "text/plain": [
       "<matplotlib.figure.Figure at 0x945d5c0>"
      ]
     },
     "metadata": {},
     "output_type": "display_data"
    }
   ],
   "source": [
    "# let's calculate the predicted Y\n",
    "Yhat = a*X + b\n",
    "\n",
    "# let's plot everything together to make sure it worked\n",
    "plt.scatter(X, Y)\n",
    "plt.plot(X, Yhat)\n",
    "plt.show()"
   ]
  },
  {
   "cell_type": "markdown",
   "metadata": {},
   "source": [
    "<h1>R<super>2</super></h1>\n",
    "\n",
    "R<super>2</super> is a measure of how well the regression line describes the observed data.\n",
    "\n",
    "<h3>Base</h3>\n",
    "\n",
    "<img src = 'lr_r2_base.png'>\n",
    "\n",
    "<h3>SSres</h3>\n",
    "\n",
    "<img src = 'lr_r2_SSres.png'>\n",
    "\n",
    "<h3>SStot</h3>\n",
    "\n",
    "<img src = 'lr_r2_SStot.png'>\n"
   ]
  },
  {
   "cell_type": "code",
   "execution_count": 100,
   "metadata": {},
   "outputs": [
    {
     "name": "stdout",
     "output_type": "stream",
     "text": [
      "the r-squared is: 0.991183820298\n"
     ]
    },
    {
     "data": {
      "text/plain": [
       "'\\nEND code linear regression calculations.\\n'"
      ]
     },
     "execution_count": 100,
     "metadata": {},
     "output_type": "execute_result"
    }
   ],
   "source": [
    "# determine how good the model is by computing the r-squared\n",
    "d1 = Y - Yhat\n",
    "d2 = Y - Y.mean()\n",
    "r2 = 1 - d1.dot(d1) / d2.dot(d2)\n",
    "print(\"the r-squared is:\", r2)\n",
    "\n",
    "'''\n",
    "END code linear regression calculations.\n",
    "'''"
   ]
  }
 ],
 "metadata": {
  "kernelspec": {
   "display_name": "Python 3",
   "language": "python",
   "name": "python3"
  },
  "language_info": {
   "codemirror_mode": {
    "name": "ipython",
    "version": 3
   },
   "file_extension": ".py",
   "mimetype": "text/x-python",
   "name": "python",
   "nbconvert_exporter": "python",
   "pygments_lexer": "ipython3",
   "version": "3.8.3"
  }
 },
 "nbformat": 4,
 "nbformat_minor": 1
}
