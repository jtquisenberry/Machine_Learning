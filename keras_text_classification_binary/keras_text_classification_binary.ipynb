{
 "cells": [
  {
   "cell_type": "markdown",
   "metadata": {},
   "source": [
    "# Setup"
   ]
  },
  {
   "cell_type": "code",
   "execution_count": null,
   "metadata": {},
   "outputs": [],
   "source": [
    "!pip install tensorflow --upgrade"
   ]
  },
  {
   "cell_type": "code",
   "execution_count": 1,
   "metadata": {},
   "outputs": [],
   "source": [
    "try:\n",
    "  # %tensorflow_version only exists in Colab.\n",
    "  %tensorflow_version 2.x\n",
    "except Exception:\n",
    "  pass\n",
    "\n",
    "# Load the TensorBoard notebook extension.\n",
    "%load_ext tensorboard"
   ]
  },
  {
   "cell_type": "code",
   "execution_count": 2,
   "metadata": {},
   "outputs": [],
   "source": [
    "import tensorflow as td\n",
    "from tensorflow import keras\n",
    "import numpy as np"
   ]
  },
  {
   "cell_type": "markdown",
   "metadata": {},
   "source": [
    "# Preprocessing"
   ]
  },
  {
   "cell_type": "code",
   "execution_count": 3,
   "metadata": {},
   "outputs": [],
   "source": [
    "data = keras.datasets.imdb"
   ]
  },
  {
   "cell_type": "markdown",
   "metadata": {},
   "source": [
    "### Vocabulary Length\n",
    "\n",
    "Parameter `num_words` specifies the size of the vocabulary of the corpus. It probably represents the most common `num_words` words. Other words are filtered out. The vocabulary length should be the size of the input layer of the model unless additional work on the vocabulary will be performed prior to submitting training data to the model."
   ]
  },
  {
   "cell_type": "code",
   "execution_count": 4,
   "metadata": {},
   "outputs": [],
   "source": [
    "(train_data, train_labels), (test_data, test_labels) = data.load_data(num_words=88000)"
   ]
  },
  {
   "cell_type": "markdown",
   "metadata": {},
   "source": [
    "Print the word indexes for the first sentence in `train_data`"
   ]
  },
  {
   "cell_type": "code",
   "execution_count": 5,
   "metadata": {},
   "outputs": [
    {
     "name": "stdout",
     "output_type": "stream",
     "text": [
      "<class 'list'>\n",
      "[1, 14, 22, 16, 43, 530, 973, 1622, 1385, 65, 458, 4468, 66, 3941, 4, 173, 36, 256, 5, 25, 100, 43, 838, 112, 50, 670, 22665, 9, 35, 480, 284, 5, 150, 4, 172, 112, 167, 21631, 336, 385, 39, 4, 172, 4536, 1111, 17, 546, 38, 13, 447, 4, 192, 50, 16, 6, 147, 2025, 19, 14, 22, 4, 1920, 4613, 469, 4, 22, 71, 87, 12, 16, 43, 530, 38, 76, 15, 13, 1247, 4, 22, 17, 515, 17, 12, 16, 626, 18, 19193, 5, 62, 386, 12, 8, 316, 8, 106, 5, 4, 2223, 5244, 16, 480, 66, 3785, 33, 4, 130, 12, 16, 38, 619, 5, 25, 124, 51, 36, 135, 48, 25, 1415, 33, 6, 22, 12, 215, 28, 77, 52, 5, 14, 407, 16, 82, 10311, 8, 4, 107, 117, 5952, 15, 256, 4, 31050, 7, 3766, 5, 723, 36, 71, 43, 530, 476, 26, 400, 317, 46, 7, 4, 12118, 1029, 13, 104, 88, 4, 381, 15, 297, 98, 32, 2071, 56, 26, 141, 6, 194, 7486, 18, 4, 226, 22, 21, 134, 476, 26, 480, 5, 144, 30, 5535, 18, 51, 36, 28, 224, 92, 25, 104, 4, 226, 65, 16, 38, 1334, 88, 12, 16, 283, 5, 16, 4472, 113, 103, 32, 15, 16, 5345, 19, 178, 32]\n"
     ]
    }
   ],
   "source": [
    "print(type(train_data[0]))\n",
    "print(train_data[0])"
   ]
  },
  {
   "cell_type": "markdown",
   "metadata": {},
   "source": [
    "## Determine how classification is expressed.\n",
    "\n",
    "Classification is expressed as `0` (negative) or `1` (positive). Values are stored in a `numpy array`. "
   ]
  },
  {
   "cell_type": "code",
   "execution_count": 6,
   "metadata": {},
   "outputs": [
    {
     "name": "stdout",
     "output_type": "stream",
     "text": [
      "<class 'numpy.ndarray'>\n",
      "[1 0 0 1 0 0 1 0 1 0 1 0 0 0 0 0 1 1 0 1 0 0 1 0 1]\n"
     ]
    }
   ],
   "source": [
    "print(type(train_labels))\n",
    "print(train_labels[0:25])"
   ]
  },
  {
   "cell_type": "markdown",
   "metadata": {},
   "source": [
    "## Determine the lengths of the train and test datasets.\n",
    "There are 25,000 samples in each dataset."
   ]
  },
  {
   "cell_type": "code",
   "execution_count": 7,
   "metadata": {},
   "outputs": [
    {
     "name": "stdout",
     "output_type": "stream",
     "text": [
      "Length of training data 25000\n",
      "Length of testing data 25000\n"
     ]
    }
   ],
   "source": [
    "print(\"Length of training data\", len(train_data))\n",
    "print(\"Length of testing data\", len(test_data))"
   ]
  },
  {
   "cell_type": "markdown",
   "metadata": {},
   "source": [
    "## Get word indexes.\n",
    "\n",
    "Function `get_word_index()` returns a `dict` mapping words in the vocabulary to integers."
   ]
  },
  {
   "cell_type": "code",
   "execution_count": 8,
   "metadata": {},
   "outputs": [
    {
     "name": "stdout",
     "output_type": "stream",
     "text": [
      "<class 'dict'>\n",
      "88584\n"
     ]
    }
   ],
   "source": [
    "word_index = data.get_word_index()\n",
    "print(type(word_index))\n",
    "print(len(word_index))"
   ]
  },
  {
   "cell_type": "markdown",
   "metadata": {},
   "source": [
    "The datset uses additional tags, which are not stored in `word_index`. To accommodate the additional tags, shift the index up by three."
   ]
  },
  {
   "cell_type": "code",
   "execution_count": 9,
   "metadata": {},
   "outputs": [],
   "source": [
    "word_index = {k:(v+3) for k, v in word_index.items()}\n",
    "word_index[\"<PAD>\"] = 0\n",
    "word_index[\"<START>\"] = 1\n",
    "word_index[\"<UNK>\"] = 2\n",
    "word_index[\"<UNUSED>\"] = 3"
   ]
  },
  {
   "cell_type": "code",
   "execution_count": 10,
   "metadata": {},
   "outputs": [],
   "source": [
    "reverse_word_index = dict([(value, key) for (key, value) in word_index.items()])"
   ]
  },
  {
   "cell_type": "code",
   "execution_count": 11,
   "metadata": {},
   "outputs": [],
   "source": [
    "def decode_review(text):\n",
    "    return \" \".join([reverse_word_index.get(i, \"?\") for i in text])"
   ]
  },
  {
   "cell_type": "markdown",
   "metadata": {},
   "source": [
    "The decoded text would be nonsense if the word indexes had not been shifted up."
   ]
  },
  {
   "cell_type": "code",
   "execution_count": 12,
   "metadata": {},
   "outputs": [
    {
     "name": "stdout",
     "output_type": "stream",
     "text": [
      "<START> please give this one a miss br br kristy swanson and the rest of the cast rendered terrible performances the show is flat flat flat br br i don't know how michael madison could have allowed this one on his plate he almost seemed to know this wasn't going to work out and his performance was quite lacklustre so all you madison fans give this a miss\n"
     ]
    }
   ],
   "source": [
    "print(decode_review(test_data[0]))"
   ]
  },
  {
   "cell_type": "markdown",
   "metadata": {},
   "source": [
    "## Pad training data and test data so that each sentence contains 250 tokens.\n",
    "\n",
    "If samples (sentences) do not have the same number of words, then each of `train_data` and `test_data` is an `ndarray` but the rows in the array are of unequal length. Therefore, it will be impossible to convert train_data to a tensor when fitting the model. "
   ]
  },
  {
   "cell_type": "code",
   "execution_count": 13,
   "metadata": {},
   "outputs": [],
   "source": [
    "train_data = keras.preprocessing.sequence.pad_sequences(train_data, value=word_index[\"<PAD>\"], padding=\"post\", maxlen=250)\n",
    "test_data = keras.preprocessing.sequence.pad_sequences(test_data, value=word_index[\"<PAD>\"], padding=\"post\", maxlen=250)"
   ]
  },
  {
   "cell_type": "markdown",
   "metadata": {},
   "source": [
    "# Build the model"
   ]
  },
  {
   "cell_type": "code",
   "execution_count": 14,
   "metadata": {},
   "outputs": [],
   "source": [
    "model = keras.Sequential()\n",
    "model.add(keras.layers.Embedding(88000, 16))\n",
    "model.add(keras.layers.GlobalAveragePooling1D())\n",
    "model.add(keras.layers.Dense(16, activation=\"relu\"))\n",
    "model.add(keras.layers.Dense(1, activation=\"sigmoid\"))"
   ]
  },
  {
   "cell_type": "markdown",
   "metadata": {},
   "source": [
    "Display properties of the model."
   ]
  },
  {
   "cell_type": "code",
   "execution_count": 15,
   "metadata": {},
   "outputs": [
    {
     "name": "stdout",
     "output_type": "stream",
     "text": [
      "Model: \"sequential\"\n",
      "_________________________________________________________________\n",
      "Layer (type)                 Output Shape              Param #   \n",
      "=================================================================\n",
      "embedding (Embedding)        (None, None, 16)          1408000   \n",
      "_________________________________________________________________\n",
      "global_average_pooling1d (Gl (None, 16)                0         \n",
      "_________________________________________________________________\n",
      "dense (Dense)                (None, 16)                272       \n",
      "_________________________________________________________________\n",
      "dense_1 (Dense)              (None, 1)                 17        \n",
      "=================================================================\n",
      "Total params: 1,408,289\n",
      "Trainable params: 1,408,289\n",
      "Non-trainable params: 0\n",
      "_________________________________________________________________\n"
     ]
    }
   ],
   "source": [
    "model.summary()"
   ]
  },
  {
   "cell_type": "code",
   "execution_count": 16,
   "metadata": {},
   "outputs": [],
   "source": [
    "model.compile(optimizer=\"adam\", loss=\"binary_crossentropy\", metrics=[\"accuracy\"])"
   ]
  },
  {
   "cell_type": "code",
   "execution_count": 17,
   "metadata": {},
   "outputs": [],
   "source": [
    "x_val = train_data[:10000]\n",
    "x_train = train_data[10000:]\n",
    "y_val = train_labels[:10000]\n",
    "y_train = train_labels[10000:]"
   ]
  },
  {
   "cell_type": "markdown",
   "metadata": {},
   "source": [
    "## Train the model\n",
    "\n",
    "### Uniform Sentence Length\n",
    "Variables `x_train` and `y_train` must be tensors or convertible to tensors. \n",
    "\n",
    "If sentences have a different numbers of tokens, then the result is an `ndarray` where each row is a list, and the lists are of unequal length. This structure cannot be converted to a tensor. In this case, `model.fit` throws `ValueError: Failed to convert a NumPy array to a Tensor (Unsupported object type list).`\n",
    "\n",
    "### Vocabulary Length\n",
    "The first parameter in `Embedding(10000, 16)` is the size of the input layer. The vocabulary must not be larger in size than the input layer. Otherwise, model.fit throws `InvalidArgumentError:  indices[363,5] = 42016 is not in [0, 10000)`\n",
    "\n",
    "### Multi-Processing\n",
    "Change the default arguments from `workers=1, use_multiprocessing=False`,"
   ]
  },
  {
   "cell_type": "code",
   "execution_count": 18,
   "metadata": {},
   "outputs": [
    {
     "name": "stdout",
     "output_type": "stream",
     "text": [
      "Train on 15000 samples, validate on 10000 samples\n",
      "Epoch 1/40\n",
      "15000/15000 [==============================] - 1s 84us/sample - loss: 0.6920 - accuracy: 0.5411 - val_loss: 0.6900 - val_accuracy: 0.6588\n",
      "Epoch 2/40\n",
      "15000/15000 [==============================] - 1s 54us/sample - loss: 0.6864 - accuracy: 0.7283 - val_loss: 0.6824 - val_accuracy: 0.7447\n",
      "Epoch 3/40\n",
      "15000/15000 [==============================] - 1s 53us/sample - loss: 0.6744 - accuracy: 0.7605 - val_loss: 0.6681 - val_accuracy: 0.7616\n",
      "Epoch 4/40\n",
      "15000/15000 [==============================] - 1s 55us/sample - loss: 0.6536 - accuracy: 0.7867 - val_loss: 0.6454 - val_accuracy: 0.7743\n",
      "Epoch 5/40\n",
      "15000/15000 [==============================] - 1s 54us/sample - loss: 0.6225 - accuracy: 0.8065 - val_loss: 0.6135 - val_accuracy: 0.7927\n",
      "Epoch 6/40\n",
      "15000/15000 [==============================] - 1s 54us/sample - loss: 0.5819 - accuracy: 0.8268 - val_loss: 0.5753 - val_accuracy: 0.8028\n",
      "Epoch 7/40\n",
      "15000/15000 [==============================] - 1s 54us/sample - loss: 0.5356 - accuracy: 0.8400 - val_loss: 0.5345 - val_accuracy: 0.8156\n",
      "Epoch 8/40\n",
      "15000/15000 [==============================] - 1s 54us/sample - loss: 0.4870 - accuracy: 0.8554 - val_loss: 0.4945 - val_accuracy: 0.8302\n",
      "Epoch 9/40\n",
      "15000/15000 [==============================] - 1s 54us/sample - loss: 0.4405 - accuracy: 0.8701 - val_loss: 0.4571 - val_accuracy: 0.8385\n",
      "Epoch 10/40\n",
      "15000/15000 [==============================] - 1s 55us/sample - loss: 0.3971 - accuracy: 0.8844 - val_loss: 0.4253 - val_accuracy: 0.8481\n",
      "Epoch 11/40\n",
      "15000/15000 [==============================] - 1s 54us/sample - loss: 0.3590 - accuracy: 0.8951 - val_loss: 0.3970 - val_accuracy: 0.8564\n",
      "Epoch 12/40\n",
      "15000/15000 [==============================] - 1s 53us/sample - loss: 0.3246 - accuracy: 0.9053 - val_loss: 0.3737 - val_accuracy: 0.8651\n",
      "Epoch 13/40\n",
      "15000/15000 [==============================] - 1s 53us/sample - loss: 0.2948 - accuracy: 0.9132 - val_loss: 0.3549 - val_accuracy: 0.8683\n",
      "Epoch 14/40\n",
      "15000/15000 [==============================] - 1s 54us/sample - loss: 0.2695 - accuracy: 0.9201 - val_loss: 0.3396 - val_accuracy: 0.8729\n",
      "Epoch 15/40\n",
      "15000/15000 [==============================] - 1s 53us/sample - loss: 0.2467 - accuracy: 0.9271 - val_loss: 0.3265 - val_accuracy: 0.8764\n",
      "Epoch 16/40\n",
      "15000/15000 [==============================] - 1s 54us/sample - loss: 0.2273 - accuracy: 0.9318 - val_loss: 0.3167 - val_accuracy: 0.8770\n",
      "Epoch 17/40\n",
      "15000/15000 [==============================] - 1s 55us/sample - loss: 0.2092 - accuracy: 0.9377 - val_loss: 0.3079 - val_accuracy: 0.8802\n",
      "Epoch 18/40\n",
      "15000/15000 [==============================] - 1s 57us/sample - loss: 0.1937 - accuracy: 0.9433 - val_loss: 0.3009 - val_accuracy: 0.8828\n",
      "Epoch 19/40\n",
      "15000/15000 [==============================] - 1s 54us/sample - loss: 0.1788 - accuracy: 0.9483 - val_loss: 0.2949 - val_accuracy: 0.8843\n",
      "Epoch 20/40\n",
      "15000/15000 [==============================] - 1s 55us/sample - loss: 0.1659 - accuracy: 0.9542 - val_loss: 0.2905 - val_accuracy: 0.8863\n",
      "Epoch 21/40\n",
      "15000/15000 [==============================] - 1s 54us/sample - loss: 0.1539 - accuracy: 0.9583 - val_loss: 0.2865 - val_accuracy: 0.8851\n",
      "Epoch 22/40\n",
      "15000/15000 [==============================] - 1s 54us/sample - loss: 0.1430 - accuracy: 0.9628 - val_loss: 0.2831 - val_accuracy: 0.8877\n",
      "Epoch 23/40\n",
      "15000/15000 [==============================] - 1s 55us/sample - loss: 0.1329 - accuracy: 0.9661 - val_loss: 0.2810 - val_accuracy: 0.8872\n",
      "Epoch 24/40\n",
      "15000/15000 [==============================] - 1s 55us/sample - loss: 0.1239 - accuracy: 0.9687 - val_loss: 0.2793 - val_accuracy: 0.8888\n",
      "Epoch 25/40\n",
      "15000/15000 [==============================] - 1s 54us/sample - loss: 0.1152 - accuracy: 0.9725 - val_loss: 0.2776 - val_accuracy: 0.8891\n",
      "Epoch 26/40\n",
      "15000/15000 [==============================] - 1s 54us/sample - loss: 0.1079 - accuracy: 0.9751 - val_loss: 0.2767 - val_accuracy: 0.8896\n",
      "Epoch 27/40\n",
      "15000/15000 [==============================] - 1s 54us/sample - loss: 0.1004 - accuracy: 0.9779 - val_loss: 0.2769 - val_accuracy: 0.8900\n",
      "Epoch 28/40\n",
      "15000/15000 [==============================] - 1s 54us/sample - loss: 0.0937 - accuracy: 0.9801 - val_loss: 0.2774 - val_accuracy: 0.8900\n",
      "Epoch 29/40\n",
      "15000/15000 [==============================] - 1s 53us/sample - loss: 0.0875 - accuracy: 0.9818 - val_loss: 0.2765 - val_accuracy: 0.8905\n",
      "Epoch 30/40\n",
      "15000/15000 [==============================] - 1s 53us/sample - loss: 0.0816 - accuracy: 0.9835 - val_loss: 0.2779 - val_accuracy: 0.8905\n",
      "Epoch 31/40\n",
      "15000/15000 [==============================] - 1s 54us/sample - loss: 0.0764 - accuracy: 0.9854 - val_loss: 0.2780 - val_accuracy: 0.8909\n",
      "Epoch 32/40\n",
      "15000/15000 [==============================] - 1s 53us/sample - loss: 0.0716 - accuracy: 0.9861 - val_loss: 0.2792 - val_accuracy: 0.8896\n",
      "Epoch 33/40\n",
      "15000/15000 [==============================] - 1s 53us/sample - loss: 0.0673 - accuracy: 0.9872 - val_loss: 0.2812 - val_accuracy: 0.8898\n",
      "Epoch 34/40\n",
      "15000/15000 [==============================] - 1s 54us/sample - loss: 0.0630 - accuracy: 0.9888 - val_loss: 0.2822 - val_accuracy: 0.8893\n",
      "Epoch 35/40\n",
      "15000/15000 [==============================] - 1s 53us/sample - loss: 0.0589 - accuracy: 0.9896 - val_loss: 0.2834 - val_accuracy: 0.8894\n",
      "Epoch 36/40\n",
      "15000/15000 [==============================] - 1s 54us/sample - loss: 0.0553 - accuracy: 0.9907 - val_loss: 0.2859 - val_accuracy: 0.8895\n",
      "Epoch 37/40\n",
      "15000/15000 [==============================] - 1s 54us/sample - loss: 0.0521 - accuracy: 0.9919 - val_loss: 0.2875 - val_accuracy: 0.8895\n",
      "Epoch 38/40\n",
      "15000/15000 [==============================] - 1s 54us/sample - loss: 0.0489 - accuracy: 0.9923 - val_loss: 0.2900 - val_accuracy: 0.8889\n",
      "Epoch 39/40\n",
      "15000/15000 [==============================] - 1s 59us/sample - loss: 0.0460 - accuracy: 0.9929 - val_loss: 0.2919 - val_accuracy: 0.8881\n",
      "Epoch 40/40\n",
      "15000/15000 [==============================] - 1s 55us/sample - loss: 0.0435 - accuracy: 0.9938 - val_loss: 0.2943 - val_accuracy: 0.8888\n"
     ]
    }
   ],
   "source": [
    "fit_model = model.fit(x_train, y_train, epochs=40, batch_size=512, validation_data=(x_val, y_val), verbose=1)"
   ]
  },
  {
   "cell_type": "code",
   "execution_count": 19,
   "metadata": {},
   "outputs": [
    {
     "name": "stdout",
     "output_type": "stream",
     "text": [
      "25000/25000 [==============================] - 1s 26us/sample - loss: 0.3283 - accuracy: 0.8727\n"
     ]
    }
   ],
   "source": [
    "results = model.evaluate(test_data, test_labels)"
   ]
  },
  {
   "cell_type": "code",
   "execution_count": 20,
   "metadata": {},
   "outputs": [
    {
     "name": "stdout",
     "output_type": "stream",
     "text": [
      "Loss,  Accuracy\n",
      "[0.32830213636875155, 0.87268]\n"
     ]
    }
   ],
   "source": [
    "print(\"Loss, \", \"Accuracy\")\n",
    "print(results)"
   ]
  },
  {
   "cell_type": "markdown",
   "metadata": {},
   "source": [
    "# Run Predictions"
   ]
  },
  {
   "cell_type": "code",
   "execution_count": 21,
   "metadata": {},
   "outputs": [],
   "source": [
    "test_review = test_data[0]"
   ]
  },
  {
   "cell_type": "code",
   "execution_count": 22,
   "metadata": {},
   "outputs": [
    {
     "name": "stdout",
     "output_type": "stream",
     "text": [
      "Review: \n",
      "<START> please give this one a miss br br kristy swanson and the rest of the cast rendered terrible performances the show is flat flat flat br br i don't know how michael madison could have allowed this one on his plate he almost seemed to know this wasn't going to work out and his performance was quite lacklustre so all you madison fans give this a miss <PAD> <PAD> <PAD> <PAD> <PAD> <PAD> <PAD> <PAD> <PAD> <PAD> <PAD> <PAD> <PAD> <PAD> <PAD> <PAD> <PAD> <PAD> <PAD> <PAD> <PAD> <PAD> <PAD> <PAD> <PAD> <PAD> <PAD> <PAD> <PAD> <PAD> <PAD> <PAD> <PAD> <PAD> <PAD> <PAD> <PAD> <PAD> <PAD> <PAD> <PAD> <PAD> <PAD> <PAD> <PAD> <PAD> <PAD> <PAD> <PAD> <PAD> <PAD> <PAD> <PAD> <PAD> <PAD> <PAD> <PAD> <PAD> <PAD> <PAD> <PAD> <PAD> <PAD> <PAD> <PAD> <PAD> <PAD> <PAD> <PAD> <PAD> <PAD> <PAD> <PAD> <PAD> <PAD> <PAD> <PAD> <PAD> <PAD> <PAD> <PAD> <PAD> <PAD> <PAD> <PAD> <PAD> <PAD> <PAD> <PAD> <PAD> <PAD> <PAD> <PAD> <PAD> <PAD> <PAD> <PAD> <PAD> <PAD> <PAD> <PAD> <PAD> <PAD> <PAD> <PAD> <PAD> <PAD> <PAD> <PAD> <PAD> <PAD> <PAD> <PAD> <PAD> <PAD> <PAD> <PAD> <PAD> <PAD> <PAD> <PAD> <PAD> <PAD> <PAD> <PAD> <PAD> <PAD> <PAD> <PAD> <PAD> <PAD> <PAD> <PAD> <PAD> <PAD> <PAD> <PAD> <PAD> <PAD> <PAD> <PAD> <PAD> <PAD> <PAD> <PAD> <PAD> <PAD> <PAD> <PAD> <PAD> <PAD> <PAD> <PAD> <PAD> <PAD> <PAD> <PAD> <PAD> <PAD> <PAD> <PAD> <PAD> <PAD> <PAD> <PAD> <PAD> <PAD> <PAD> <PAD> <PAD> <PAD> <PAD> <PAD> <PAD> <PAD> <PAD> <PAD> <PAD> <PAD> <PAD> <PAD> <PAD>\n",
      "Prediction: [2.2361915e-17]\n",
      "Actual: 0\n"
     ]
    }
   ],
   "source": [
    "predict = model.predict([test_review])\n",
    "print(\"Review: \")\n",
    "print(decode_review(test_review))\n",
    "print(\"Prediction: \" + str(predict[0]))\n",
    "print(\"Actual: \" + str(test_labels[0]))\n"
   ]
  },
  {
   "cell_type": "markdown",
   "metadata": {},
   "source": [
    "File `model.h5` is stored in the HDF5 binary format."
   ]
  },
  {
   "cell_type": "code",
   "execution_count": 23,
   "metadata": {},
   "outputs": [],
   "source": [
    "model.save(\"model.h5\")\n",
    "model = keras.models.load_model(\"model.h5\")"
   ]
  },
  {
   "cell_type": "code",
   "execution_count": 24,
   "metadata": {},
   "outputs": [],
   "source": [
    "def review_encode(s):\n",
    "    # 1 is the <START> tag.\n",
    "    encoded = [1]\n",
    "    \n",
    "    for word in s:\n",
    "        if word.lower() in word_index:\n",
    "            encoded.append(word_index[word.lower()])\n",
    "        else:\n",
    "            encoded.append(2)\n",
    "            \n",
    "    return encoded"
   ]
  },
  {
   "cell_type": "code",
   "execution_count": 25,
   "metadata": {},
   "outputs": [
    {
     "name": "stdout",
     "output_type": "stream",
     "text": [
      "Of all the animation classics from the Walt Disney Company, there is perhaps none that is more celebrated than \"The Lion King.\" Its acclaim is understandable: this is quite simply a glorious work of art. \"The Lion King\" gets off to a fantastic start. The film's opening number, \"The Circle of Life,\" is outstanding. The song lasts for about four minutes, but from the first sound, the audience is floored. Not even National Geographic can capture something this beautiful and dramatic. Not only is this easily the greatest moment in film animation, this is one of the greatest sequences in film history. The story that follows is not as majestic, but the film has to tell a story. Actually, the rest of the film holds up quite well. The story takes place in Africa, where the lions rule. Their king, Mufasa (James Earl Jones) has just been blessed with a son, Simba (Jonathan Taylor Thomas), who goes in front of his uncle Scar (Jeremy Irons) as next in line for the throne. Scar is furious, and sets in motion plans to usurp the throne for himself. After a tragedy occurs and Mufasa is killed, Scar persuades Simba to flee, leaving himself as king. Simba grows up in exile, but he learns that while he can run away from his past, he can never escape it. When viewing the film, it is obvious that \"The Lion King\" is quite different from its predecessors (and successors). This is an epic story that contains more dramatic power than all the other Disney films combined. While there are definitely some light-hearted moments, there is no denying the dark drama that takes up the bulk of the story. While it could be argued that Disney is the champion of family entertainment, this film is not for the very young. Some of the sequences are very dark and violent, many bordering on frightening, even for the older crowd. The voice actors are terrific. Jonathan Taylor Thomas brings a large dose of innocence to Young Simba. He's mischievous, but also terribly naive. His older counterpart, voiced by Matthew Broderick, equals him. He's older, but no less mature. The voices are so similar that it's almost impossible not to believe that they are the same character at different ages. Perhaps no one could have been better suited for the role of Mufasa than James Earl Jones. His baritone voice gives the Mufasa a quality of great power and wisdom; there is no question that his role is king. As Scar, Jeremy Irons is pitch-perfect. The drawing of the character is villainous, but Irons' vocal work complements the animation to create one of the most memorable, and vicious, villains in Disney history. He's unquestionably evil, but he's also clever, which makes him all the more dangerous. Manipulation, not violence is his greatest weapon. Providing some much needed comic relief are Nathan Lane and Ernie Sabella as Timon and Pumbaa, two other outcasts (a meerkat and a warthog), and Rowan Atkinson as Zazu. While there is definite fun from these characters, neither the actors nor the filmmakers allow them to go over-the-top and destroy the mood of the film. Disney's animated features are known for their gorgeous artwork. Nowhere is this more apparent than in \"The Lion King.\" Every single frame is jaw-dropping. The colors are rich, and the drawings are sharp and beautiful. One of the pitfalls of animation (both computer and hand-drawn) is that there is sometimes a visible distance between the subject and the background, making it seem as if the figure animation was cut and pasted on the background (this is obviously what happens, but it is up to the artists to make sure that it isn't noticeable). There is none of that here. Throughout the Golden Age of Disney animation, the films have been musicals. \"The Lion King\" is no different, and the songs are brilliant. All of the numbers are standouts (\"Can You Feel the Love Tonight\" won the Oscar, but in my opinion, \"The Circle of Life\" was better). In the cases of Simba and Nala (Simba's girlfriend), both young and old, there is a noticeable difference between the speaking and singing parts (everyone else does their own singing and speaking), but never mind. It still works, and that's what's important. \"The Lion King\" is not flawless, but on first viewing, they aren't noticeable, and it is likely that the young won't ever notice them. \"Beauty and the Beast\" was the first animated film to get an Oscar nomination for Best Picture (it lost to \"The Silence of the Lambs\"), and is thus far the only animated film to receive such an honor. That being the case, it's hard to understand why \"The Lion King\" was not given the same distinction. The two films are more or less equal in quality, and the nominees for the honor that year were not strong. If you haven't already, see \"The Lion King.\" You won't be disappointed.\n",
      "[[ 3744   200     4   875     5     4   978   231    12   306    17    48\n",
      "      4   822   748    16   605     5 12625    23     4   978    14     9\n",
      "    540    51   571    21    12     9    56     8     4  2719     8    97\n",
      "    252    15    12   218  6456    50     9   600     7    15   133   469\n",
      "      4  2050   559     7   910   748     4   108    28    77  2769     4\n",
      "   3082   711     9    57   275     5     4   690    26   530    32     7\n",
      "      4  1396    26 16015    70    25   235     4   119  4487  1199     4\n",
      "    735    21    11    61   652     4  4246     7   113    16   128    11\n",
      "      4  2936     7 10539     5 35738 20403   980   199   185     5   154\n",
      "     50     9     6  6456  1474   200     4  1386     5  1118   531   316\n",
      "    334   127    68   205  1118     5  1386    21   115   330    12   131\n",
      "    495     5   198   803   674     4  3082   711     9    24  3562    21\n",
      "     23    86   829    36   713  6456     5    12     9  1329    15     4\n",
      "    185   528   126  1495    98   936     5     4  2773    16     4    86\n",
      "   1125    22     8    79    35   735  4372    18   118   431    12   416\n",
      "      8     4  3542     7     4 10721     5     9  1346   230     4    64\n",
      "   1125    22     8  3911   141    35  2898    15   112     4   420    45\n",
      "    254     8   391   138     4  3082   711    16    24   348     4   172\n",
      "   8076     4   107   108    26    53    42   329  3215    11   489     5\n",
      "      4 13341    18     4  2898    15   291    71    24   565    48    25\n",
      "    774   460    67     4  3082   711    25   528    30   685]]\n",
      "[0.9879731]\n",
      "1 positive\n"
     ]
    }
   ],
   "source": [
    "with open(\"lion_king_review.txt\", encoding=\"utf-8\") as f:\n",
    "    for line in f.readlines():\n",
    "        nline = line.replace(\",\", \"\").replace(\".\", \"\").replace(\"(\", \"\").replace(\")\", \"\").replace(\":\", \"\").replace(\"\\\"\", \"\").strip().split(\" \")\n",
    "        encode = review_encode(nline)\n",
    "        encode = keras.preprocessing.sequence.pad_sequences([encode], value=word_index[\"<PAD>\"], padding=\"post\", maxlen=250)\n",
    "        predict = model.predict(encode)\n",
    "        print(line)\n",
    "        print(encode)\n",
    "        print(predict[0])\n",
    "        if predict[0][0] > 0.5: \n",
    "            print(\"1\", \"positive\")\n",
    "        else:\n",
    "            print(\"0\", \"negative\")\n",
    "        "
   ]
  },
  {
   "cell_type": "markdown",
   "metadata": {},
   "source": [
    "This demonstrates that text is selected from the *end* of the review. Additional work would be required to get text at the beginning."
   ]
  },
  {
   "cell_type": "code",
   "execution_count": 26,
   "metadata": {},
   "outputs": [
    {
     "name": "stdout",
     "output_type": "stream",
     "text": [
      "distance between the subject and the background making it seem as if the figure animation was cut and pasted on the background this is obviously what happens but it is up to the artists to make sure that it isn't noticeable there is none of that here throughout the golden age of disney animation the films have been musicals the lion king is no different and the songs are brilliant all of the numbers are standouts can you feel the love tonight won the oscar but in my opinion the circle of life was better in the cases of simba and nala simba's girlfriend both young and old there is a noticeable difference between the speaking and singing parts everyone else does their own singing and speaking but never mind it still works and that's what's important the lion king is not flawless but on first viewing they aren't noticeable and it is likely that the young won't ever notice them beauty and the beast was the first animated film to get an oscar nomination for best picture it lost to the silence of the lambs and is thus far the only animated film to receive such an honor that being the case it's hard to understand why the lion king was not given the same distinction the two films are more or less equal in quality and the nominees for the honor that year were not strong if you haven't already see the lion king you won't be disappointed\n"
     ]
    }
   ],
   "source": [
    "print(decode_review(encode[0]))"
   ]
  },
  {
   "cell_type": "code",
   "execution_count": null,
   "metadata": {},
   "outputs": [],
   "source": []
  }
 ],
 "metadata": {
  "kernelspec": {
   "display_name": "venv363ml001",
   "language": "python",
   "name": "venv363ml001"
  },
  "language_info": {
   "codemirror_mode": {
    "name": "ipython",
    "version": 3
   },
   "file_extension": ".py",
   "mimetype": "text/x-python",
   "name": "python",
   "nbconvert_exporter": "python",
   "pygments_lexer": "ipython3",
   "version": "3.6.3"
  }
 },
 "nbformat": 4,
 "nbformat_minor": 2
}
